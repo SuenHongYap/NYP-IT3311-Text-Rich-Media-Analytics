{
 "cells": [
  {
   "attachments": {
    "NYPLogo.png": {
     "image/png": "[encoded data removed]"
    }
   },
   "cell_type": "markdown",
   "metadata": {},
   "source": [
    "![NYPLogo.png](attachment:NYPLogo.png)\n",
    "\n",
    "# IT3311 Assignment - Task 1: Text Classification\n",
    "\n",
    "You are required to build a text classification model to predict the video category based on its title and transcript.\n",
    "\n",
    "**Tasks:**\n",
    "\n",
    "1. **Data Understanding**: Examine the dataset\n",
    "2. **Data Preparation**: Prepares the data and all necessary preprocessing tasks\n",
    "3. **Modelling**: Use different text representation and algorithms\n",
    "4. **Evaluation**: Evaluates results from the algorithms and select the best model\n",
    "\n",
    "**Done by: Yap Suen Hong (200562J)**"
   ]
  },
  {
   "cell_type": "markdown",
   "metadata": {},
   "source": [
    "## Import libraries and download the packages"
   ]
  },
  {
   "cell_type": "code",
   "execution_count": 33,
   "metadata": {},
   "outputs": [
    {
     "name": "stderr",
     "output_type": "stream",
     "text": [
      "[nltk_data] Downloading package stopwords to\n",
      "[nltk_data]     C:\\Users\\Admin\\AppData\\Roaming\\nltk_data...\n",
      "[nltk_data]   Package stopwords is already up-to-date!\n",
      "[nltk_data] Downloading package punkt to\n",
      "[nltk_data]     C:\\Users\\Admin\\AppData\\Roaming\\nltk_data...\n",
      "[nltk_data]   Package punkt is already up-to-date!\n",
      "[nltk_data] Downloading package wordnet to\n",
      "[nltk_data]     C:\\Users\\Admin\\AppData\\Roaming\\nltk_data...\n",
      "[nltk_data]   Package wordnet is already up-to-date!\n",
      "[nltk_data] Downloading package averaged_perceptron_tagger to\n",
      "[nltk_data]     C:\\Users\\Admin\\AppData\\Roaming\\nltk_data...\n",
      "[nltk_data]   Package averaged_perceptron_tagger is already up-to-\n",
      "[nltk_data]       date!\n"
     ]
    }
   ],
   "source": [
    "import pandas as pd\n",
    "import nltk\n",
    "\n",
    "nltk.download('stopwords')\n",
    "nltk.download('punkt')\n",
    "nltk.download('wordnet')\n",
    "\n",
    "# Enter code here\n",
    "import numpy as np\n",
    "import matplotlib.pyplot as plt\n",
    "import nltk\n",
    "import string\n",
    "\n",
    "# Enter code here\n",
    "import pandas as pd\n",
    "\n",
    "nltk.download('averaged_perceptron_tagger')\n",
    "\n",
    "from nltk.corpus import stopwords \n",
    "from nltk.tokenize import word_tokenize, sent_tokenize \n",
    "stop_words = set(stopwords.words('english'))\n",
    "\n",
    "from sklearn.feature_extraction.text import TfidfVectorizer\n",
    "\n",
    "from nltk.stem.wordnet import WordNetLemmatizer\n",
    "\n",
    "import gensim\n",
    "from gensim import corpora\n",
    "\n",
    "import string\n",
    "from pathlib import Path\n",
    "from pprint import pprint\n",
    "\n",
    "import re\n",
    "from gensim.parsing.porter import PorterStemmer\n",
    "porter_stemmer = PorterStemmer()\n",
    "\n",
    "from nltk.probability import FreqDist\n",
    "from sklearn.model_selection import train_test_split\n",
    "\n",
    "from sklearn.feature_extraction.text import TfidfVectorizer\n",
    "from sklearn.naive_bayes import MultinomialNB\n",
    "from sklearn.metrics import accuracy_score\n",
    "from sklearn.multiclass import OneVsRestClassifier\n",
    "from sklearn.svm import LinearSVC\n",
    "from sklearn.linear_model import LogisticRegression\n",
    "from sklearn.pipeline import Pipeline\n",
    "import seaborn as sns\n",
    "\n",
    "\n",
    "from sklearn.tree import DecisionTreeClassifier\n",
    "from sklearn.metrics import accuracy_score\n",
    "from sklearn.metrics import classification_report\n",
    "from sklearn.metrics import confusion_matrix\n",
    "from sklearn.linear_model import LogisticRegression\n",
    "from sklearn.neighbors import KNeighborsClassifier\n",
    "from sklearn import metrics\n",
    "from sklearn.naive_bayes import GaussianNB\n",
    "from sklearn.ensemble import RandomForestClassifier\n",
    "from sklearn.ensemble import GradientBoostingClassifier\n",
    "from sklearn.metrics import roc_auc_score\n",
    "from sklearn.metrics import log_loss\n",
    "from sklearn.metrics import matthews_corrcoef\n",
    "from sklearn.metrics import cohen_kappa_score\n",
    "\n",
    "from sklearn.decomposition import TruncatedSVD\n",
    "from sklearn.preprocessing import Normalizer\n",
    "\n",
    "from sklearn.feature_extraction.text import CountVectorizer\n",
    "from sklearn.metrics import multilabel_confusion_matrix"
   ]
  },
  {
   "cell_type": "markdown",
   "metadata": {},
   "source": [
    "## Read the dataset"
   ]
  },
  {
   "cell_type": "code",
   "execution_count": 2,
   "metadata": {
    "scrolled": true
   },
   "outputs": [
    {
     "data": {
      "text/html": [
       "<div>\n",
       "<style scoped>\n",
       "    .dataframe tbody tr th:only-of-type {\n",
       "        vertical-align: middle;\n",
       "    }\n",
       "\n",
       "    .dataframe tbody tr th {\n",
       "        vertical-align: top;\n",
       "    }\n",
       "\n",
       "    .dataframe thead th {\n",
       "        text-align: right;\n",
       "    }\n",
       "</style>\n",
       "<table border=\"1\" class=\"dataframe\">\n",
       "  <thead>\n",
       "    <tr style=\"text-align: right;\">\n",
       "      <th></th>\n",
       "      <th>Id</th>\n",
       "      <th>Channel</th>\n",
       "      <th>Title</th>\n",
       "      <th>Category</th>\n",
       "      <th>Transcript</th>\n",
       "    </tr>\n",
       "  </thead>\n",
       "  <tbody>\n",
       "    <tr>\n",
       "      <th>1</th>\n",
       "      <td>RN8yoi-e2yc</td>\n",
       "      <td>Mythical Kitchen</td>\n",
       "      <td>$420 Pizza Hut Stuffed Crust Pizza | Fancy Fas...</td>\n",
       "      <td>Food</td>\n",
       "      <td>- Oh, that's dirty.\\r\\n- Wow! - Whoa.\\r\\n- You...</td>\n",
       "    </tr>\n",
       "    <tr>\n",
       "      <th>2</th>\n",
       "      <td>IugcIAAZJ2M</td>\n",
       "      <td>Munchies</td>\n",
       "      <td>The Iconic $1 Pizza Slice of NYC | Street Food...</td>\n",
       "      <td>Food</td>\n",
       "      <td>if you want good pizza come to st marks it's t...</td>\n",
       "    </tr>\n",
       "    <tr>\n",
       "      <th>3</th>\n",
       "      <td>JiEO6F8i0eU</td>\n",
       "      <td>Parks and Recreation</td>\n",
       "      <td>Ron Swanson: The Papa of Pawnee | Parks and Re...</td>\n",
       "      <td>Entertainment,Comedy</td>\n",
       "      <td>April where have you been over two phone calls...</td>\n",
       "    </tr>\n",
       "    <tr>\n",
       "      <th>5</th>\n",
       "      <td>0ZWGeidvrJw</td>\n",
       "      <td>Doctor Who</td>\n",
       "      <td>The Doctor Defeats the Abzorbaloff | Love and ...</td>\n",
       "      <td>Entertainment</td>\n",
       "      <td>Oh, what's the matter?\\r\\nHave you given up so...</td>\n",
       "    </tr>\n",
       "    <tr>\n",
       "      <th>6</th>\n",
       "      <td>YiEj9mrqTN0</td>\n",
       "      <td>A&amp;E</td>\n",
       "      <td>Live PD: Most Viewed Moments from Walton Count...</td>\n",
       "      <td>News</td>\n",
       "      <td>[music playing] We'll be on Laverne Street. It...</td>\n",
       "    </tr>\n",
       "  </tbody>\n",
       "</table>\n",
       "</div>"
      ],
      "text/plain": [
       "            Id               Channel  \\\n",
       "1  RN8yoi-e2yc      Mythical Kitchen   \n",
       "2  IugcIAAZJ2M              Munchies   \n",
       "3  JiEO6F8i0eU  Parks and Recreation   \n",
       "5  0ZWGeidvrJw            Doctor Who   \n",
       "6  YiEj9mrqTN0                   A&E   \n",
       "\n",
       "                                               Title              Category  \\\n",
       "1  $420 Pizza Hut Stuffed Crust Pizza | Fancy Fas...                  Food   \n",
       "2  The Iconic $1 Pizza Slice of NYC | Street Food...                  Food   \n",
       "3  Ron Swanson: The Papa of Pawnee | Parks and Re...  Entertainment,Comedy   \n",
       "5  The Doctor Defeats the Abzorbaloff | Love and ...         Entertainment   \n",
       "6  Live PD: Most Viewed Moments from Walton Count...                  News   \n",
       "\n",
       "                                          Transcript  \n",
       "1  - Oh, that's dirty.\\r\\n- Wow! - Whoa.\\r\\n- You...  \n",
       "2  if you want good pizza come to st marks it's t...  \n",
       "3  April where have you been over two phone calls...  \n",
       "5  Oh, what's the matter?\\r\\nHave you given up so...  \n",
       "6  [music playing] We'll be on Laverne Street. It...  "
      ]
     },
     "execution_count": 2,
     "metadata": {},
     "output_type": "execute_result"
    }
   ],
   "source": [
    "# Read in food_reviews.csv and display the first 5 lines of the data\n",
    "df = pd.read_csv(\"videodata.csv\", index_col=0)\n",
    "#Print out data frame\n",
    "df.head()"
   ]
  },
  {
   "cell_type": "markdown",
   "metadata": {},
   "source": [
    "## Data Understanding\n",
    "Perform the necessary steps and explain the rationale taken here.\n",
    "\n"
   ]
  },
  {
   "cell_type": "code",
   "execution_count": 3,
   "metadata": {},
   "outputs": [
    {
     "name": "stdout",
     "output_type": "stream",
     "text": [
      "<class 'pandas.core.frame.DataFrame'>\n",
      "Int64Index: 1589 entries, 1 to 2514\n",
      "Data columns (total 5 columns):\n",
      " #   Column      Non-Null Count  Dtype \n",
      "---  ------      --------------  ----- \n",
      " 0   Id          1589 non-null   object\n",
      " 1   Channel     1589 non-null   object\n",
      " 2   Title       1589 non-null   object\n",
      " 3   Category    1589 non-null   object\n",
      " 4   Transcript  1589 non-null   object\n",
      "dtypes: object(5)\n",
      "memory usage: 74.5+ KB\n"
     ]
    }
   ],
   "source": [
    "df.info()"
   ]
  },
  {
   "cell_type": "code",
   "execution_count": 4,
   "metadata": {},
   "outputs": [
    {
     "data": {
      "text/plain": [
       "(1589, 5)"
      ]
     },
     "execution_count": 4,
     "metadata": {},
     "output_type": "execute_result"
    }
   ],
   "source": [
    "df.shape"
   ]
  },
  {
   "cell_type": "markdown",
   "metadata": {},
   "source": [
    "This step is to check for any duplicates datas to remove"
   ]
  },
  {
   "cell_type": "code",
   "execution_count": 5,
   "metadata": {},
   "outputs": [
    {
     "data": {
      "text/plain": [
       "0"
      ]
     },
     "execution_count": 5,
     "metadata": {},
     "output_type": "execute_result"
    }
   ],
   "source": [
    "df['Transcript'].duplicated().sum()"
   ]
  },
  {
   "cell_type": "code",
   "execution_count": 6,
   "metadata": {},
   "outputs": [
    {
     "data": {
      "text/plain": [
       "1"
      ]
     },
     "execution_count": 6,
     "metadata": {},
     "output_type": "execute_result"
    }
   ],
   "source": [
    "df['Title'].duplicated().sum()"
   ]
  },
  {
   "cell_type": "code",
   "execution_count": 7,
   "metadata": {
    "scrolled": true
   },
   "outputs": [
    {
     "data": {
      "text/plain": [
       "0"
      ]
     },
     "execution_count": 7,
     "metadata": {},
     "output_type": "execute_result"
    }
   ],
   "source": [
    "df.duplicated().sum()"
   ]
  },
  {
   "cell_type": "markdown",
   "metadata": {},
   "source": [
    "This step is to check for any null value in the dataset"
   ]
  },
  {
   "cell_type": "code",
   "execution_count": 8,
   "metadata": {},
   "outputs": [
    {
     "data": {
      "text/plain": [
       "Id            0\n",
       "Channel       0\n",
       "Title         0\n",
       "Category      0\n",
       "Transcript    0\n",
       "dtype: int64"
      ]
     },
     "execution_count": 8,
     "metadata": {},
     "output_type": "execute_result"
    }
   ],
   "source": [
    "df.isnull().sum()"
   ]
  },
  {
   "cell_type": "code",
   "execution_count": 9,
   "metadata": {
    "scrolled": true
   },
   "outputs": [
    {
     "name": "stdout",
     "output_type": "stream",
     "text": [
      "Review 1:\n",
      " \"Stretching before you\r\n",
      "is the Makgadikgadi. These are the biggest salt flats\r\n",
      "in the world, almost completely lifeless\r\n",
      "and as wide as Portugal. No car has ever driven across them. If you run out of water you will die. If your car breaks down\r\n",
      "and you can't be rescued, you will die. If you run out of food, you will die. It's like driving on a crème brûlée. There's a primeval ooze\r\n",
      "covered with a thin layer of salty crust. If you have thin tyres,\r\n",
      "you will break through that crust, get stuck and you will die.\"\r\n",
      "So it advises: \"To fit fat tyres and remove as much\r\n",
      "weight as possible before setting off.\" Well, how hard can it be? Don't say that! In camp, the weight-shedding began. Ready? That doesn't work. Thanks awfully. Wow, feel how much this seat weighs. Like your work. Fuel filler, I'll need that, maybe. I don't want to take the hub caps off,\r\n",
      "really, 'cause they protect the... hubs. -Can I point something out?\r\n",
      "-What? Hammond's walking around his car,\r\n",
      "muttering about how he needs all of it. I know exactly what he's doing. He's formed an emotional attachment,\r\n",
      "hasn't he? It'd be like saying to him:\r\n",
      "\"Could you cut bits off your wife?\" What are you doing? I was going to take the radiator grill off\r\n",
      "on the basis that it's just an ornament. -Can I help you?\r\n",
      "-Please do. -Do you want your windows out?\r\n",
      "-No, they're fine! -I've worked that out because...\r\n",
      "-This is old glass. Very thin glass. Very thin. God, they come off easily. -James.\r\n",
      "-Yes. -Using nothing but a hammer.\r\n",
      "-Yes. -Here's your beer.\r\n",
      "-Thank you, mate. Have we lost enough weight now? You haven't lost an ounce! I've lost the spare wheel\r\n",
      "and something else. Now, look at mine.\r\n",
      "I'm going to need some guide ropes to stop it floating away,\r\n",
      "like a big balloon. -So, tomorrow we die, then.\r\n",
      "-No, I think it's like all these things. -It's exaggerated.\r\n",
      "-We'll be fine. Honestly, we're going to be fine.\r\n",
      "We've done enough The next morning,\r\n",
      "on the edge of the salt pans, we thought we'd come under attack\r\n",
      "from a Bond villain. But it turned out to be\r\n",
      "the vice president of Botswana. -That is a... [bleep] cool ride.\r\n",
      "-Yeah, it is. It's better than an official Rover 75\r\n",
      "and a couple of policemen on motorbikes. He was amazed to hear\r\n",
      "what was being planned. I've just never known\r\n",
      "anybody to go across in a car. This should be the first time, I think. There they are. -Oh, really?\r\n",
      "-Yeah. -Oh, really?\r\n",
      "-Yes. Right across... That should be interesting. You were smiling. You've just stopped. Buoyed by\r\n",
      "the vice president's optimism, we set off. Nothing really prepares you\r\n",
      "for the sheer size of these. I think, in a way,\r\n",
      "that it is more frightening than the Pole. Just absolutely nothing.\r\n",
      "You can see the curvature of the Earth. As we ploughed on,\r\n",
      "the little Opel was going well. Oliver is just skipping. Boo! This car was born to do this! Sadly though, despite the weight-shedding,\r\n",
      "my Lancia was not doing so well. Judging by the way the tyres are\r\n",
      "kind of digging in as I'm driving along, I think a little bit more has to come out. Still, as you can see\r\n",
      "from the tyres' grooves, I was doing better than the Merc. I'm looking at James's rear wheel\r\n",
      "and he's digging in a long way. I tried to help him along. Really helpful. Well, there's always the Beetle, James. It's waiting for you. -What are you going to do? It's sinking.\r\n",
      "-How far is that? A mile? If that. My Lancia waded in again. Just a nudge. -That's a crash.\r\n",
      "-There's a thing. Unfortunately, because it was\r\n",
      "an automatic, it was useless. So, we told Richard to try. But he didn't want to hurt Oliver. This was hopeless,\r\n",
      "so, we had to rope in the camera crew. Three, two, one! Because the ooze was so bad, we had to get even more drastic\r\n",
      "with the weight-shedding. We toiled away for hours. Da-da! Oh,, God! Well, two of us did. And then, finally, we were ready. Now, this is light. Lancia Beta Coupe Superleggera! Another modification This is excellent. Why don't all cars have no doors? When I come to power, I'm going to make it\r\n",
      "a rule, 'cause this is just better. However, the Makgadikgadi\r\n",
      "was not going to let us off that lightly and soon even our super-lightweight cars\r\n",
      "started to struggle again. Come on, just... Oh, yes. No, this isn't good. Oh, no. Only the Opel remained trouble-free,\r\n",
      "which was bad news for me. Yes! Come on, man! I'll go forwards, Hammond,\r\n",
      "then we'll do it again. Hang on. How far is it? Another five or six yards\r\n",
      "and we might be Bobby. Oh, this is just horrible! Keep going, keep going, keep going! Yes! Yes! No! James, don't go there. You'll get stuck. That's close. Come on! Permission to say cock. Can we have everybody? We'll push it off. We need 100 men or more. No. This is hopeless. People of Surrey, you need\r\n",
      "four-wheel drive for this bit. The gunk was so sticky it had completely\r\n",
      "jammed the Lancia's rear wheels. I can't describe... -You just think it's just mud....\r\n",
      "-Do you know what it is? Fish! It's just rotted, prehistoric fish. One, two, three. Mercifully the ground eventually hardened\r\n",
      "and we made good progress. But then suddenly the horizon\r\n",
      "was no longer flat. Now, this is interesting because we're now\r\n",
      "coming between what look like islands. And I suppose they are. This was a lake,\r\n",
      "so, they would have been islands. Amazing. Absolutely amazing. Where are we? It's called Kubu Island. We're about... a third of the way across. And you've been stuck about 1,000 times. That is smug. A Baobab tree.\r\n",
      "I've always wanted to see one of those. -Hammond, look at this.\r\n",
      "-Whoa! It is just about\r\n",
      "the most astonishing place I've ever been. I'm with you there. As the sun set,\r\n",
      "we headed for the campsite.\n",
      "Review 2:\n",
      " so this must be one of the rarest vehicles in the world this is a VBIED vehicle born improvised explosive device a suicide bombers truck captured before it could detonate it's been incredibly carefully built these wire protection structures they may look faintly ridiculous like something you might find in a garden center fact they are almost 100 percent effective against rocket-propelled grenades going head-on this would have been very hard to stop with a standard infantry weapon all of this is homemade armor it's been welded on again to allow the vehicle to get through even the engine is inside an armored block and again you have what's called this bar armor to protect the driver with a very small bulletproof windscreen there the whole idea of this is not to keep the driver alive indefinitely but long enough to get absolutely close to its final target so that so that so that the their enemies can be destroyed now these have been put to absolutely devastating ends now here we've got some Peshmerga who are enjoying experiencing life behind their even starting the engine for us this is the very seat where a suicide bomber would have driven to his death trying to take as many Peshmerga fighters with them as they can this is a standard suburban vehicle that has been turned into one of the most fearsome weapons in this war of improvisation now let's take a look at what goes on in the back cab again another armoured structure here to prevent anybody shooting the driver from behind very carefully thought through quite skillfully put together quite honestly a pretty frightening notion now packed into this and protected again by yet more armor against premature detonation even the wheels even the wheel hubs have got covers over them the whole idea is that this vehicle mustn't be stopped until it can be finally stopped in a devastating and in the back of this the pesh MERGA found 25 jerry cans packed with what they call tnt it's actually plastic explosive that be enough to destroy a couple of tanks at the very least an absolutely ferocious weapon and one mercifully and very rarely was able to survive and be captured this is not only a kind of result as far as the Peshmerga are concerned it's also an incredibly important intelligence tool by deconstructing how this was put together they can better figure out how to destroy it\n",
      "Review 3:\n",
      " well Scully Hitchcock and Daniel's they're pretty much worthless but they make good coffee cut that not a good ones Rosa Diaz tough smart hard to read and really scared somebody who has me for Secret Santa oh that takes all the fun out of it it's Scully you got your scarf I'll make him return it yes you will Charles Boyle he's a grinder not the most brilliant detective but he works harder than anyone else he's not physically oh man my muffin oh my head I'm up in my head he stepped on him on my muffin in my head on my muffin Amy Santiago she's got seven brothers so she's always trying to prove she's tough careful that stuff's pretty hot oh is it she and Peralta have some big bet over who gets more arrests this year ever since the bet their numbers have gone way up tell me about Peralta Jacob Peralta is my best detective he likes putting away bad guys and he loves solving puzzles the only puzzle he hasn't solved is how to grow up [Music]\n",
      "Review 4:\n",
      " so I just wanted to do little streaming thing just to practice my streaming skills I guess but also I just wanted to show people building a website from scratch so what we're doing here is we're in front and mentor do I heard about this from ripley erin on instagram and this sites really cool basically it has all these different challenges where you can get actual web designs and you can like learn how to build them well not learn you can try to build them I'm gonna do this one and yeah the site's really neat basically you can download a jpg design files and other things and they have a little bit of starter code so we'll sort of take a look at that so wants to check out files here so I just created a new folder to make this website in this folder here is the actual design that I downloaded so let's just take a quick look here so this is everything opened in vs code oh hello hello time writer 27 thanks for joining us yeah y'all know this is like the first time I'm streaming so I will probably say a lot of ohms and odds and maybe you make mistakes maybe have to Google things that I've forgotten so I'm sure it'll be fun okay so we're up here in Visual Studio code I'm just kind of going through the design files that I got from front-end mentor I oh um so yeah just makes it really easy for you they basically give you everything that like your designer shouldn't be giving you so there's like P and G's SVG's and then they have the actual sort of comps of what the full websites supposed to be so this is the desktop one this is I guess it's just like a they're using this for the website promo and then this is the mobile design so you can see it's a pretty simple website this is just a one page thing so at the top we have a hero area up here with the CTA call-to-action button and then in the middle section is just you know some content it looks like on desktop it is three columns so you have this image here then you have two text columns then right below that you have another sort of CT a call to action area where you can sign up to join their mailing list er whatever that is and we've got a footer at the bottom with three columns on desktop so what I usually do when I get a design is let's see sorry navigated to weird thing what I usually do when I get a design is I look at the files just try to sort of wrap my head around what I'm gonna have to be building and I also like to compare what the desktop version and the mobile version look like and usually I'll get a desktop design and a mobile design sometimes I'll get tablet designs but that doesn't happen very often and usually what I end up doing is the tablet version is sort of like a mix between the desktop and the mobile versions depending on you know what seems make sense so let's just compare what we got for desktop and mobile I actually opened them up separately here just so you can kind of see them side-by-side okay so let's start start up with the top here area they look this top header looks the same for both desktop and mobile your logo on the left then you have some links on the right side and then below that you have the hero which is two columns on desktop and then on mobile it's stacks and it looks also like on mobile the order changes meaning on desktop you have the text in the button on the left side meaning it's first and then the image is on the right side second on mobile that's switched so the image the image is first and then the the text part in the CTA our second so we can use flexbox or something to sort of change the order of that when we get to it so let's move on down the middle section looks like it's a pretty simple sort of stacking on mobile thing you know usually what happens is in desktop you'll have things kind of span multi columns and then when you have things on mobile you kind of make all those columns that are next to each other just kind of stack underneath each other so that's what people usually mean when they say you know stack stack this content on mobile other than the stacking it seems pretty much the same like the order the same on both desktop and mobile so that should be fairly easy and then we got the CTA area which also seems kind of the same except for undeath side you can see the textbox and the button are next to each other and then on mobile they stack so let's check out the footer I move this up so my picture is not in the way but the footer yeah so you got three columns on desktop and then it's stacks on mobile and the order does change on the footer you can see the last section on the desktop design is the like the form signup and then on mobile it is second in the order so and then these links which are in the middle second in the second position on desktop are at the end on mobile so yeah so this is a relatively simple you know three to four section in one page website so if you're making a website for a small business this is gonna be pretty much the kind of website you'll probably new making you know some I mean some small business websites might have like an about page or a contact page or even a blog section this is just kind of a simple like promotional landing page almost so Oh hi okay Sarah yeah yes good sorry I'm trying to I'm realizing that streaming involves lots of multitasking so I'll try to monitor the chat as I go on but so yes and these are the designs and we can get started with actually coding the site let me just show you what I got right now so again this this folder was where I got all the design files and stuff and then I made another folder called website and that's where we'll be making the actual website so I don't know if you all like follow me on Instagram or how you found out about this but I recently did a little tutorial on using parcel for your friend front-end web dev like workflow and I use parcel right now to compile my SAS files and my JavaScript files and it's similar to web pack or gulp but parcel just requires a lot less setup if you're curious about it you can check my blog it's at coder - coder calm and you can check out that tutorial I've found parcel very easy to work with so I like it a lot anyway out of all that I created this project that I'm kind of using is like my starter project files for front-end website stuff so I'm gonna copy those files over to the website folder so we can sort of get started more quickly so copy the app folder the app folder is gonna have like sass and JavaScript files and then when they get processed by parcel they will end up in the dist folder so you can see here this is from the the parcel project it has all the compiled CSS and JavaScript files my writer says so when you first get a project to work on you design the whole website friend backend it depends on the project what I'm doing right now is really just doing the front-end if I get a design or something for like a work project it depends let's see oh if I make all the graphics in scratch oh I don't have any design skills so when I get a project I'm completely dependent on like the actual designer on the project making all those files and images and then I just kind of put them into the website if that makes sense which is why I think this front-end mentor website is really cool because it really gives you everything that you would be getting for like an actual web development project so hope that answers your question ok so let me just copy the files from the boilerplate my parcel boilerplate thing I think that's all I need so we're popping that into the website folder and let's just close this out okay now I'm going to what I'm doing right now is I have to check and make sure parcel works so first thing is I'm going to npm install so this is gonna install all the packages from the package.json file into the website project so I got to be honest this is not my favorite part of website projects I don't really like spending a lot of time doing setup and stuff so that's why I really like parcel because it makes this process a bit quicker okay let's just see if this works so another cool thing that parcel does that we'll be using is when you run parcel it will actually spin up a like a staging server for you that will automatically update itself every time you make a change to your CSS so to run that you just type parcel and then you type in the HTML file that you want to process let's see if everything's working okay cool and then we will you can see our staging site at localhost port one two three four so let's do that now cool so another thing that I always do when I'm building a website and this is just the all this stuff from the parcel project so you can guess we're gonna change all this stuff but I like to keep my developer tools open just because it's a really easy way to if you inspect this element you can see all the CSS styles on the other side let me try to zoom in so it's a little bit more readable for you guys okay so I think we're ready to go looks like everything's working cool so I will just open up index.html I don't really need this stuff because this is from the parcel project so I'm just going to sort of get rid of that actually I'm gonna think we need JavaScript because this is just pretty much just a pure CSS project so I think I might actually just delete that - cool then place the title here landing page this is called silo silo landing page add some test stuff here and then you can I don't know if you caught that but when I save this file it rebuilt the project so okay now it looks like this cool okay let's go back to these designs here so the first why so when I'm making a website the approach that I usually use is I will kind of build things section by section like I'm not gonna just try to write out all the HTML for like everything I just will say you know start with the header then do the hero and basically make my way down the page and then the footer lasts so I can just kind of focus on each section and one at a time so now I'm not working on too many different things at the same time but I think with this project so they actually supply you some yeah so so this is this is the index.html file from a friend and mentor website and they kind of gave you the all the text that you'll need so and then this little attribution thing here so we can kind of use this too yeah we can just kind of copy that as we go as we go along okay sorry this is hopefully it's isn't too awkward for all of you watching but okay let's do the header first and I don't know if everyone does this but I just kind of I'd make the desktop version first and then I make I make it responsive and so I'll update the CSS for the mobile version but okay we're just going to start with the header and I do try to use semantic hTML when I can because otherwise everything's just like div div div and it's it's like de vidas I think is what some people call it where you just have a whole bunch of divs I think one of the benefits of using semantic HTML tags is that it kind of makes more sense when you're looking through the code to make changes and stuff later okay so we got a logo section here and two links so this is all going to be in the header see what that logo image was [Music] hello go okay so what I'm gonna do is I'm actually gonna copy this file and this is I just have this folder here to just kind of hold all the design assets but I want everything to be in my website folder so what I'm gonna do is let's just create a new folder here in dist so again I'm working in the s and I'm working the sass files and JavaScript files although not JavaScript for this project I'm working the sass files which is contained in the app folder but I don't really need to process the image files so I'm just going to create a new folder under disks hopefully it doesn't get deleted when I run the parcel but so I'm creating an image folder now I'm going to paste in the logo okay cool so let's see if this works you just say class logo and did and you know I think everyone has a different way of how they write their HTML and how they do their CSS classes but for images I usually like to just use I like to create a div and then set the image as the background image because I feel like I have more control over how it ends up looking okay so I'm also gonna move this style sass folder over here see this is just the test code that I'd I had for the parcel package again let's see Oh time writer says are you there during the design state of your input or that stage strictly designers it depends on the company ideally I would be involved at least in looking at the design before we get the final client approval otherwise you know they might design something that's very difficult to build in a website but yeah so usually you know I'll be there as part of the internal design review and then once it's approved internally it'll get sent over to the client then once the client approves it then it goes back to it goes back to me and then I start building it but I'm not like super involved in like the like every design decision that's made sometimes designers might come to me and ask me questions if they're not sure if something is feasible to build in a website cool okay I'm just going to delete all this CSS I don't really need right now let's see what else there wasn't that file a landing page thing I think I saw a style guide here too okay it sounds work ready to fall it's 375 from mobile 1440 pixels for desktop okay these are the colors um HSL I'm actually not sure what that is so I'm just gonna be like super honest about things that I don't understand so um wait let's look at that again HSL so I don't know what that is so I will look up on DuckDuckGo alright let's see what they say HSL is was it hue saturation and lomasa t so what I want to do is I want a hex code that's kind of weird that they didn't give me the hex colors honestly okay I'm just gonna look up what the HSL can bring the HSL colors and I'm gonna add those in as SAS variables and then we'll move on to setting up the fonts yeah so I'm I'm not sure how long I'm gonna be streaming I'm assuming maybe two hours max since we're almost half an hour through but I'm not at all planning on finishing this website in like an hour too so take a little bit longer than that especially with streaming and stuff at the same time but okay HSL to hex okay yeah man that's like kind of weird that they did that but anyway it's this hold on I'm just gonna check if there's a SAS mixing for HSL okay that's fine we're just gonna manually convert it okay so 243 and then 86 and 85 okay cool hopefully that's the right color okay cool I'm just gonna move this back over here because I'm gonna try to keep the actual website files on the left side and then like the design design files on the right side just so it's a bit clearer so one thing that I do like to do with my sass is to kind of organize them into multiple files so I'm actually going to [Music] gonna copy this I'm gonna make a new sass file and call it global mm-hmm thought FCSS and in the actual style the SCSS I'm not gonna have any actual CSS but I'm just going to import this should work I'm just going to make sure that what I wrote works oops what happened oh I got rid of the stuff I got rid of the Markab that I had added let's just test really quick but yeah feel free to ask questions as I go if anything doesn't make sense or you catch me making a mistake that's totally fine [Music] it looks like the CSS is not working okay I need to go back and fix this oh I know why geez because I you need that script you me that's JavaScript file to load everything else sorry you just need to bring that back okay so I'm just I just recopied it because what happens is let me just show you why this wood broke but mmm the script.js file well that's where your reloading the style lot s CSS so because I remove that reference to the JavaScript file it just didn't look at any of the CSS Theodosius thank you so much for walking us through yeah um I'll turn about this is not boring as possible but I just feel like yeah I'm happy to build this it's kind of fun little projects and you know hopefully I can save you all something how can I get something else oh I see okay this is saying that color white doesn't exist because here we're just gonna delete this stuff because we're not actually using it yeah wait why is it messing up Oh color white is still there so this is messing up because originally there was I had created a SAS variable at the very top saying that dollar sign white equals the white color like hashtag or pound FFF I remove that so that's why this is looking for that variable and it's not there that's why it's throwing that eros I'm just going to delete that save it again and then so I might have to cancel this and then rerun parcel and there hopefully will not be an error now okay looks like it's okay now all right cool okay looks like these styles are showing up correctly yeah let me know if this stuff here on the right is like readable through you I can try to make it a little bit bigger cool okay sorry that took so long but looks like these styles are indeed working so let's get back to the colors that we were trying to do or actually get back to organizing our SAS files so as I was mentioning in my SAS folder I'm using the Sava scss like the main SAS file to only import other files so this import global is importing everything from here so what actually like to do is create a lot of different SAS files because like I'll make one for each different part of the website each different block so we're gonna make one for colors and then just this cuz we don't need it and I'm going to add another import statement about importing colors so this is where we're going to create some variables for the colors that they have here so we'll say was it soft blue is and what was that that's good says this one soft blue cool and the next one is very dark blue so we're just gonna copy and paste all that stuff here 87 and 12 and I've honestly never used HSL colors in my life that is a great dark blue so we'll make another variable very dark blue and then so these are the primary colors and then these are accent colors yeah we'll just add a little comment here I like adding comments to my code because it helps keep things organized and also like you really want to be able to quickly be able to navigate through code either yourself like in the future like three weeks from now if I came back and I had to make changes to this project things like comments and just writing code that's very quickly understandable and quickly readable helps save a lot of time or if another you know let's say I was working on this project for a client and I built the website and then I'm gone and then they had to get another developer in to make changes of some kind it'll help them out a lot if the code that they have to wade through is like you know easy to navigate and stuff so that's why I try to keep my code as organized as I can okay next one is green so yeah there's a lot of copying and pasting and web development 95 and 43 so if you're easily bored this may be painful for you and I apologize but this is this is real life guys copying and pasting okay next one is dark blue 243 and then it was 58 and 33 so okay neutral I don't know if I need a comment for this necessarily because there's only one color but whatever gray HSL 0-0 50 okay Oh Ian Duke says I never work with HSL either only hex RGB I think you can declare like this oh man that was a waste of time all right let's see if this works I mean I've no doubt that you're right I just never honestly never worked with this before seems like it's working let's do a test color what was it soft blue oops was that wrong oh I didn't know I did import the colors why is this not working this is weird I mean just make sure I copied that right oh I know why colors needs to be before global because when when you compile your staffs to CSS it'll like do it in order that you sort of imported them so because the variables are on here before I was importing the global styles and I was trying to load this color soft blue before it actually loaded what the variable actually was so that's why that wasn't working but yeah seems like it is working okay thank you Ian for that tip that was a lot of extra time I didn't have to spend converting it but well I guess I learned something new okay so we got our colors I guess just for the sake of be consistent I'm just I'm just gonna do this and kind of manually copy everything just so it's all the same again just being consistent with your code I think is kind of important so it's not like Messi Tamara is my first job software to convert CD c++ oh boy and the comments from the last developer did to help me a lot yeah very true I my previous job I worked six years at an advertising agency and I was there long enough where you know a lot of developers before me left and I was there and I had to take over some of their projects and I'll just say that some of them were pretty good about commenting and organizing their code and some of them weren't and the ones that weren't it was pretty painful so yeah if you know if you're working on a project please for the sake of either your future self or you know whoever takes over the project after you please try to keep your code as organized as you can you know obviously this is a skill that you'll get better at over time you know I think there were times where I had to look back on old projects and looking at the code maybe just cringe inside because I knew that I wasn't at that time I hadn't written them very well I didn't write very clean code so you know it's just something that you'll get better at over time it's okay to not be perfect at everything right now cuz you know you'll improve okay next thing is fonts so we will create another file actually I don't know if this is necessary but I'll just do this anyway so these fonts are just they're all google fonts so don't need this anymore this is actually yeah this is just such a helpful project I think for if you're a beginner these products are really great because they really take you and all when they agree that you may or may not see in a tutorial I'm not really sure but setting up your fonts in color I think is good I guess just load this really fun okay so if you don't know how to use google fonts this is definitely a very helpful skill to have because I think more and more people are moving toward using google fonts or other online fonts as opposed to just loading you know WOFF files or something okay so they need seven hundred weight which is bold so we will unselect regular because we don't need that and you'll select seven hundred for bold so we will just take this and our wait a minute it should be some important thing I don't know I just usually use this I don't know if that's the right thing to do yeah I'm just gonna be on to y'all about things that I know and things I don't know cuz I think that's more helpful for everyone you know even though I've been the business for seven years now I still make mistakes and I I forget obvious things that I've probably learned multiple times but I think that's just a fact of life [Music] you want to leave this CSS stuff first cool and then I think we can actually just copy this why is that not working it's weird usually if you press control-d it'll just duplicate the line we're gonna try to cheat a little bit here and just sort of copy I think this is the right syntax to have commas between and Trent Waits I'm just going to double-check okay yeah there's comments between them let's go back here okay so using open sans for the regular fonts 400 is like regular wait 600 is like semi bold and seven hunters bold cool all right I think that's everything that we need in terms of setting up the styles [Music] okay cool someone get rid of this we don't really need that right now actually we will oops what'd I do oh I don't want to do that what'd I do Oh No there we go we can't press undo by accident you just check the design really quick okay so Philo is the h1 tag because that's the title of the website let's see what I want to do here I'll try this way okay so right now we're just focused on creating the header as we began like what 20 minutes ago so we got the logo we got the logo image here looks kind of good job box icon then we got Philo which is I guess the name of the company then we've got these links on the right side so what I'm going to do is I usually just try to get all the markup down and then I'll go back and like style it and make everything look the way the design does so we have the logo we're going to add the logo image as a background image then we have the Philo title text and then I'm going to add another set of semantic HTML tags for the nav because I guess not really the nav but usually you'd have like navigation links up here so we've got sign in and then this is actually a button so we will do that sign up I don't know if the link can go inside the button I don't know what the best practice is like if the a a anchor tag needs to go inside the button tag or vice versa just gonna look that up really quick sorry it's a really dumb little thing - kind of curious anchor tag inside button Lu tag I'll see you have an anchor inside a button tag is not correct HTML kind is the button inside an anchor tag see so this person is nesting a button tag inside the anchor tag but it says they get a validation error saying the button must not mean nested inside the a button so this is what I spent a lot of time doing when I'm working on any kind of website projects I am curious or I can't figure something out and then I looked it up and look read Stack Overflow posts so I can tell it this question is like a decent question because it has like 100 of votes and the answer has a lot of votes as well and it's been accepted as an answer so that kind of tells me those are indicators that tell me you know what's a good stackoverflow question and answer you know you can see if if it has like if the question that you're looking at has like zero up votes and you don't really know if it's a good question or not and if you don't know also if the answer that's given to that question is good so I try to stick with Stack Overflow questions and answers that have a lot of up votes meaning like you know a hundred is pretty good um okay enos any elements inside and a tag except the following button is one of them okay I don't know I guess like what I was wondering is like I know the button will kind of automatically make it look like a button but I don't know if is that really necessary cuz I could really just style the anchor tag as a button I'm just kind of curious sorry I won't take too much more time on this thing I think your channel or button tag let's see which one people are saying now this is helpful difference between anchors inputs and buttons so now I've got a blog post and this guy I know is a very popular tech blogger so says a question of what elements use oils down the semantics which means the markup will reflect the meaning of the content anchor will represent hyperlinks input represents a data field meaning stuff like in a forum like a text box or a button okay button every element or it represents a button ok buttons do the same things as inputs as the inputs in the form mentioned above honestly this websites just like a simple front-end thing I'm just gonna leave it as a button and not make it not worry about like making an anchor tag I don't think that's necessary I won't even sure if that was like the right thing that tilt try to do oh it's high rider says I'm so glad to see you looking stuff up online I'm still live again I say Zee web development some cough legal stuff that will not change no matter how good you get you'll just hopefully won't be looking up the same stuff as time goes on but you will be looking up some kind of things no matter what so okay this is our markup for the header okay so we got the logo in the div then we got this nav element with a sign-in and China buttons so just so you see what that looks like this is what it looks like let's zoom in a little bit oh yeah so nothing fancy obviously it's very far from what we want this to look like so this is just my personal preference but when I'm building stuff as I said I get the mark-up down and then I kind of then I sort of try to style it and when I'm styling stuff I personally like to make get the layout working first before doing like the fonts and the colors you can do it whatever way you want whatever makes the most sense to you so let's look back at this actually what I'm gonna do is and it looks terrible right now I just kind of like having this is what I usually use two screens for but let's just close out the design stuff we don't need that right now we I usually like to have two screens because I can sort of have the design on one side as a reference and then kind of make sure all my markup and my styles kind of match it otherwise you're having to flip between things is the video still working for you guys looks like it cut out for me hold on one second I may try to reload the twitch page my laptop fans running okay I will just try to continue on even though I can't see the chat room right now yeah so I just like having the design like as a reference while I'm actually coding stuff okay so the first thing that we see when we see these elements is that the logos on the right and the links are on the left so what I'm gonna have to do is use flexbox - okay thanks Abbie of still working I'm gonna have to use flexbox to align things correctly so in Flex box the first thing you want to have is you want to have like a parent element and we have that here with the header and then logo the nav are two separate elements so let's see I guess the best thing to do would be to create a new sass file I know that sounds kind of silly but it's just all part of trying to keep your code organized so we're going to make a new file called header yes CSS and then we will import it let's just add some little extra labeling here - all the same modules I don't know if that's really the right term but okay so now it's loading the header get back to I guess I can use that okay so what we want to do is we want to make the header sorry just gonna move this over side a little bit more room trying to do this let's try splitting down okay so this is the header and then I'm just gonna add sort of style declarations for each of the elements so header we said we want it to be the flexbox parent meaning you'll have a property display flex so adding this will automatically make the child elements which are the logo div and then the nav element they'll automatically be flexbox flex or whatever you call it okay so yes it still looks terrible but we can see here the header is this whole length here and then we got the logo here and then we got the nav links here so this is flex in terms of it's doing what it's supposed to do another thing that I like to do when I'm writing code is when I'm sort of adding new styles if I'm just curious like I'm not sure if it's gonna work I will actually just add it in the browser this isn't saving in the files or anything but you can just more quickly see the result so we want to do this we want to make the links be on the right side so we'll do justify content and I believe it's space between yeah another thing I'd like to do is I'm just showing you guys all like my dirty little tricks here but what I also like to do is add borders around everything so I can kind of see where they all end so we can see here just like content space between things do you write space around kind of evenly add space to around the elements so when you want something on the left edge and the right edge you kind of want to use the space between property so now that we know that that works we will do this and I'll just copy the border to just for the sake of clarity cool Oh refa Lazar says hi yes thank you for watching okay so we got the header here actually okay I think I add this padding here which I don't really want so this is one reason why I always keep my inspection tools open because I can quickly change things or like remove styles and see mm-hmm you know what it is I want it to look like I think it was in global just take this away also we don't need that I guess for each one we'll add that back in there actually I don't know if that was right no it's white so I'm putting h1 in the global even though it is in the header I'm just because I try to keep my default styles for text text textiles and other styles related a typography in the global sass file but that's just my personal preference you know you can do whatever you want okay cool so let's see oops what did I do this time oh it doesn't have the white car let's just add this here so we stop running into this error okay sorry everybody okay it's white now that's why we can't see it um okay what do we want to do next we should probably do the background color for the header and the hero okay this is gonna be interesting so we can see that the header and the hero they sort of share this back on gradient thing so that means that we will need to add the gradient to a parent element that contains both the header and the hero I mean I guess we could put the hero stuff inside the header tag I don't see why you can't do that okay so later on we're gonna I'm just adding another kinase email comment here we'll just add the hero here this is another thing that I try to do you just to make the HTML a bit more readable also annotations very important I try to keep things indented properly meaning every child element is indented one thing tab space whatever you use from the parent element so it just makes things a bit easier to see and then I try to add spaces between some elements so okay I don't think they gave us any direction on the actual gradient stuff they did give us color info so maybe we'll do that okay let's look at this gradient so this was like a radial gradient and the like the lighter color this light purple here which I think is the soft blue color and then it goes to this darker blue purple color here so sorry let's just get this back to where it was okay so what we're gonna do is let's just double check those colors it was so dark purple blue is the dark blue I'm assuming and this sort of light purple thing as a soft blue so we'll just remember that and then I'll show you one of my other favorite tools called ultimate great generator so Oh time writer says all the tutorials you've seen use google chrome for web dev you're the first to use Firefox um it's a mostly just preference I used to use completely Chrome for everything but I am sort of trying to get away from using Google that's why I used up that go for my search my search engine and that's why I'm using Firefox here just because I think we're just really dependent on Google and they have some you know they just have a lot of control over your privacy in your data and they track they try to track everything for their add business and you know I'm not really cool with that I think DuckDuckGo it's like a non-profit Firefox is a non-profit but that's a whole nother thing but yeah that's why I use Firefox and why I'm using DuckDuckGo yeah there's nothing if you want to use Google that's totally fine like I still use goal for some researches because honestly it's just a much better search engine yeah but okay so I really like this tool a great generator because you can make gradients and then you can just sort of copy the CSS so or let's see okay so this is this whole thing's a circle the inner circle is gonna be the lighter color and outer circle is gonna be the darker color so we want to make this one the dark purple blue and I guess it was a good thing that I converted all the HSL things to hex cuz now I can just copy these I'll make this into the white color yeah I use this tool all the time I think there is like a tool or a mixin that you can use that will automatically generate like the necessary CSS but like I just I use this yeah you need compass which I didn't install so I just copy all this and then let's see if because I guess by by default I would just copy the gradient style here but I just want to see that's reused okay it's not reused if this gradient background was reused somewhere else I would probably I would add it as like a helper class so like I'd create a new class saying blue gradient or whatever blue radial gradient and then add the CSS there and then I'll just show you what's at under Global's helper classes so helper classes are just little CSS class that you can reuse and that's why you kind of put the Styles into a separate class blue will stay blue radial gradient and will copy all the gradient styles that we just got from colorzilla so this means that this class here we would need to add to the it's going to try to close some of these things my screens not big enough okay so that means we would add that helper class that we just created to the header element and then let's see whoo-hoo here we go obviously it doesn't really look like what we want because it looks like it's kind of offset a little bit so hmm sorry something close it don't really quick okay this is the problem here is by default the rating the radial gradient is centered as you can see here obviously it's centered but this is way too small like it's too short and then we kind of want to offset the gradient so I don't know how to do that so let's look it up CSS gradient offset the other thing is that I'm gonna have to make that header element like a way taller to make the gradient sort of either right sighs I guess yeah so back to looking up stuff let's see gradients or background image hmm linear gradient yeah sorry hopefully this isn't too boring but this is just kind of part of the job I am planning on putting this dream on YouTube I'm trying to figure out if I want to edit it down or not because you know I think streaming is just much longer and for you to kind of want more edited short videos okay so for regular gradient default is a start in the center of the element and fade to the end yes that's what's happening what I'm trying to figure out right now is is there a way to change the center of the radial gradient and also maybe change like the like how big it is okay it doesn't have to start a default Center you can specify certain point by using at as first part of the parameter man may I didn't have to use colorzilla I'll just copy this and go back to that thing you know I'm just going to delete this because I still have it yeah I copied here so I'm just gonna delete all this so something's not right oh wait background image okay so let's change those colors again soft blue and dark blue that's not ready there we go yes we'll keep it like that okay anyway um see how that looks Oh hmm not bad okay I learned something new today huh yeah we just saw many things in the web development like you just you sometimes don't know what you don't know so I think that's one reason why it's important to try to keep building things because there's always gonna be something new coming up and there's always gonna be something new that you just didn't know about so cool man yeah I've never actually used this before sad as that might be to say I'm wondering what the didn't browser support is for that okay so what I've done is I'm I'm trying to see what browser support this radial gradient property of background image has so typing it on can I use comm which I use all the time um looks like it's very supported except for Safari partial support in Safari so this might not work in Safari so if that happens then they would have to go use this thing yeah there's like just weird bugs in different browsers yeah CSS tricks is a great resource I use it all the time actually I'm gonna show you one post on CSS tricks that I always go back to this complete guide to flexbox it's really helpful because it has just these visual representations of everything and I'll probably refer back to this later on when we change the order of some of those elements but yeah this is like I love CSS tricks they also recently redesigned their web and the new design is like way better than the old one anyway okay we'll just keep can't I use open because we might have to look stuff up on there later but that actually it looks kind of similar to what we want this to look like let's see how tall this thing is so the square part is about 690 and then the triangle part is 164 so well 690 so is about 700 let's just see how the grain looks when we increase this thing was this is just this see we're gonna set the height to 700 oops oh it's because I zoomed in quite a bit oops I'm sorry okay so now this is normal size um how does that look I think actually the radial looks like the center is actually more on the bottom so let's try to change that background means radial gradient circle at top right so let's try changing that too awesome right hmm that looks pretty good look it is a bit different like it gets like this part is like the darker part is almost half and it just changes to light way too quickly and if you can change that like I wonder if how you can control when it sort of changes colors were we yeah so I'm definitely not going to finish this whole website tonight not that I was planning on it but like in real life it would take me I would say a day to build this entire website you know maybe a little less in one day but it's definitely you know it's not something that's like super quick unless maybe I'm just really slow but I don't think I am also I'm talking at the same time and looking stuff up so the talking part I guess makes things a bit longer but I guess this will turn into a series okay so what were you looking at we wanted to find out if I can make the make it change slower I guess make it have more dark stuff more of a dark blue okay let's see whoa this is complicated radial granite has gone through some syntax changes there is again old tweener and new man this is a bit complicated huh so it's a new one is what this index that we were just using this saying circle Yatta Yatta for i decide it right what do we have circle at top right I'm just curious see if that change anything oh I forgot I need to make header that's one thing I don't like about like things that will sort of auto reload the page because sometimes I you know when I'm typing and all these Styles in the browser if I change something and it reruns it then it sort of removes those changes but that means I shouldn't be doing that we're just gonna add a height of 700 pixels for now just to sort of see how that oh I think that was actually better I think was it originally sir it was like I'll just cut that circle at top right was it it was bottom right interesting and then we changed that too [Music] hmm it did change something yeah it looks like it's making the center a bit more to the right than the other one looks a little better but I feel like it's still not exactly you know we're talking like this is what the end result should look like still way too light but we'll just keep this for now just because it's a little bit closer to what we're looking for okay I guess that was really there okay so let's come back to researching our radial gradients and trying to figure out if we can change the positioning not even you know feel free to chime in in the chat yeah I guess I hope whatever takeaway you take from this stream is that no matter how experienced you are there's always things that you don't know so okay it's just kind of annoying I guess what we could do is sort of try to hack it we could say let's just see if this works what I'm trying to do is try to make the width bigger so that the purple side might be more now this might not even work right now with this 1274 what's it I think this you can do HW no that's not anything VW is vertical quits they're recording our version of eh BW + vh Oh phew listen to you hi you I'm just okay that doesn't do anything man I'm honestly kind of stumped okay let's look back let's do some more research on the radial gradient so what I'm searching for stuff that I'm like trying to figure out I always start with like what the sort of general area is and this is a CSS thing so I'm just putting CSS first and then the CSS thing that I'm actually looking for watching the X in this case is the radial gradient change center ooh radial gradient position Oh real gradient dot IO that looks promising I'm just sort of trying to scan this quickly and see also when was this published it doesn't really say I don't know if this might be too old no no this looks right yeah so all the tutorial videos that you watch what they don't put in is all the hours that the person making the tutorial video had to spend researching stuff like what I'm doing right now so yeah maybe it doesn't make for interesting video but this is part of the job let's see okay a position you can okay this is interesting you are able to specify an exact position for your radial gradient missing a numerical value if you sell the property to 350 px times 200 it would take that size and then gradient along with it hmm oh this might be helpful the length and percentage you can set a numeric value that serves the circles radius okay this is kind of sounds like what we're looking for you say this by determining the length with positive pixels or relative units you can't use negative that's fine wait you can't just with a circle the size allows any relative to the gradient box rather than the green itself what okay let's do another search so I'm interested in trying to determine the length of the gradient so let's do a search for that okay mdn is also good thing yeah Mozilla developer Network they but not the most like exciting website I guess are more of like a reference but like they're very it's like full of information because it's like literally a reference for like anything related to like CSS or I think also JavaScript yeah it's like they have stuff on everything so let's see what they have to say here yeah a radial grant has no intrinsic dimensions it doesn't have a natural or preferred size its size won't match the size of the element that it applies to which is what's happening here so I'm trying to see if there's anything that we can do to either move the center of the gradient or change the size of it this is sort of like what we did but it's just not at all okay I hate to say this but I'm gonna actually need to go back to colorzilla because see they have this my slider here that looks weird but oops that's not what I wanted to do oops see okay let's just good old colorzilla okay I mean this was great and all but it didn't give us you know this is probably just due to my lack of knowledge about it but you know didn't give us what we're trying to do you'll have to research that for next time okay that looks really weird you know I wonder if I need to actually create a another middle color in a way so I'm gonna create a little midpoint here and make this lighter color that's still way too much hmm this is very frustrating Oh in Duke sheppy app I'm willing to try anything at this point she says gradient generator ooh that looks nice okay let's try this radial what's a Kona green this is pretty cool I love tools like these that you can like has like a nice user interface okay we'll just give this a shot what do we have here okay so the center is the lighter color we'll just copy it from what we had here Center is the green color we will change that to this and then I'll change that to the dark color which is this actually looks kind of better I'm not sure why okay let's see we can edit some of these things Oh what boxer shape goes into why am i changing here I can't tell oh wait box details shape in box this is probably at 50 by default I'm guessing Oh oh my gosh this is like exactly what we were looking for thank you subscribe to cutie pie alright thanks was that guys trying to hit like a hundred million or a billion my husband watches his videos a lot but I usually just listen to the screaming from the next room okay thank you so much and for this thing let's just see I thought it's still a bit like I wish the grading was a little bit more I don't know it seems to kind of quickly go to that blue color the dark blue color but let's just Oh I scooped in gold pen is another helpful with it you can try stuff okay that didn't work at all it's not copying oh here all right let's we will just delete this cuz it didn't really work we'll keep that it sort of worked background okay moment of truth what happened I must have a syntax error background image yes real gradient yeah I just don't know enough oh wait a minute that's just the no repeat stuff I don't know if that matters okay I guess this is some part of this is like not good syntax oh that's not right oh that's just from here okay it's all right I'm getting tired I'm like slow okay Oh someone look great guys yeah that does not look great okay you know what that's so annoying I'm just okay you know what I might be able to do okay we're gonna try something we're gonna try something crazy we're just not gonna use this helper class so don't worry about it I don't need this what I'm gonna say what I'm gonna do is I'm actually gonna try to do it in a pseudo element I'll show you what I mean so what I'm doing is I'm creating a pseudo element which is sort of like a like a ghost element for lack of a better word of the header element and that's what I mean by the ampersand : after that's the after pseudo element and what I'm trying to do is make it into a kind of a background image so what I want to do is I want the pseudo element to be absolutely positioned so I could control the positioning of it but it needs to be the same height and width of the parent element which is header so that's why I'm going to do this that's wrong which is a hundred percent and then height 100 percent also which means it will just inherit the height and width from the parent and then why is it's not working oh I forgot in pseudo elements you have to have a Content property otherwise it's just not gonna exist so if it doesn't need to contain anything you can just do what I did content is like empty quotes okay so looks like it's back it is on top of everything else but let's see so the index is zero actually I think these need to be okay basically what was happening was I created this element which is part of the parent element the pseudo element and that's why it's on top of now the logo and then they have so I need to add the z-index to the water and make this background be zero meaning it's gonna be on the bottom and then anything above zero it'll be on top so you can sort of layer successive things I don't know this is maybe kind of hacky but so we're just gonna add a position relative index of one to the other elements inside the header and then the nx20 to the background okay cool so now everything is like on top of the background so I'm just gonna change back to that original this thing here that it seemed to be working we'll just keep this in case we would need it later let's put it all in one line having it having long CSS properties on multiple lines it's really just for readability ooh that looks a bit better right and then let's see what I'm gonna try to do is what was I gonna do I want to try to move this over so it's more to the right I could do a transform okay I know it looks terrible but what we're also going to do is add the dark blue which is dark blue as the background color for the header oops oh man it got rid of it again yeah I just don't like those auto reload things anyway translate X we'll start with 10% well this is Jing is it's gonna actually move that element to the right because the X is e Corazon ttle access Texas as you can see here the pseudo-element I made is actually it's been moved over and just for the sake of clarity add my favorite I'll just do white so we can see what position it's in so we move it yeah look at that maybe this is happy but you know what its Orkin so if we get rid of the border we can see it does look a bit more similar to this which is great I'm just kind of eyeballing it so we'll try to move it a little bit more you have to need to move down a bit to translate let's try a 10% down oh that's bad we don't want to do that that was not a good idea um yeah I'm honestly just gonna have to do more research on the radio green and stuff but I think that's kind of good enough for me now I just I want to bore you guys oh really much so let us add this is everything there translate is 44% so we'll just change this yeah good enough for me this is one listing that I would make and then I know that the designer is not gonna like it but well okay this is taking way longer than I was thinking it would take I was like oh I can probably finish like half of it in like one session but no we're like an hour and a half in and I like just added the background color to the hero just for the sake of finishing something I think what I would like to do before signing off is at least style these things sound good yeah so let's get the approximate so I'm assuming that this JPEG is at 100% of the correct size that we want that the designer wanted it to be so this is also very approximate this is also kind of what I do sometimes if I don't have a sketch file and I think front end mentor you have to pay like $5 to get the actual sketch well plus I don't have a Mac so I can't use sketch so it doesn't matter to me okay so this is about 56 by 46 pixels so let's just load that logo image up this display block width was 56 pixels and height was 46 pixels and then we're going to set the background image to that SVG and where did we put that we put it in disk I detected the thing oh this is in the app okay so what I do want to do is get here and then go to dist and then load the image here and then background size I usually just do cover cover means that whoops cover means it'll cover the it'll make the width and the height fill the the div without really like skewing it or anything okay no such file what did I do I think I need to add quotes here and also didn't work oops wait the whitening again whoo what did I do out there see I wonder if I just sort of oh okay it did work you know I feel like I don't need any digital work no sorry this is something that shouldn't I should figure out before streaming but [Music] nope I can't find this file oh wait why the website in there twice okay he's gone through the air again website app oh I'm gonna get out of the app oh geez okay that works I love when I get stuck on something for a while and it's just a dumb like syntax like I'd needed to have that front slash and that's why it was breaking all right okay loaded sue because so because I actually put the h1 tag inside the hey let me just show you put it inside I put the h1 tag inside the logo div so they're together but what I want to do is I need to position them correctly actually let's get the font working then I didn't see any notes about the font sizes so I will just try to eyeball yeah Oh time right Isis isn't learning a lot learned some so from Ian yeah no problem thanks for watching okay so this is the h1 tag so the font family was oops wait I don't maybe I don't need this it was railway I believe it was oh man another thing I have to try to string when I'm a little more with it I think I'm getting kind of tired let's open that design file again or the design folder a style guide really okay real way select this font what I'm doing is I'm just trying to make sure that I am loading the font the way that I need to and the CSS okay so I did this part I go to the link tag and then use a fall and CSS rule to specify these families so I should just be able to do this actually another thing that I like to do is create more variables of course this is has a syntax error but let's see where should I put these things I guess I shouldn't have deleted the font s CSS file no it's still there okay good we're just gonna do this and then secondary this way let's say I didn't create these variables and I just had railway and open sans like every single time in my CSS in my CSS if we changed the like let's say they change from railway to like something else like matzo right or whatever I would have to go and do like a fine inner place for every single instance of railway and change it to the new font and that would be that would take a lot of time so is much quicker and it makes it easier when you're changing things to have these variables so this way I can use this primary font variable and then it's just primary font and it automatically loads is railway and then I believe the font weight was oops I don't know everyone has a different order that they like writing or CSS and what I sort of tried it like for tech stuff I'll do font family then font weight and then we're up front size actually which I forgot to do I don't think there was any notes about the font sizes yeah I guess that's another that's one one reason why getting the actual design file would be more helpful but we can just eyeball it I'm seeing us pixels because well I think the best practice for font sizes is using rims one room is about sixteen so try it to room and not even that's something that you could create variables for so like if you have like a standard font size you want all your paragraph tags to be in like all the regular text you can create a variable being like you know font size is normal font size like body content or whatever and then just use that but we will just be approximate here okay hey you look at that font loaded so what I want to do is I want the text to be next to the logo obviously let's just zoom in a little bit more so right click and inspect element h1 so we can see the logo is the background image I actually don't want the width of this and all the width of the entire element to only be 56 pixels because you can see that this is happening I mean doesn't matter a whole lot in this case but I think I'm just going to we'll just set the height and then we will let the width be whatever the text is so right now because the logo image is a background image it's behind the text and so what we want to do is we're gonna add some adding padding left let's just say 56 whoops okay what what's going on here this is very strange oh I'm sorry the whole logos of the SVG so we don't need the extra markup that I added my bed although honestly I think that for accessibility purposes you usually do on an h1 tag so mm-hmm okay I'm sorry I'm gonna look up one more thing it's probably drive you guys crazy so generally like you want the h1 tag to be like the name of the website or whatever so because the SVG has the text we need to figure out what we want to do for that because accessibility wise like a screen reader can't really read an SVG so see if SVG for website title accessibility okay I guess this is not I'm not interested in like doing a whole bunch of research on that species right now so I think actually I'm gonna do is I'm gonna leave the oil just take the whole thing out like it's fine yeah that's bad accessibility though but I think just for the sake of completing this we will all just do this so there we go let's just see how tall we'll see what the actual size is actual meaning like a very approximate so this is about 160 pixels wide Oh actually they were epi info in the actual SVG file itself yes width is 120 height is 35 so we will add that to here sorry 120 height is what was I 35 there we go so again I just preferred using background images but another thing can do is load the SVG as in an image tag so woohoo made the logo um okay so now I can also see that we need some padding at it add it here let's just see overall oops oops what the padding is on the design so what I mean by padding overall padding is like you can see here as you go all the way down there's like a certain amount of space which is about a air it's about like 60 years 70 almost 80 pixels wide so we'll just add that padding in later so it's about 80 pixels wide and then again this is yes very exact how much is a top padding it's about 50/50 let's just say 52 so what we're gonna do is I'm going to add a top padding a 52 to the header element and then we'll add the side padding with the helper class because that's being reused so let's do the top padding first actually I guess we add the top padding and the side padding with the helper class because we're probably assuming like if you have a Content block you're gonna want some padding so we'll just do that sorry it just is not making sense so what I want to do is create a helper class called let's get rid of that that wasn't helpful at all wrapper and we'll say padding top or padding is it was what 52 pixels on the top and we'll add it also on the bottom just for the sake of consistency and then the side padding is going to be 80 pixels so then any element that has this wrapper class will have as padding automatically so again it's like one way that you can make sure all your styles and everything are consistent throughout so to the header or on class equals wrapper Senate should automatically have this padding now which it does oh but this is messed up now see oh I think if we okay so what happened was I had added padding so by default the pseudo element would kind of just take that padding I think they should be oh you know what I didn't do I didn't add I guess I doesn't matter oh I'm sorry sorry I'm like really scattered right now but every element needs to have box sizing is equal to border box thinks it doesn't seem to affect this the child element um okay well that's fine box sizing border box is just a global CSS style that you always want added to everything so I think it is like Asterix which means every element and then all be like pseudo elements so it's inheriting it from HTML I just read online that you want to set the box sizing border box on the HTML and inherit it for every element this basically means that the width and height of an element will not be affected by the padding so say if I had an element that was like 400 pixels tall 400 pixels in height and I added 20 pixels to it it would add the padding to the height property so then instead of 400 it would be if I had padding of 20 pixels on top and bottom it would make the height 440 pixels and you don't always want you generally don't really want that you want the patent to just be kind of included in the height so that's why this is added it's just kind of a general best practice and I think CSS tricks has like a little article on that too because they have articles on everything it's like awesome man it's getting kind of late anyway if you're interested in that you can read this later so we're getting there so what I want to do is I want the header pseudo-element to be up at the top otherwise you have this weird thing here so we want up to set top is 0 so in the header pseudo-element will just say top-10 let's delete this don't really need it okay cool so now we just need to add the links so these looks like it looks like they are the same size so let's see what CSS we would use for that so then under nav let's say a and also buttons elements would be having fun let's say the font family is the yeah and then font size let's just say I don't know the actual pixel size needs to be but just put that into now and color is white oh and font weight is I think regular so 400 okay that looks pretty good we do not want that underline the underline is just a default a default browser style so under global we want to get rid of that text-decoration:none now shoot that should get rid of the underline which it did great see what the actual let's zoom out so you can see that adding this as the button element made it like a button okay so I think I'd put 1.5 REMS that's a little quite a bit too big let's try one room one remedy cool is about 16 about not about equals 16 pixels [Music] font-weight seems lighter than that let's check with font weights from the style guide yeah 400 600 700 hmm I wonder why sometimes I have noticed actually a lot of the times that the font like how the fonts look on the actual website are slightly different than how the fonts look in you know sketch or Adobe I'm not sure why that is I mean I think a lot of it is because when you load the font in a software program like sketch it actually you need the actual font file and sometimes it just like some slight differences between the web font and then the bucket design fonts but anyway see what we got here okay so sign in and sign up and then the sign up button is a green color it looks like it has a little box shadow you can see on the bigger get started button there's a little box shadow there on the left bottom side so we'll add that later let's get that green color in for now Green so the column means that these styles here that I added the textiles will apply to both anchor and the button which is what we had here and then for the button I only want the button to be green I know an anchor thing to be green okay this should work okay and you can see here you can see that there's this border default border which we don't want so I believe to get rid of that it's just border:0 sweet remind me to put this in the CSS before I reload anything okay we don't see it there's like a little it's slightly rounded which means it has a border radius so let's just try to pixels maybe you want to let's try two pixels it seems pretty good and it does look like there's a good bit of padding so like let's see here the horizontal padding is about 40 40 let's say 40 on the left and right and then the top and bottom is roughly 12 10 or 12 so it's 12 on top of bottom and 40 and a spring just color like England it seems a bit too long because the total width is about 122 and this is at 137 so let's just get rid of some of that horizontal padding so you can see as you can see the highlighted part on the button it sort of tells you the actual dimensions which is like kind of nice we'll just do 12 pixel by 480 pixels that's the roundedness is okay actually it seems a bit tall to see how tall it is oops it's about 38 it's probably about 40 and this one is 46 so we'll take down some of that vertical padding as well so 9 pixels instead of 12 pixels and that looks closer that's pretty good okay good enough for me so let's copy the styles that we added here and put them in our CSS yeah looks like a button okay we'll add some spacing as well looks like there's about 30 pixels between them so what I'm going to do is I'm just gonna add a margin right up three pixels so then the spacings like that another cool thing about flexbox which you may or may not have had to worry about is that before when we would use floats for laying out everything it was very difficult to vertically Center things but with flexbox it does it automatically so flexbox is like awesome it it makes like laying out things just so much easier okay where was I margin right on that first link so we'll add margin right property to the eighth element I put the a in front of the button because in here that's it's comes first that's that's really all it is cool hey you guys we finished something well it's like was like two hours um okay I'll get rid of or --tx I don't really need it anymore yeah this took this looked quite a bit longer than I thought you know maybe I I think too much of my coding skills but you know this is cool okay I think I want to stop for now we will continue this in my next streaming session I'll try to figure out maybe a regular time it's most likely gonna be on the weekends but yeah the next step to finish this would actually be we want to add to some hover States so when you hover over the green button you want to turn to the the hand probably here for this the logo should link to the home page even though this is just a one page website just because in case you have multiple pages you want you always want the logo to link back to the home and then what we might do is finish kind of styling this button we'll add a hover State so it'll maybe change some colors a bit when you hover over it and then we also want to add that box shadow because we didn't do that this time I guess we can do that right now really quick why not so box shadows are fairly easy so wait it's I'll explain all this in one second let me just type this all out okay so box house take a bunch of different parameters the pixel parameters are like they control sort of the spread of the shadow and also the the horizontal and vertical positioning oh man I hope this works I'm gonna I'm gonna feel pretty silly this is wrong let's just try and then the second part the rgba stuff that's the color of the shadow so I've made it white and then the last one is the opacity I'm gonna set it to 1 and then if I tweak this stuff it should there we go look at that so the first parameter is like the horizontal positioning and then the second one's the vertical positioning third one is these spread so the higher it is the more it sort of does that and again we're just kind of we're just sort of guesstimating all this stuff here I guess when you buy the sketch the sketch palette you'll actually see the CSS properties and just make this like slightly translucent that's pretty close right just look here it's very slight I don't even know if that top button has it but we'll just do it anyway another thing that I would do since there's more than one green button is that yeah it's like they're all the buttons are green I would create a helper class again for this because sometimes websites will have different colored buttons and then it's easier to just swap them out using a CSS class but you know what this is I'm pretty happy with this will just make it more slight okay so we'll just copy this the box shadow and add it to the button property cool okay it looks kind of weird but you know what that's just good enough for me now so yeah thanks Ivan for joining in feel free to you know ask any questions while I'm streaming and stuff and you know I'm planning on doing this on a regular basis and just keep sort of hacking away this website so cool we will see you next time\n",
      "Review 5:\n",
      " before the video get started I do want to give you \r\n",
      "a heads up that of course this was recorded before   social distancing wasn't put into place which \r\n",
      "means that of course you should stay at home   like I am or stay in the office by myself like I \r\n",
      "am but I do want to give a huge thank you to my   Crescenta for still allowing us to share with you \r\n",
      "guys this latest version Oh broke versus Pro so   enjoy hello welcome to broke versus pro gaming \r\n",
      "last time can may have gotten the jump on me   however I'm flipping the tables of time with the \r\n",
      "good help of our friends over Micro Center we're   sponsoring this video you did not yes no yes I did \r\n",
      "you have a $300 setup that's all the money you get   really good yeah 300 so the cool part about this \r\n",
      "episode is that I get to do whatever I want so in   like last time we had to like build my PC outta \r\n",
      "like ten dollars I could go straight to like I   don't know what we have yet risin 9 but yeah sure \r\n",
      "resinize do it thread Ripper why not but you know   what to keep things fair okay which really embody \r\n",
      "the spirit of broke versus Pro and if I'm pro I'm   not building my own PC whoo but that's for losers \r\n",
      "who builds their own PC I'm just gonna buy one I   mean you yeah you can have fun building your \r\n",
      "300 ollar PC or whatever you're gonna do I   don't really care I'm gonna go ahead just pick \r\n",
      "a prebuilt okay by the way that's our sound guy   rich hi rich rich you're in the shot again your \r\n",
      "roof good hey Cody okay I need some help so we're   doing pro verse broke again okay ken is finally \r\n",
      "been dethroned I get the unlimited cool budget so   can you help me find a cool desktop ya know for \r\n",
      "sure I'm the building today money up like Dells   we have plenty of power specs okay oh what's this \r\n",
      "oh wait this is what we Ken got this for the first   episode right the lien leuwen this is almost like \r\n",
      "I feel bad unlike you who goes like completely   overkill I feel like if I did something like this \r\n",
      "that's not fair because you don't even know what   the rest of my setup is I've already talked to \r\n",
      "the Micro Center guys I'm already this is all   planned out I know exactly the way you scripted \r\n",
      "the video no I know the other things I've got   I've got to you script the video I have a secret \r\n",
      "weapon on the other side of the store but I need   my PC first with you okay if I scripted the video \r\n",
      "would be much better than this okay oh I call it   the great this one yes Strix jido 10 th $13.99 k \r\n",
      "look at how reasonable that is those 10 Pro for   all your professional whoa I'm a pro onion we're \r\n",
      "happy let me see what's inside okay I can't open   it so this this is my secret weapon this behold \r\n",
      "no no not the arcade oh yeah so I picked f1 for   a reason because this is a full simulator setup \r\n",
      "this is by next level racing and I've actually   wanted one these for a while so this is the full \r\n",
      "seat we have the pedals we have the triple monitor   setup gonna you know tell me back or I will show \r\n",
      "you how it's done mmm I knew what I was doing I   came here hmm I don't like this my pedals are a \r\n",
      "little loose go away this is mine let me have my   happy moment can we in there boys whoo I hate to \r\n",
      "admit it but that looks pretty good it's pretty   good right okay slight miscalculation there well \r\n",
      "thank god this isn't a real game or Austin would   be dead yes dude oh I'm so happy right now oh no \r\n",
      "my controllers connected what'd you do what did   you do why did they disconnect I get the point so \r\n",
      "what's the plan I don't know everything's out of   my price range look why nine seems like totally \r\n",
      "there was a spot to start I mean it's all good   sign when Windows 10 is already like more than \r\n",
      "a third of my budget I will say you are kind of   right 50 bucks for an Athlon yeah fine what are \r\n",
      "the prices looking for like feeding motherboards okay you really need to look at 80 320 here 320 \r\n",
      "right here I'll take pity on you and hope okay   that's what you need how much $43 see okay so \r\n",
      "you're like 98 dollars right now you can do this   I believe in you wait but I so wait for $300 I \r\n",
      "also need to get a monitor and get work yes a   lot of work costs like 40 frosted would cost \r\n",
      "like 54 it would cost like 20 cases probably   like okay well I don't realistically at this \r\n",
      "point I don't even think I can use a case well   what do you do an xbox again or something maybe \r\n",
      "a laptop a $300 laptop okay sure what options   do I have mr. I got sponsored by micro center \r\n",
      "and giving Ken scraps oh wow I wouldn't know   anything about something like that and imagine \r\n",
      "so a sea of laptops yeah a lot of which are out   of my price range will all be fine look see \r\n",
      "it's a suddenly over W okay okay yeah out of   my price range out of my price range nope too \r\n",
      "expensive too expensive too expensive close but   too expensive chromebook too expensive whoa hi \r\n",
      "there oh this guy let's see $299 bucks okay but   wait oh it's rising it's rising by thirty three \r\n",
      "thirty two hundred you will you be able to play   f1 on that on rising three in a bigger plan if I \r\n",
      "can get twenty frames out of this I'll be happy   oh okay you know what okay I'm gonna take pity \r\n",
      "on you since you've got such a powerful system   here okay come with me I actually saw something \r\n",
      "your ghost was here you need a laptop cool this   is a setup video I will graciously provide you \r\n",
      "this cooler which with five RGB fans will give   you at least half an extra frame per second I \r\n",
      "don't think this is RGB I think this is just   gee I don't think this will help me but it'll \r\n",
      "definitely make it more different and push that   push that $30 oh yo you get the red one you want \r\n",
      "red or green there get green you Capitan you have   a razor laptop for the gamers by gamers rise up \r\n",
      "rise up on me I appreciate the help I don't know   why I'm doing this how heavy is this thing it's \r\n",
      "a hundred pounds oh this your PC oh yes wait wait   wait wait wait wait there's there's a there's \r\n",
      "a gap so stalk it comes with a metal side panel   however metal is so 2011 so instead I put on the \r\n",
      "clear side panel to see my RX 2070 super my rise   in system it's very impressed look look it's \r\n",
      "RGB this RGB implant - okay so I'm holding the   camera now yeah because I'm a good buddy rich to \r\n",
      "help me out nothing like a pro set up to have pro   friends to help you build I am also happy that \r\n",
      "you were able to buy yet another friend to help   you out where's my pain you to be here now no \r\n",
      "look at that true friendship this is probably   one of the most important parts of the setup \r\n",
      "is this is our seat this is where we not only   all three of our monitors but also the petals the \r\n",
      "wheel pretty much everything is built around this   setup I've never built one of these before so \r\n",
      "I don't know how I'll just gonna go oh no one   what a nice box hey yo Ken here's your desk oh you \r\n",
      "can game on this I'll take what I can get oh look   at that look how comfortable look at my lumbar \r\n",
      "support here I'll just be like chillin like oh look meanwhile I'm just gonna how's your setup \r\n",
      "come and start my build just gonna whip this up pretending to build a car right now are \r\n",
      "we seven again I'm not gonna lie this is   actually not that bad look this is actually \r\n",
      "kind of cool yeah I didn't even need glue   or tape but the real question is will the \r\n",
      "back of that box hold up with you leaning   against it all day long I would hope \r\n",
      "so if it held a hundred pounds worth   of stuff but big you're leaning against it \r\n",
      "yeah I'm not at a hundred pounds of force   you ain't my honey I'm sorry to say he's \r\n",
      "all yeah yeah yeah would you tell me that where you going Ken so while Austin and rich are \r\n",
      "over there building Austin's place eat my setup   is actually pretty much ready now all I have to do \r\n",
      "is assemble my racing wheel which is really just   this charity case Xbox one controller that Austin \r\n",
      "was gracious enough to lend me and my racing wheel   that conveniently just sits on the Xbox controller \r\n",
      "we'll see how this works well we got we I guess   put this girdle thing then we put this thing on \r\n",
      "here the arm lines up with the analog stick and   all I have to do is put the cap on it hey I like \r\n",
      "that look at that nice steering wheel so now that   this steering wheel is done I'm gonna go ahead and \r\n",
      "to see how Austin and rich are doing and from the   sounds of it they're still heavily in build mode \r\n",
      "right soon as you left we got a lot of work done   we're almost done with the seat now this looks \r\n",
      "almost the same as from when I left it alright   well they're still building I got bored so I left \r\n",
      "and most importantly we're at Austin's house so   we're gonna do what anyone would do when you're \r\n",
      "at your friend's house and they're not watching   is a chip the fridge this is like the saddest \r\n",
      "version of MTV Cribs if you thought Austin was   living large apart from his fridge that's very \r\n",
      "stainless steel he ain't living that big in his   kitchen at least that's for sure he started 30 \r\n",
      "minutes ago to format my computer something oh no   I'm just scouting the competition so close it's so \r\n",
      "close no you're crying the screens behind and I'm   lined up here don't you guys take a bolt through \r\n",
      "to hold it so this rust master chess xw and it's   $70 it is certainly not cheap however now is this \r\n",
      "a incredibly good meal there's also a really salt   set of petals Oh what it's like a real spark ooh \r\n",
      "it's it's a real sparkle wheel that looks like   real carbon fiber and that's Alcantara holy also \r\n",
      "in the Box we have a nice set of petals to over a   micro Center and Thrustmaster have the hook up we \r\n",
      "have the TLC n petals now this is actually as far   as I know not even out yet so they specifically \r\n",
      "set this out so we can take a look at it these are   load cell and magnetic petals so this will run you \r\n",
      "about $200 when it goes on sale but essentially   these are supposed to be some of the best sort of \r\n",
      "race and petals that you can get as they're fully   customizable oh okay will you clear some boxes out \r\n",
      "here all right that is a set of petals right here   do you see the brake pedal right here look how \r\n",
      "much pressure that is oh oh I'm gonna take this   what do you stop taking my things upgrade there \r\n",
      "we go for the displays we're using three of these   ASIS vg2 seven eights now there's a couple reasons \r\n",
      "why I like this first of all it's a 27 inch   display which is about the maximum thing we can \r\n",
      "fit on this setup but on top of that they're 1080p   low resolution it isn't really matter because \r\n",
      "they're fairly far away and they run in a full   144 Hertz with not only free sync but also G sync \r\n",
      "and like 260 bucks this I feel like is easily the   best call to get us the most immersive experience \r\n",
      "short or something like VR or a projector but I   much prefer using ivory plays I'm coming boy yet \r\n",
      "so when you bite this cockpit it doesn't come   with any kind of monitor mounts now if you just \r\n",
      "want to use a single monitor you can do that we   have the triple monitor setup right here so oh \r\n",
      "yes the triple monitor stand might be a pretty   hefty 150 dollars still 850 dollars less than the \r\n",
      "Apple display stand and it supports three monitors   so it's like that means it cost like $50.00 per \r\n",
      "monitor yeah okay so first monitor setup again   everything's pretty loose so we can adjust it to \r\n",
      "just the right angle but to this gonna be sweet   next step is to get the other monitors mounted \r\n",
      "there's gonna be a ton of cables here so we   have monitor display cables we have monitor power \r\n",
      "cables we have the power cable and the turbo for   the wheel the pedals have to have cables run but \r\n",
      "from there we should be pretty close to actually   getting a game up and running there'll be a lot \r\n",
      "of tweaking and tuning once we have everything   mounted together one more time actually one \r\n",
      "more I'm not ready okay oh sure I'll do it again alright he's good the second time so austin \r\n",
      "needed some help to install his bezel free   kiss story of my life you can see this is what \r\n",
      "looks like obviously this is not fully aligned   but this is what it looked like before with the \r\n",
      "bezel free kit it's not 100% perfect I think we   may have to do a little bit more tweaking do \r\n",
      "you can see especially when you're kind of   sitting roughly in the seat that actually looks \r\n",
      "to be pretty good oh look at that look at that   hey what's my button I don't know which \r\n",
      "button this is you could already tell   the difference with also throwing balls \r\n",
      "that's fast that's 90 frames per second Oh   like that's ridiculous oh I mean obviously \r\n",
      "need practice on it but this totally works yes I feel good in saying that this is actually \r\n",
      "going to work right I mean the wheels feels good I   would like to tweak with a little bit more force \r\n",
      "feedback but you can see it's pretty accurate   we're getting 80 frames per second or so which on \r\n",
      "three monitors seems to be fine the pedals seem to   be pretty much accurate oh all right do it I'm \r\n",
      "gonna tweak this we're gonna put that the bezel   freaked it on but I think pretty close we're \r\n",
      "ready to start the broke versus Pro challenge   okay very Savior you're not allowed to turn off \r\n",
      "the halo by the way I'm not a trap the halo good no assists besides the dragon line because \r\n",
      "breaking it sorry alright so it is 5 minutes   to 4 so we have approximately been shooting for \r\n",
      "about 10 hours or something like that mattre um   but the Sun is going down so we're gonna have \r\n",
      "to hit the lights here there we go and here it   is my setup Wow so impressive it's great right \r\n",
      "$300 HP risin laptop with some kind of vague   Radeon integrated graphics I did have to make \r\n",
      "some slight modifications I have a door yours   doesn't have a door need doors mr. Bryton it's \r\n",
      "fine I can also jump right in and we're good   we're good fighting there we go okay your \r\n",
      "door opens we're good we're good we're good   you feeling good right now yeah shut my door \r\n",
      "on you I think it's time for qualifying sure   so the rules will be very simple we're going \r\n",
      "to have how long do I need five minutes of   practice sure okay five minutes of practice one \r\n",
      "qualifying session and then a five lap race to   determine is the broke setup really better than \r\n",
      "the pro setup that sounds like a bomb all right   this let's go let's do it what are you getting \r\n",
      "I'm give me 32 frames I'm getting a 80 that's   cool man I looked up and blew the corner yeah \r\n",
      "that's why that's why I'm trying not to look   up if I'm real though this wheel not doing much \r\n",
      "for me really so the 3d printed controller wheel   thing is giving me more precise control but I'm \r\n",
      "still only using one thumb to steer because my   shift buttons are X and ay which is what I'm \r\n",
      "most used to on a controller and I don't feel   comfortable switching to shoulder buttons right \r\n",
      "now to change my ears so with the way that's   configured I might actually take my wheel off \r\n",
      "and just straight up play with the controller   I'll definitely feel way more at home which is \r\n",
      "kind of what I need right now considering it Hey I'm gonna say the best part of this is definitely \r\n",
      "the wheel like I get so much force feedback here   really kind of tells me where the car is trying \r\n",
      "to go like where it's like really fighting me   these pedals are also really nice I bet they want \r\n",
      "to spend more time with them and kind of actually   figure out exactly the right sort of level like \r\n",
      "I feel like the brake pedal could be a little bit   firmer with one of the other Springs so with our \r\n",
      "practice laps done and neither us being a clear   winner the next step is to qualify so I think we \r\n",
      "only get doing it one lap to this I believe so   all right here we go here we go whoo the Suns \r\n",
      "in my face with these giant displays luckily   I don't have that brightness so I can't really \r\n",
      "I'm not too confident my qualifying just because   I've missed a few beats but we'll see whoa one \r\n",
      "forty point six taught me obviously I beat you   you haven't finished yet yeah there we go yeah I \r\n",
      "beat you by three point four seconds on that lap   all right so it all comes down to this should \r\n",
      "you spend $200 and build your set up a box or   should you get the old $300 or whatever it was \r\n",
      "or should you get the ultimate racing Pro setup   and see what the real pros do you know all right \r\n",
      "like me this is for the 1% no this is for this is   for the 99% I'm so used to being the 1% oh we're \r\n",
      "gonna have to oh wait I need clutch really oh go oh you're right there with my giant monitors I can \r\n",
      "see you oh okay you know you can have that that's   fine I'm not gonna get my eggs I started better \r\n",
      "than Austin I didn't go your so why are you so   wide Oh Oh gotcha I like to do drive carefully \r\n",
      "now well this is great Wow like really ahead   yeah like a terrible spot I had to put in Reverse \r\n",
      "to get back to life a little too late there but   that's okay I have a lot of room for error now \r\n",
      "oh alright it comes down to this going keep the   porch keep the porch keep the push I need you to \r\n",
      "make a mistake I don't think I'm gonna catch you   unless you make a mistake it feels great it feels \r\n",
      "really good oh man I beat the rich dude my fastest   lap is two point two seconds passes yeah but I was \r\n",
      "a more composed driver which is all that matters   thank you very much for watching this episode of \r\n",
      "broke versus Pro if you like check out the stuff   we talked about this video the links will be in \r\n",
      "the description again huge shout out to Micro   Center for sponsoring my setup and I guess part \r\n",
      "of yours until next time can any parts I want\n"
     ]
    }
   ],
   "source": [
    "for index,text in enumerate(df['Transcript'][40:45]):\n",
    "  print('Review %d:\\n'%(index+1),text)"
   ]
  },
  {
   "cell_type": "code",
   "execution_count": 10,
   "metadata": {},
   "outputs": [
    {
     "name": "stdout",
     "output_type": "stream",
     "text": [
      "Review 1:\n",
      " - Oh, that's dirty.\r\n",
      "- Wow! - Whoa.\r\n",
      "- You're a dirty girl. (upbeat music) - Hey man. - What'd you get, man? How'd you get in my car? - Uh, well, we started in here. So, this is Pizza Hut,\r\n",
      "Stuffed Crust pizza. This is what we're gonna make fancy. Look at that, it's ooey gooey...\r\n",
      "- Yeah, I was gonna ask, why is it called Stuffed Crust? - So they stuffed the crust\r\n",
      "with cheese, giving you an incentive to eat the\r\n",
      "crust because a lot of people throw the crust away. - So, do I bite it first? - Yeah, yeah. You gotta go from the back. (music) - All right. So, right off the bat, it\r\n",
      "tastes a lot like the cheese on the pizza. - It is the cheese on the pizza. - But, slow down 'cause it's in the pizza. - It is also in the pizza. But now you gotta grab, while\r\n",
      "it's still in your mouth, you gotta grab another bite. - So, Josh, this isn't fast\r\n",
      "food, you went and ordered it, you didn't drive through. - We're eating a pizza, in my car, that each of us are\r\n",
      "paying less than $7 for, and it's gonna make us feel\r\n",
      "like total garbage afterwards. To me, that's fast food. - To me that's food. - That's how you eat all your meals. - That's all food. - All right. So, we\r\n",
      "gotta figure out a way to make this fancy. We need cheese. Do you agree?\r\n",
      "- I'm looking at this right now, the one thing that I can see, because of my color\r\n",
      "blindness, is the cheese. - You're actually color blind? - Very. - You're in the art department. - Don't tell anyone that. (laughs) - So, we're gonna go to Di\r\n",
      "Stefano Premium Italian cheeses, out in Pomona, cows are\r\n",
      "local, milk is local, best product around. We're gonna go learn\r\n",
      "how to make some cheese, throw that on our pie. - I want the best cheese,\r\n",
      "and I want good cheese, and I want it to be the best cheese. ♪ Wanna be the best ♪ - Remember? No songs. - No songs, demonetized. (music) - Hi, Mimmo. Nice to meet you.\r\n",
      "- Mimmo... - Lucas. - Nice to meet you. - We've heard you have the best cheese and we need the best\r\n",
      "cheese possible to make the fanciest, Pizza Hut\r\n",
      "Stuffed Crust Pizza, possible. What makes your cheese the best cheese? - Well, 1. We are local, basically. We produce everyday, fresh,\r\n",
      "and our milk is right here, about 15 minutes away. The cows, they got milked last night. Then, we get the milk, right over here, you cannot get fresher than that. And then, with more than\r\n",
      "40 years of experience, making fresh mozzarella... - 40 years of experience,\r\n",
      "that's incredible. So, how old were you when\r\n",
      "you started making cheese? - I was 12 years old, when\r\n",
      "I start making cheese. - When I was 12, I\r\n",
      "worked at a liquor store. - Whoa, that's danger. (laughs)\r\n",
      "- Yeah, well, ya know? - You were with the uncle,\r\n",
      "while I was with milk. See that? - Yeah.\r\n",
      "- Nice... - And now I'm like this\r\n",
      "and you're like this. - Yeah. (laughs) - We have 2 ways. We can go imported from\r\n",
      "Italy, that might be fancier and more expensive. But, I, kind of, like going\r\n",
      "with the local product. 'Cause you're imported from Italy and I think that's the important part, - Exactly.\r\n",
      "- Personally. - When you say made in Italy, there it is. (laughs) I'm made in Italy. - That's it. - I mean and then when you\r\n",
      "talk about fresh products, fresh Mozzarella, you want\r\n",
      "it as fresh as you can get. Do you really wanna get a\r\n",
      "product that's been traveling on an airplane, left on\r\n",
      "the pallet on the airport? My personal opinion is this is California, to me, I would prefer to\r\n",
      "use as much local product as possible because we got good products. - All right. So, I see a lot of people,\r\n",
      "they're stretching, they're pulling. Can we get our hands on that? - Yeah, lets go. Lets go for a walk. We gotta give you a tour and\r\n",
      "let you make some cheese. I gotta put you to work today. - Lets do it. (upbeat music) - So right here... After expression... (cheers in awe) Mozzarella comes from the word mozzare. Mozzare means break apart. - Oh, nice. Mozzare, so you take it like that? - No, no. From the bottom. From the bottom. - Ah, from the bottom. - We can do some more over there. - I'll get better. I'll get better. I'm a quick learner. - Like that, Josh. That's perfect.\r\n",
      "- There you go. He's from New York. He knows. (laughs) - This is freakin delicious though. - Yeah, this is amazing.\r\n",
      "- It's incredible. - When I was growing up, right? So, this is how we used to do it. The old cheese maker, they\r\n",
      "used to do it like this, watch. - Whoa... - What? - And you put cream in there. - And you pour it right in there. - Now, imagine all the cheese... I was a little kid, all the cheese makers, they were smoking... (laughs) Listen, that's why they\r\n",
      "say it doesn't taste the same anymore. - Right. - They say, \"It was better back then.\" (laughs) Do you want to make some cheese by hand? - Yes!\r\n",
      "- Yes, I do! - Forever... - Let's go do it... (upbeat music) Okay. So, the other way to do it is like this. (factory working sounds) - Oh, that's dirty. You're a dirty girl. - That makes me so excited. - Ha! Ha! Ha! Yeah. - You want to try? - Yes. Oh yeah, folding it, folding it-- - Fold. - It's really hot! You didn't say that, that was hot. We're like twins right now. I'm knocking it out of the park. Okay. I got that. - No. - No? - Look, you make the perfect ball, then you turn it, stick\r\n",
      "your thumb in there, you make a pocket, then\r\n",
      "you put cream in it, push it in... - All right. I got it. Let me try it again. - Rip it. Now turn it. - Turn it... - Now bop it. - Thumb in, making the cup, let's get the cream in. Cream in, this is really hot, you guys. - Ah, bellissimo. - Ow! - Madonna... - Marona... Perfect Italian Burrata. - How do you feel about Pizza\r\n",
      "hut's Stuffed Crust pizza? - I love it. - Yeah? - I love it. - That's great! - What type of cheese would\r\n",
      "you recommend stuffing in the crust? - Ricotta. - Ricotta? Ricotta in the crust and\r\n",
      "then fresh Burrata on top? - Yeah. That for later? - Yeah. - Wanna get out of here? - That's for later. Let's go. - Okay. So, we're making\r\n",
      "this fancy Stuffed Crust, Pizza Hut pizza, and we're doing the Supreme, right? - Uh-huh. - That's what we ate in my car. That's what we know and love. - I remember. - So, this is some Wild Boar. This is just shaved\r\n",
      "straight off of the legs. So, we're gonna grind that up into some Italian Sausage. You ever made sausage before? - No, that's a Boar? - Yeah, that was a Boar. I caught it myself. - I wanna see that video. - That is 2 year raw-milk Parmesan. We also need pepperoni. So, we got this Wagyu Beef\r\n",
      "pepperoni, right there. - Wagyu Beef? - Oh, Wagyu, it's the\r\n",
      "Japanese word for cow. - I'll probably keep calling it Wagyu. - Yeah, keep calling it Wagyu. And then of course, we have\r\n",
      "our Di Stefano Mozzarella. We hung out with Mimmo. And then, we need some olives. We have Castelvetranos,\r\n",
      "these are my favorite, imported from Italy. Also imported from Italy, we got these Calabrian Chili peppers. It's gonna give us a nice\r\n",
      "spice to our sausage. - Mimmo wouldn't hate to hear\r\n",
      "you say imported from Italy. - But he was imported from Italy. - Yeah, which was ironic. - Then, we got some Truffle salt. Truffle is real ice and fancy,\r\n",
      "kind of smells like death, a little bit. But in a good way. - Pigs find them. - So, this is the Antimo Caputo 00. It means it's a very fine ground. There's gonna be a lot\r\n",
      "of gluten to be extracted from that. Then, for a tomato sauce,\r\n",
      "we're gonna be using some of this beautiful Barolo. And then we have this Olive\r\n",
      "Oil, imported from Tuscany. Again, Mimmo would hate it. I hope he doesn't watch this. The (speaks in Italian) which means... - A piece of something cool. - That is right! We have these\r\n",
      "- Wow! - Beautiful truffles. We have a Black Winter\r\n",
      "Truffle and then we have this White Alba Truffle,\r\n",
      "that's gonna be shaved fresh over-top, and then\r\n",
      "we're gonna infuse some olive oil with it. - That's what a truffle looks like. - That's what a truffle looks like. - That's gonna take me\r\n",
      "a while to get over. - Ready to get started? - Yeah. - All right! Lets do it. - Cool. - All right. We need to get our truffle infused into this olive oil. - Ah, I was gonna say that.\r\n",
      "- So, take this whole bottle and pour it into that. - Whole one? - Yeah, most of it. I'm just gonna start\r\n",
      "shaving this truffle-- - Into the truffle... - Into the oil. So, that's gonna infuse all\r\n",
      "that oil with nice truffle. Wait, put out your hand. Eat some of that. - That tastes a lot like a mushroom. - Yeah! So it is, kind of, a mushroom, right? Keep your finger in there... And when you think it's 140 degrees, then you can stop.\r\n",
      "- Okay. Oh, it's getting hot. I don't wanna touch this anymore. - All right. So, we got yeast. Yeast, is a living organism. - Hello... - This is our pet, so they can hear you. - Does it feel fear? - Does yeast feel fear? - Yeah. - I don't think so. - Could we make that into a t-shirt? - Now we're just gonna\r\n",
      "go ahead and dissolve the yeast in sugar. - If I was the yeast, I\r\n",
      "would not like this part. Except, I know hat they like sugar. So, I would be like, \"I'm not into this.\" And then I'd, \"Oh, is that sugar?\" And I'd, kind of, get hyped. - And then Lucas, just,\r\n",
      "kind of, put your fingers in and jimmy it. - Nah, I'm good. - Okay. (mumbles in different language) - You want me to? - Yeah. Try it. It's fun. It's fun. It's fun. It's for fun. - My mom always said\r\n",
      "- We're gonna put a little bit of salt in it.\r\n",
      "- I could always say, no. If I didn't want to do something. - She seems like a nice lady. Did I meet her? - She's not that nice. - And then, I'm just gonna go ahead... So, this oil, at about to 148. Now, we're just gonna go ahead and-- - Are you gonna pour that on my hand? - Uh-oh. Uh, yeah just jimmy-- (screams) Okay and we're good. - If I eat this, like,\r\n",
      "what level of Salmonella am I gonna get? - Try it. - I'm a level two. - Good, and now we're just\r\n",
      "gonna put this in here with the dough hook\r\n",
      "attachment, and then that's gonna knead it for us. Unless you wanna kneed it yourself? - Nah, I don't need it\r\n",
      "yet. We're gonna put-- - No, do you want to,\r\n",
      "kneading is a cooking action. - All right. Well, we're just gonna\r\n",
      "go ahead and knead this for about five minutes. What that's gonna do is\r\n",
      "it's actually gonna extend the gluten networks. You keep eating the dough. You said you don't like it.\r\n",
      "- It's bad. It doesn't taste good.\r\n",
      "- You keep eating the dough. Which makes me confused. - I heard that you can\r\n",
      "eat dough like this. - And then we're just gonna\r\n",
      "go ahead and we're gonna put a little bit of this truffle oil right in there.\r\n",
      "- Not too much. - There we go. - That was great. - Now, it's gonna lube up the dough, and then we're gonna put that in a bowl... What are you looking at? - It looks different in here. - Oh, it's a whole new kitchen. We used to be in a kitchen, over there. You ready to move on, buddy? - To what? - Okay. Back to you guys. Okay. Well, you're gonna go ahead and open this bottle of wine.\r\n",
      "- Cool. - I got a wine bottle opener. Don't smash it. I'm gonna go ahead and add a large sprig of Oregano to a pot, and then\r\n",
      "a couple leaves of Basil. - What we're gonna do is\r\n",
      "we're gonna take that wine and we're gonna reduce it-- - And then--\r\n",
      "- What's that mean? - So, you're gonna go ahead\r\n",
      "and pour wine into a pot, and as it boils away, the\r\n",
      "water escapes through steam-- - But, its wine... - There's water in wine. In the way that--\r\n",
      "- I don't think so... Don't think so, Josh. (laughs)\r\n",
      "(wine cork pops) Okay\r\n",
      "- There you go. All right. And then just take a little sippy. How's it? - It's bad. - Oh, god. That is a really good bottle. - Really? - Oh, that is lovely. - The bottle is nice. But, the wine was bad. - Okay (laughs) You can have the bottle,\r\n",
      "I'll take the wine. - I'd love the bottle. - You're gonna go ahead... - Okay. - You brought your own... You brought a knife to\r\n",
      "a knife fight, I guess. So, you're just gonna run it\r\n",
      "in and you're gonna rotate the tomato... (laughs) What are you... Stop! We need those tomato. - I got it out. - You ruined it for for the sake-- - Nah, it doesn't have the core anymore.\r\n",
      "- Just watch what I do. - That's where the core's at. - You know what we need, someone to do? We need someone to look at the wine. - Somebody look at the wine. - No, I need you to just go\r\n",
      "ahead and stare at the wine and make sure it's not burning. - So to concasse a tomato is, basically, you get the skin and the seeds out, 'cause the seeds are hard\r\n",
      "to digest and the skin can be a little bit bitter... Do you think you can do one? 'Cause this is ruined now. - For what? - Well, we have... For the concasse, for the sauce--\r\n",
      "- I could eat that. It's fine. - Eat the tomato. - I can make it caprese the tomato... - In my stomach. There's so much Mozzarella in me. This is like a, you know\r\n",
      "when you make cereal in your mouth? - Yeah. Make it caprese in your mouth. Get a little seasoning\r\n",
      "- Yeah, I'm having a good time. - A little seasoning inn there. I'm laughing too hard. I'm gonna spill it. - There's a lot of people in here. You think they want any caprese? - We can make them\r\n",
      "caprese in their mouths. We have these tomatoes, they're cored and they're scored, right? - Okay. - And so we're gonna put those\r\n",
      "in there and we're gonna wait about 10 seconds until you see\r\n",
      "the skin start to peel off. Then we're gonna shock\r\n",
      "them in the ice bath. Look, you can actually\r\n",
      "see the skin peeling back. That's why we do this. So, check this out. So, watch, look the skin, it just peels... Wow! Isn't that incredible?\r\n",
      "- That's was great. - Look at the magic of cooking, Lucas. - That's really cool. - Look how cool that is! Not only that, now you can\r\n",
      "take it, and you can slice it into quarters. And then\r\n",
      "look, you just take the core right out.\r\n",
      "- Do it again. - And now you have... What? There it is. - Got it. - There it is. - Are we making something? - Yeah, we're making sauce. You now, pizza, sometimes has sauce on it? - I'm more of a lasagna guy.\r\n",
      "- You told me that pizza is your favorite food. - Really? - Yes. (laughs) - Doesn't sound like me. - So, now we're gonna heat this pan up, right?\r\n",
      "- This is cold. - We got our wine reducing,\r\n",
      "it's infusing with all these beautiful flavors of Oregano--\r\n",
      "- it doesn't look any different than it was before. - Wow, Lucas. - It's not reducing.\r\n",
      "- What a beautiful gift. - It's reducing. - Is that like when my dad reduces me, during the Christmas break? - What? - What are you doing with your career? Making props isn't something\r\n",
      "that can get money in. Dad, stop yelling at me. And then he throws the tomato at me. - I don't know if you're-- - I can't get the skin off.\r\n",
      "- I don't know if you're-- I'm worried about your relationship with your parents.\r\n",
      "- It's fine. - Is it fine? It doesn't sound\r\n",
      "- They're-- - You wouldn't be--\r\n",
      "- They're okay. - Talking about it if it wasn't-- - They're gonna watch this and be pissed...\r\n",
      "- Fine. Well, now I'm worried\r\n",
      "that I'm adding to this. - Vickie and Kevin, what the hell... Hey, the wine is burning. (laughs) - I'm just gonna put some of\r\n",
      "that truffle oil in there. Wow, look at this. Smell how fragrant--\r\n",
      "- You literally don't know what you're doing. You're like, I'm just gonna put some truffle oil in it.\r\n",
      "- No, just give me... Now we're gonna take all the tomatoes--\r\n",
      "- Imagine, if I did my job like this.\r\n",
      "- And we're gonna put those in the oil. - Whoa, what is that? - Which one?\r\n",
      "- Is that a tiny, little hatchet knife? - Yeah. - All right. Bill the Butcher, from that movie. - Is that Gangs in New York? - I'm pretty certain it's\r\n",
      "not Gangs in New York. - I think it is, right? It's Gangs in New York? - Nah, I'm 100% certain\r\n",
      "- Okay, Ben said it's - It's...\r\n",
      "- Gangs in New York. - Bill the Butcher...\r\n",
      "- \"I drink your milkshake.\" He says that, in Gangs in New York. - No, no. He says that in Game of Thrones. - Oh... - Do you know that dragons are real? - What? - You know dinosaurs were real? And I'm gonna flip in a little fact here. There's a dinosaur\r\n",
      "called the Dreadnoughts, it was 50 to 80 tons. A Boeing 737 is 30. I know a lot of stuff. You wanna talk about Octopus'? - Yes, I do. - Cool. - They're rad, man. - If anyone cares anymore,\r\n",
      "we're adding tomatoes and garlic to the truffle oil in the pot. - Are we still making a pizza? - We're still making a pizza, yeah. Just it's slower than normal. And then, we're gonna\r\n",
      "take a potato masher-- - Oh, I could do this part. - But, now it's a tomato masher. Okay, so we're keeping the tomatoes whole and then we're just\r\n",
      "using the potato masher to really break them up. So, you're gonna get the\r\n",
      "juices, nice and caramelizing. And so I'm just gonna come around here, I'm just gonna pour a\r\n",
      "bunch of wine into this. All right, so this sauce\r\n",
      "is just gonna go ahead and reduce for about\r\n",
      "10 to 15 more minutes. It's really gonna tighten up. We're gonna mount it with butter and then that should be\r\n",
      "good to go on our pizza. All right, great. So, we're gonna go ahead\r\n",
      "and make our sausage. - Cool. - So, we're doing two meats in here. We got a prime bone-in Rib eye-- - Awesome. - We're gonna get a lot\r\n",
      "of great fat off that. And then we're using Wild\r\n",
      "Boar, its a little bit leaner. - I love the Boar part of this. - So, on this Supreme Stuffed Crust pizza, they don't even call it sausage anymore, they just call it seasoned pork and beef. - Love it. So, we gotta get this cubed up. I'm just gonna grab a knife off the wall, cause I like doing this now.\r\n",
      "- I'm gonna grab one, too. I'm still deciding, you do you.\r\n",
      "- Okay, okay. So, I'm gonna start by taking\r\n",
      "the bone off this Rib eye. - I like this one cause it says\r\n",
      "a famous chef's name on it. - What chef? - Ameril Laguarde. - (laughs) Are you\r\n",
      "thinking of famous chef, Emeril Lagasse? - I saw him one time, he\r\n",
      "bammed me in the face. - What? - Why can't we just put this in it? And just, kind of... - There's a couple reasons. So, you see, this big meat\r\n",
      "can't fit into that small hole. - Now, slow down, Josh. - (speaks very slow and\r\n",
      "deliberate) So, this big meat, can't fit in this small hole. - Okay. - But there's another reason, actually. So, what we're doing with this process, we're gonna take the meats,\r\n",
      "and we're gonna cover them in salt, and then we're gonna\r\n",
      "put them in the freezer. There's a protein called Niacin, in meat, that when it's extra cold\r\n",
      "and you put a lot of force in the meat through grinding\r\n",
      "and then, kind of, whipping it, it stretches out the\r\n",
      "proteins and gives it that signature snap. - Is a Boar a pig? - A Boar is a wild pig. It's, like, a pig that\r\n",
      "goes to Fort Lauderdale, on spring break. - What's a wild cow? - Uh, I don't know that\r\n",
      "we have a word for that. - Stumped ya. - We're gonna go ahead and\r\n",
      "we're gonna dust all this with a lot of salt. Great. That's, actually, truffle salt. So, we're gonna infuse some of that more truffle aroma in there. Okay, go ahead and just\r\n",
      "pop it right in the freezer over there. That way. - Okay, all right. Josh, what are you saying?\r\n",
      "- You're doing great, buddy. Just pop it in the freezer, and then that's gonna freeze up.\r\n",
      "- Which one's the freezer? - He keeps talking about dinosaurs. I don't know how to connect with him...\r\n",
      "- Did you wanna talk more about the dinosaurs? - Yeah, what's the most\r\n",
      "interesting dinosaur fact you know, buddy? - A Triceratops has 3 tops. - (laughs) That's right. I don't care.\r\n",
      "- Okay. - So, I'm gonna turn on the grinder. You're gonna put the meat into here, and then I'm gonna shove it through, and it's gonna grind into there. Are you ready? (electric machine motor) - I'm just really happy to be here. - I'm happy you're here, too. - Sometimes, I can be hard to work with. Just cause I'm, generally, nervous, and I like to be around people. - I get that. Sometimes, I mask my\r\n",
      "emotions with sarcasm. - Sometimes, I put my\r\n",
      "fingers into my eyes. - That's a SlipKnot lyric. - I don't think so, Chuck. - No, that's definitely a SlipKnot song. - All right, all right.\r\n",
      "- I listen to SlipKnot in the car this morning. So, now what we're gonna go ahead and do, we're gonna go ahead and\r\n",
      "put in our Fennel seed, that's really signature\r\n",
      "for Italian sausage. - Hey, let me put it in. - That's black pepper. - I'm gonna put the black pepper in, it's really important for our sausage. - Yeah, do you know what? Keep going. You just do all of them. - I'm gonna put the red pepper in, it's really important, for our sausage.\r\n",
      "- It's some Paprika, which is the Hungarian word for pepper. - I'm gonna put this\r\n",
      "white pepper in there. - That's garlic which is--\r\n",
      "- It's real important for our sausage.\r\n",
      "- The garlic is a very common ingredient. And then, you didn't put\r\n",
      "the other things in there. - The red pepper. - That is our Calabrian jellies. - So, it is a pepper? - It is a pepper. You're right. I just, you know, I wanna be accurate. All right, and then\r\n",
      "you're gonna go in there and smash it with your hands, and then we have to put\r\n",
      "that in a stand mixer. - What? - What were you thinking about\r\n",
      "when I was talking to you, that made you not listen? - Dinosaurs... (laughs) - All right, Lucas,\r\n",
      "get your hands in there and mash it up. - Cool, give... - Really give it to it hard. Really, like, massage in there. Like, you ever got a deep tissue massage? - Did we name the Boar? - No, we didn't name the Boar. I got it from just, like,\r\n",
      "a man who sells Boar. - What did he name it? - Alfredo. - Alfredo the Boar? - Alfredo the Boar was his name. - That's ridiculous. (laughs) - What's an appropriate\r\n",
      "name for a Boar, to you? - Barry. - Barry the Boar. Oh, cause it's alliterative. - No... - Okay, so now, we're\r\n",
      "putting ice in there-- - What is the ice's name? - Vanilla, is the ice's name. - That was the correct answer.\r\n",
      "- So, we're gonna put some ice chips in there. That's gonna keep\r\n",
      "everything cold and you're, actually gonna emulsify\r\n",
      "little bit of water, into the fat. - Emulsify?\r\n",
      "- When we turn this on, we're gonna whip it on high. - Whoa, can you imagine\r\n",
      "if you were in there? That would be a nightmare. - That would suck.\r\n",
      "- Sometimes I have these dreams where I am the\r\n",
      "actual food bing created and I'm being butchered\r\n",
      "and eaten by a chef. - I have a lot of dreams about dinosaurs. - Now, you see how it's different? It's, kind of, sticking together? You see those strands that\r\n",
      "have formed in the meat? - What are those? - That's our sausage. You're gonna get some Pam on your hands... - You could've said that\r\n",
      "- you're gonna rub that together.\r\n",
      "- Before you got the Pam. - And then you're gonna\r\n",
      "roll these into, like, very tiny balls. - Really? - Yeah, little bitty baby--\r\n",
      "- This is where my fake degree really comes in handy. - Little bitty baby Barry balls. - I know all about balls. So, what gives sausages, their, kind of, distinctive snap?\r\n",
      "- I don't wanna do this. I'm not playing your games anymore. - Okay. Now the tone of the show\r\n",
      "is really gonna change. (laughs) My balls are much bigger than your balls. - Smaller balls, small balls-- - Nicole, can I eat this, raw? - No. - Can I wipe my hands,\r\n",
      "covered in raw meat, on the new mythical kitchen towel? - Absolutely not. - What are you doing? - I'm making a man. Those are gonna go ahead\r\n",
      "and bake off for about... Those are gonna... Those are gonna go ahead and... I'm right here... Skyler, those are gonna\r\n",
      "go ahead and bake off for about 10 minutes at 500 degrees, and then we're gonna be good to go to keep making our pizza. Lucas is making a sculpture out of meat. - His name is, Josh. - His name is Josh, is it? (laughs) Lucas, we got our truffle oil dough. It's risen, it's proofed,\r\n",
      "now we need to roll it out, and we're gonna start, actually, making this pizza. - Yeah! - Take the dough out, and we're gonna put it here. I'm just gonna go ahead\r\n",
      "and stretch the dough out. - Do they do this at, like, pizzerias? When they're making pizzas? - This is exactly how they do it. - Wow! This is really how the\r\n",
      "sausage is made, you know? - We, literally, made sausage earlier. - That was how the sausage\r\n",
      "- This is how the pizza is made.\r\n",
      "- Is made, too. I feel like I'm back in Nona's kitchen. She's hitting me with a ladle. - Idiota, idiota...\r\n",
      "- Idiota... - Yeah, I was there. - But, my grandmother\r\n",
      "was Latvian and bitter. - Did she have different hopes, for you? - No, her hope was to, like, survive World War II, and after\r\n",
      "that, she clocked out. She was good. She also liked champagne, a lot, but we've talked about that. - She seemed to take to the drink. - Yeah, this is like a Rain Johnson film. - Ryan Johnson... - That's not how you spell Ryan. Right, Ryan? - [Ryan] Yep. - You're gonna take large\r\n",
      "chinks of Mozzarella, like this, and you're gonna place it-- - Oh momma mia!\r\n",
      "- Flush against... You see the fold, there? Here, I'll take half of this,\r\n",
      "you take the other half. - After visiting the\r\n",
      "factory and just, kind of, like seeing how they make the sausage... - Mm-hmm, at the cheese factory... - I just appreciate\r\n",
      "this a little bit more. Plus, I ate so much of it that I'm, like, 80% Mozzarella. - Yeah. I'm scared of what happens when\r\n",
      "I go to the bathroom later. - I can't. Probably for a few days. - Yep. So here, you see what's happening here? We're rolling the crust over? Please, for the love of God\r\n",
      "just stop eating the cheese. - I had so-- - You've had so much cheese today. You've had too\r\n",
      "- It's such a part of me... much cheese today. It's such good cheese, I agree. Okay, we're gonna go ahead\r\n",
      "and roll this crust over. Look, are you ready to start\r\n",
      "building this pizza or what? - I thought we were. - Oh, right. So, now we're gonna take our sauce... - Is that the sauce that we made earlier? - Yes. So, this has been continuing to reduce for quite a while. - With the wine, with the reduction... - Yeah. - Our old friend... - Your old friend. (coughs) - Are you okay? You seem to be struggling over there. - Something's happenin'. - What we're gonna do,\r\n",
      "we're just gonna take nice, little dollops of cheese... - Cool. - Pop that all around.\r\n",
      "- Oh, cool. - You can do it if you want to. - Yeah, I want to. - But, no, no, again don't\r\n",
      "- I wanna get my hands - Do anything you don't\r\n",
      "- on some more cheese. want to do. Big ole dollops of cheese in there. - I don't think I've\r\n",
      "had enough cheese today. - I think you should\r\n",
      "keep eating the cheese and see what happens.\r\n",
      "- One for the pizza, one for me-za. It's making me sick. - All right (laughs) Just give me the cheese. - No, I want it, man. - No, you don't want the cheese anymore.\r\n",
      "Come on baby. - Here you get one.\r\n",
      "- Just give me some more cheese.\r\n",
      "- You get one, catch it in your mouth. (laughs) - It's gonna be a rough, next few days. - All right. So, now these are some Shishito peppers, - I love Shishsito peppers.\r\n",
      "- That have been lightly blistered. - This is really starting\r\n",
      "to look like a pizza. - I think it's gonna be good. - I'm excited. - And then we're gonna take a\r\n",
      "little bit of raw Shallots... - I love Shallots. - Shallots are great. - Shallots are, like, you know, if you know what you're\r\n",
      "doing, you get shallots. - I agree with that, yeah. - They're sweet-- - And it packs in a\r\n",
      "bigger flavor punch than using normal onions.\r\n",
      "- Packs a huge punch. - And then we're gonna\r\n",
      "take our Waygu Salami... - Wagee Salamee. - Wagee Salangee. - Wagee Salamgee. Can I try one? - Yeah. - One for the pizza... One for Lucas. - And now, we're gonna take\r\n",
      "some of that sausage... - One for Lucas... Mmm, those are really good. - That's really good sausage. - You did a good job. - Thank you. - You think I did a good job? - I think you do a great job. - I think you do a great job.\r\n",
      "- Sometimes, I put up a facade, being, kind of, like, cranky, generally, I appreciate\r\n",
      "you, and I like everything that you do. - Yeah. No, I know. It's how you communicate your feelings. - If I let anybody in, they can hurt me. - Yeah.\r\n",
      "- You know how that goes. - Keep 'em at arms' length. - Talk about dinosaurs so\r\n",
      "they don't come inside. And now, we are gonna take our truffle oil and brush the dough. - You got more cheese? - No. Lucas, look at this beautiful pizza! Are you ready to put it in the oven? - I assume that's what you gotta do next. - Yep, it sure is. - Cool.\r\n",
      "- We're gonna do it. - Do it. - We're ready to take the\r\n",
      "pizza out of the oven. - Let's finish it off. - Look at that. Lucas, she's glowing. All right, now we have to\r\n",
      "do one more, last touch on this. - Wait, is it fancy? - Oh, Lucas, does this smell fancy? - I assume that's... Yeah, I don't know. - Smells like gasoline. We're gonna put this\r\n",
      "- Smells like gasoline? - Fresh shaved, White\r\n",
      "Alba Truffle, on there. - Shave it freshly... What is this tool called, again? - This is a Mandolin. - No, that's an instrument. So, we're gonna take these\r\n",
      "thin, white truffle shavings-- - Here, let me do one. Looks fancy, so I wanna do some.\r\n",
      "- Artfully, drape these across.\r\n",
      "- Artfully? - Artfully. - You're speaking my language. Boom. Wait. One for the pizza, one for my mouth? - Get one in your mouth. - I don't know that I like that. (laughs) - Yeah, I don't know that I do, either. - I'm really not sure that I enjoyed that. - It's one of those things\r\n",
      "that they tell you that it's fancy, so you're like, \"I guess it is, but it kind of tastes like dirt.\" - For the sake of the\r\n",
      "show, we're gonna keep putting it on there. - Yeah, let's keep talking\r\n",
      "in this tone of voice. We'll just keep going there.\r\n",
      "- We can pick 'em off, if we want to. (mumbles in high pitched voice) - I had made a mention of\r\n",
      "not loving the taste of the other one. Now, you, kind of, doubled\r\n",
      "down on that by just getting a different kind, to do it again. One for the pizza, one for Lucas. - Do you like that? - I really don't like that. (laughs) Is it fancy? - Oh, it's the fanciest.\r\n",
      "- Then let's do it. - Oh, it's the fanciest. - My god. - Now, this is a pizza. You ready to cut into it? - That is a taste... Yeah, lets cut it. That is a cheesy crust. - Sure is. This looks pretty good, though. I'm not gonna lie. - That's a spicy pizza.\r\n",
      "- It looks pretty good. That's a spice... Okay, so now we gotta taste the original, Pizza Hut Stuffed Crust. - Whoa! - We're just gonna... Get outta here truffles. The pizzas look a little bit different. - They look very similar. - We got a little more color on ours. They're all the same ingredients, just ours are ramped up to a hundred. - So, now we're gonna\r\n",
      "try this and then we're gonna try that? I mean, yeah... - It's Pizza Hut... - Just like we had earlier, in the car. But we're not in a car. - It tastes better in a car. - Everything tastes better in a car.\r\n",
      "- Tastes better in a car. I think I know what slice I want. - I wanted that one but, okay. - Here, I'll give it to you. That's a nice wetta pizza pie... - There's gonna be a\r\n",
      "video of me eating this on the internet, huh? - Okay, look. Look, look, look. Oh there's some cheese in the crust. - It's a soppin' wetta pizza.\r\n",
      "- Look at that, it's so wet. Oh my god, there's so much, wet. We got such a good cheese pull. - Suck it down. - I'm doing it. - Okay. (music) - That's really good.\r\n",
      "- That was really good, and fancy, oh... Pinkies out, that was another\r\n",
      "one of my grandma's thing, pinkies out. I'm gonna hit that truffle sitch. - The sauce is, actually, really complex. Like you get a lot of that wine-- - I still don't like that. - Feed me your truffles. - I don't think I'm ever gonna like that.\r\n",
      "- Feed me your truffles then. - Here you go. - Give 'em. - It tastes more expensive than this. So, you know, how much\r\n",
      "did we spend on this? The price comparison\r\n",
      "must be, like, what? $20? - (laughs) It's a little it\r\n",
      "more expensive than that. It's $420.17. (cha-ching) Yeah, the truffles, that you hate, they're quite expensive. - This looks like peasant food, frankly. This right here-- - Get it outta here. - Get it outta here. - You know what I, kind of, like doing? I like sopping the fancy\r\n",
      "juices with my peasant pizza. - Wait, you're mixing peasant and fancy? - We're one world. - I'm making a fancy, non-fancy sandwich? - It's a Calzone, baby. We (mumbles with mouth full) I hope you had a good time. I had a great time. - I had a really good time. - I love working with you. - This is a great day of work. I think we should do this more. - I think we're gonna continue to do it. We got new recipes coming\r\n",
      "at ya at Mythical Kitchen, next week, and then we're\r\n",
      "doing another episode of Fancy Fast Food on Tuesday. I'll see you next time. - Eat! (laughs) Eat! Do you have a catch phrase\r\n",
      "that you say or is it... - Eat. - Get as messy as you want\r\n",
      "in your kitchen when you have the Mythical Kitchen Towel. Available now at Mythical.com.\n"
     ]
    }
   ],
   "source": [
    "for index,text in enumerate(df['Transcript'][0:1]):\n",
    "  print('Review %d:\\n'%(index+1),text)"
   ]
  },
  {
   "cell_type": "code",
   "execution_count": 11,
   "metadata": {
    "scrolled": false
   },
   "outputs": [
    {
     "name": "stdout",
     "output_type": "stream",
     "text": [
      "Title 1:\n",
      " Botswana Adventure Part 1 - Top Gear - BBC\n",
      "Title 2:\n",
      " Inside a captured Islamic State suicide vehicle\n",
      "Title 3:\n",
      " Introducing The Squad | Brooklyn Nine-Nine\n",
      "Title 4:\n",
      " Build a responsive website with HTML & CSS - Part 1 [Live Coding]\n",
      "Title 5:\n",
      " BROKE vs PRO Gaming Setup\n"
     ]
    }
   ],
   "source": [
    "for index,text in enumerate(df['Title'][40:45]):\n",
    "  print('Title %d:\\n'%(index+1),text)"
   ]
  },
  {
   "cell_type": "markdown",
   "metadata": {},
   "source": [
    "I count how many values they are in each category and as you can see some datas have more than 1 category so I have to split it. "
   ]
  },
  {
   "cell_type": "code",
   "execution_count": 12,
   "metadata": {
    "scrolled": true
   },
   "outputs": [
    {
     "name": "stdout",
     "output_type": "stream",
     "text": [
      "Category\n",
      "Comedy                  227\n",
      "Comedy,Entertainment     88\n",
      "Entertainment           114\n",
      "Entertainment,Comedy     88\n",
      "Food                    281\n",
      "Food,Entertainment       28\n",
      "News                    218\n",
      "Tech                    222\n",
      "Tech,Comedy              29\n",
      "Tech,News                29\n",
      "VideoGames              265\n",
      "Name: Category, dtype: int64\n"
     ]
    }
   ],
   "source": [
    "df_category = df.groupby(['Category'])['Category'].count()\n",
    "print(df_category)"
   ]
  },
  {
   "cell_type": "markdown",
   "metadata": {},
   "source": [
    "## Data Preparation\n",
    "Perform the necessary steps and explain the rationale taken here.\n",
    "\n"
   ]
  },
  {
   "cell_type": "markdown",
   "metadata": {},
   "source": [
    "Before i start off my data prep, i will first split the category column"
   ]
  },
  {
   "cell_type": "code",
   "execution_count": 13,
   "metadata": {},
   "outputs": [
    {
     "data": {
      "text/html": [
       "<div>\n",
       "<style scoped>\n",
       "    .dataframe tbody tr th:only-of-type {\n",
       "        vertical-align: middle;\n",
       "    }\n",
       "\n",
       "    .dataframe tbody tr th {\n",
       "        vertical-align: top;\n",
       "    }\n",
       "\n",
       "    .dataframe thead th {\n",
       "        text-align: right;\n",
       "    }\n",
       "</style>\n",
       "<table border=\"1\" class=\"dataframe\">\n",
       "  <thead>\n",
       "    <tr style=\"text-align: right;\">\n",
       "      <th></th>\n",
       "      <th>Id</th>\n",
       "      <th>Channel</th>\n",
       "      <th>Title</th>\n",
       "      <th>Category</th>\n",
       "      <th>Transcript</th>\n",
       "    </tr>\n",
       "  </thead>\n",
       "  <tbody>\n",
       "    <tr>\n",
       "      <th>0</th>\n",
       "      <td>RN8yoi-e2yc</td>\n",
       "      <td>Mythical Kitchen</td>\n",
       "      <td>$420 Pizza Hut Stuffed Crust Pizza | Fancy Fas...</td>\n",
       "      <td>Food</td>\n",
       "      <td>- Oh, that's dirty.\\r\\n- Wow! - Whoa.\\r\\n- You...</td>\n",
       "    </tr>\n",
       "    <tr>\n",
       "      <th>1</th>\n",
       "      <td>IugcIAAZJ2M</td>\n",
       "      <td>Munchies</td>\n",
       "      <td>The Iconic $1 Pizza Slice of NYC | Street Food...</td>\n",
       "      <td>Food</td>\n",
       "      <td>if you want good pizza come to st marks it's t...</td>\n",
       "    </tr>\n",
       "    <tr>\n",
       "      <th>2</th>\n",
       "      <td>JiEO6F8i0eU</td>\n",
       "      <td>Parks and Recreation</td>\n",
       "      <td>Ron Swanson: The Papa of Pawnee | Parks and Re...</td>\n",
       "      <td>Entertainment</td>\n",
       "      <td>April where have you been over two phone calls...</td>\n",
       "    </tr>\n",
       "    <tr>\n",
       "      <th>3</th>\n",
       "      <td>JiEO6F8i0eU</td>\n",
       "      <td>Parks and Recreation</td>\n",
       "      <td>Ron Swanson: The Papa of Pawnee | Parks and Re...</td>\n",
       "      <td>Comedy</td>\n",
       "      <td>April where have you been over two phone calls...</td>\n",
       "    </tr>\n",
       "    <tr>\n",
       "      <th>4</th>\n",
       "      <td>0ZWGeidvrJw</td>\n",
       "      <td>Doctor Who</td>\n",
       "      <td>The Doctor Defeats the Abzorbaloff | Love and ...</td>\n",
       "      <td>Entertainment</td>\n",
       "      <td>Oh, what's the matter?\\r\\nHave you given up so...</td>\n",
       "    </tr>\n",
       "  </tbody>\n",
       "</table>\n",
       "</div>"
      ],
      "text/plain": [
       "            Id               Channel  \\\n",
       "0  RN8yoi-e2yc      Mythical Kitchen   \n",
       "1  IugcIAAZJ2M              Munchies   \n",
       "2  JiEO6F8i0eU  Parks and Recreation   \n",
       "3  JiEO6F8i0eU  Parks and Recreation   \n",
       "4  0ZWGeidvrJw            Doctor Who   \n",
       "\n",
       "                                               Title       Category  \\\n",
       "0  $420 Pizza Hut Stuffed Crust Pizza | Fancy Fas...           Food   \n",
       "1  The Iconic $1 Pizza Slice of NYC | Street Food...           Food   \n",
       "2  Ron Swanson: The Papa of Pawnee | Parks and Re...  Entertainment   \n",
       "3  Ron Swanson: The Papa of Pawnee | Parks and Re...         Comedy   \n",
       "4  The Doctor Defeats the Abzorbaloff | Love and ...  Entertainment   \n",
       "\n",
       "                                          Transcript  \n",
       "0  - Oh, that's dirty.\\r\\n- Wow! - Whoa.\\r\\n- You...  \n",
       "1  if you want good pizza come to st marks it's t...  \n",
       "2  April where have you been over two phone calls...  \n",
       "3  April where have you been over two phone calls...  \n",
       "4  Oh, what's the matter?\\r\\nHave you given up so...  "
      ]
     },
     "execution_count": 13,
     "metadata": {},
     "output_type": "execute_result"
    }
   ],
   "source": [
    "reshaped_DF = \\\n",
    "(df.set_index(df.columns.drop('Category',1).tolist())\n",
    "   .Category.str.split(',', expand=True)\n",
    "   .stack()\n",
    "   .reset_index()\n",
    "   .rename(columns={0:'Category'})\n",
    "   .loc[:, df.columns]\n",
    ")\n",
    "\n",
    "reshaped_DF.head()"
   ]
  },
  {
   "cell_type": "markdown",
   "metadata": {},
   "source": [
    "### Data Prep For Transcript Column"
   ]
  },
  {
   "cell_type": "markdown",
   "metadata": {},
   "source": [
    "I have to do case normalization as I want to expand contractions, without doing case normalization some words wont be read as contraction as some of them are caps "
   ]
  },
  {
   "cell_type": "code",
   "execution_count": 14,
   "metadata": {},
   "outputs": [],
   "source": [
    "reshaped_DF['Transcript']=reshaped_DF['Transcript'].apply(lambda x: x.lower())"
   ]
  },
  {
   "cell_type": "markdown",
   "metadata": {},
   "source": [
    "Next, I notice the datas have contractions like I'll or I'm therefore i will expand it. "
   ]
  },
  {
   "cell_type": "code",
   "execution_count": 15,
   "metadata": {},
   "outputs": [],
   "source": [
    "# Dictionary of English Contractions\n",
    "contractions_dict = { \"ain't\": \"are not\",\"'s\":\" is\",\"aren't\": \"are not\",\n",
    "                     \"can't\": \"cannot\",\"can't've\": \"cannot have\",\n",
    "                     \"'cause\": \"because\",\"could've\": \"could have\",\"couldn't\": \"could not\",\n",
    "                     \"couldn't've\": \"could not have\", \"didn't\": \"did not\",\"doesn't\": \"does not\",\n",
    "                     \"don't\": \"do not\",\"hadn't\": \"had not\",\"hadn't've\": \"had not have\",\n",
    "                     \"hasn't\": \"has not\",\"haven't\": \"have not\",\"he'd\": \"he would\",\n",
    "                     \"he'd've\": \"he would have\",\"he'll\": \"he will\", \"he'll've\": \"he will have\",\n",
    "                     \"how'd\": \"how did\",\"how'd'y\": \"how do you\",\"how'll\": \"how will\",\n",
    "                     \"I'd\": \"I would\", \"I'd've\": \"I would have\",\"I'll\": \"I will\",\n",
    "                     \"I'll've\": \"I will have\",\"I'm\": \"I am\",\"I've\": \"I have\", \"isn't\": \"is not\",\n",
    "                     \"it'd\": \"it would\",\"it'd've\": \"it would have\",\"it'll\": \"it will\",\n",
    "                     \"it'll've\": \"it will have\", \"let's\": \"let us\",\"ma'am\": \"madam\",\n",
    "                     \"mayn't\": \"may not\",\"might've\": \"might have\",\"mightn't\": \"might not\", \n",
    "                     \"mightn't've\": \"might not have\",\"must've\": \"must have\",\"mustn't\": \"must not\",\n",
    "                     \"mustn't've\": \"must not have\", \"needn't\": \"need not\",\n",
    "                     \"needn't've\": \"need not have\",\"o'clock\": \"of the clock\",\"oughtn't\": \"ought not\",\n",
    "                     \"oughtn't've\": \"ought not have\",\"shan't\": \"shall not\",\"sha'n't\": \"shall not\",\n",
    "                     \"shan't've\": \"shall not have\",\"she'd\": \"she would\",\"she'd've\": \"she would have\",\n",
    "                     \"she'll\": \"she will\", \"she'll've\": \"she will have\",\"should've\": \"should have\",\n",
    "                     \"shouldn't\": \"should not\", \"shouldn't've\": \"should not have\",\"so've\": \"so have\",\n",
    "                     \"that'd\": \"that would\",\"that'd've\": \"that would have\", \"there'd\": \"there would\",\n",
    "                     \"there'd've\": \"there would have\", \"they'd\": \"they would\",\n",
    "                     \"they'd've\": \"they would have\",\"they'll\": \"they will\",\n",
    "                     \"they'll've\": \"they will have\", \"they're\": \"they are\",\"they've\": \"they have\",\n",
    "                     \"to've\": \"to have\",\"wasn't\": \"was not\",\"we'd\": \"we would\",\n",
    "                     \"we'd've\": \"we would have\",\"we'll\": \"we will\",\"we'll've\": \"we will have\",\n",
    "                     \"we're\": \"we are\",\"we've\": \"we have\", \"weren't\": \"were not\",\"what'll\": \"what will\",\n",
    "                     \"what'll've\": \"what will have\",\"what're\": \"what are\", \"what've\": \"what have\",\n",
    "                     \"when've\": \"when have\",\"where'd\": \"where did\", \"where've\": \"where have\",\n",
    "                     \"who'll\": \"who will\",\"who'll've\": \"who will have\",\"who've\": \"who have\",\n",
    "                     \"why've\": \"why have\",\"will've\": \"will have\",\"won't\": \"will not\",\n",
    "                     \"won't've\": \"will not have\", \"would've\": \"would have\",\"wouldn't\": \"would not\",\n",
    "                     \"wouldn't've\": \"would not have\",\"y'all\": \"you all\", \"y'all'd\": \"you all would\",\n",
    "                     \"y'all'd've\": \"you all would have\",\"y'all're\": \"you all are\",\n",
    "                     \"y'all've\": \"you all have\", \"you'd\": \"you would\",\"you'd've\": \"you would have\",\n",
    "                     \"you'll\": \"you will\",\"you'll've\": \"you will have\", \"you're\": \"you are\",\n",
    "                     \"you've\": \"you have\", \"what'd\": \"what did\"}\n",
    "\n",
    "# Regular expression for finding contractions\n",
    "contractions_re=re.compile('(%s)' % '|'.join(contractions_dict.keys()))\n",
    "\n",
    "# Function for expanding contractions\n",
    "def expand_contractions(text,contractions_dict=contractions_dict):\n",
    "  def replace(match):\n",
    "    return contractions_dict[match.group(0)]\n",
    "  return contractions_re.sub(replace, text)\n",
    "\n",
    "# Expanding Contractions in the reviews\n",
    "reshaped_DF['Transcript']=reshaped_DF['Transcript'].apply(lambda x:expand_contractions(x))"
   ]
  },
  {
   "cell_type": "markdown",
   "metadata": {},
   "source": [
    "This step will remove any excess space I have in the sentence"
   ]
  },
  {
   "cell_type": "code",
   "execution_count": 16,
   "metadata": {},
   "outputs": [],
   "source": [
    "reshaped_DF['Transcript']=reshaped_DF['Transcript'].apply(lambda x: re.sub(' +',' ',x))"
   ]
  },
  {
   "cell_type": "markdown",
   "metadata": {},
   "source": [
    "After removing excess space, I will remove stowords, number, punctuation and stem the words to root word and do tokenization"
   ]
  },
  {
   "cell_type": "code",
   "execution_count": 17,
   "metadata": {},
   "outputs": [],
   "source": [
    "def clean(doc):\n",
    "    all_words_clean = []\n",
    "    for word in doc:\n",
    "        # remove stopwords and number\n",
    "        if word not in stop_words:\n",
    "            # remove punctuation\n",
    "            punc_free = ''.join([ch for ch in word if ch not in string.punctuation])\n",
    "            if len(punc_free)>=2 and not punc_free.isdigit():\n",
    "                # stem word to root word\n",
    "                all_words_clean.append(porter_stemmer.stem(punc_free))\n",
    "\n",
    "    return all_words_clean"
   ]
  },
  {
   "cell_type": "code",
   "execution_count": 18,
   "metadata": {
    "scrolled": true
   },
   "outputs": [
    {
     "data": {
      "text/html": [
       "<div>\n",
       "<style scoped>\n",
       "    .dataframe tbody tr th:only-of-type {\n",
       "        vertical-align: middle;\n",
       "    }\n",
       "\n",
       "    .dataframe tbody tr th {\n",
       "        vertical-align: top;\n",
       "    }\n",
       "\n",
       "    .dataframe thead th {\n",
       "        text-align: right;\n",
       "    }\n",
       "</style>\n",
       "<table border=\"1\" class=\"dataframe\">\n",
       "  <thead>\n",
       "    <tr style=\"text-align: right;\">\n",
       "      <th></th>\n",
       "      <th>Id</th>\n",
       "      <th>Channel</th>\n",
       "      <th>Title</th>\n",
       "      <th>Category</th>\n",
       "      <th>Transcript</th>\n",
       "    </tr>\n",
       "  </thead>\n",
       "  <tbody>\n",
       "    <tr>\n",
       "      <th>0</th>\n",
       "      <td>RN8yoi-e2yc</td>\n",
       "      <td>Mythical Kitchen</td>\n",
       "      <td>$420 Pizza Hut Stuffed Crust Pizza | Fancy Fas...</td>\n",
       "      <td>Food</td>\n",
       "      <td>[oh, dirti, wow, whoa, dirti, girl, upbeat, mu...</td>\n",
       "    </tr>\n",
       "    <tr>\n",
       "      <th>1</th>\n",
       "      <td>IugcIAAZJ2M</td>\n",
       "      <td>Munchies</td>\n",
       "      <td>The Iconic $1 Pizza Slice of NYC | Street Food...</td>\n",
       "      <td>Food</td>\n",
       "      <td>[want, good, pizza, come, st, mark, best, pizz...</td>\n",
       "    </tr>\n",
       "    <tr>\n",
       "      <th>2</th>\n",
       "      <td>JiEO6F8i0eU</td>\n",
       "      <td>Parks and Recreation</td>\n",
       "      <td>Ron Swanson: The Papa of Pawnee | Parks and Re...</td>\n",
       "      <td>Entertainment</td>\n",
       "      <td>[april, two, phone, call, came, uninvit, rais,...</td>\n",
       "    </tr>\n",
       "    <tr>\n",
       "      <th>3</th>\n",
       "      <td>JiEO6F8i0eU</td>\n",
       "      <td>Parks and Recreation</td>\n",
       "      <td>Ron Swanson: The Papa of Pawnee | Parks and Re...</td>\n",
       "      <td>Comedy</td>\n",
       "      <td>[april, two, phone, call, came, uninvit, rais,...</td>\n",
       "    </tr>\n",
       "    <tr>\n",
       "      <th>4</th>\n",
       "      <td>0ZWGeidvrJw</td>\n",
       "      <td>Doctor Who</td>\n",
       "      <td>The Doctor Defeats the Abzorbaloff | Love and ...</td>\n",
       "      <td>Entertainment</td>\n",
       "      <td>[oh, matter, given, soon, point, would, go, ev...</td>\n",
       "    </tr>\n",
       "  </tbody>\n",
       "</table>\n",
       "</div>"
      ],
      "text/plain": [
       "            Id               Channel  \\\n",
       "0  RN8yoi-e2yc      Mythical Kitchen   \n",
       "1  IugcIAAZJ2M              Munchies   \n",
       "2  JiEO6F8i0eU  Parks and Recreation   \n",
       "3  JiEO6F8i0eU  Parks and Recreation   \n",
       "4  0ZWGeidvrJw            Doctor Who   \n",
       "\n",
       "                                               Title       Category  \\\n",
       "0  $420 Pizza Hut Stuffed Crust Pizza | Fancy Fas...           Food   \n",
       "1  The Iconic $1 Pizza Slice of NYC | Street Food...           Food   \n",
       "2  Ron Swanson: The Papa of Pawnee | Parks and Re...  Entertainment   \n",
       "3  Ron Swanson: The Papa of Pawnee | Parks and Re...         Comedy   \n",
       "4  The Doctor Defeats the Abzorbaloff | Love and ...  Entertainment   \n",
       "\n",
       "                                          Transcript  \n",
       "0  [oh, dirti, wow, whoa, dirti, girl, upbeat, mu...  \n",
       "1  [want, good, pizza, come, st, mark, best, pizz...  \n",
       "2  [april, two, phone, call, came, uninvit, rais,...  \n",
       "3  [april, two, phone, call, came, uninvit, rais,...  \n",
       "4  [oh, matter, given, soon, point, would, go, ev...  "
      ]
     },
     "execution_count": 18,
     "metadata": {},
     "output_type": "execute_result"
    }
   ],
   "source": [
    "reshaped_DF['Transcript'] = reshaped_DF['Transcript'].apply(lambda x: word_tokenize(x))\n",
    "reshaped_DF['Transcript'] = reshaped_DF['Transcript'].apply(lambda x: clean(x))  \n",
    "reshaped_DF.head()"
   ]
  },
  {
   "cell_type": "markdown",
   "metadata": {},
   "source": [
    "Now I am done with data prep for transcript column, I will move on to the Title column "
   ]
  },
  {
   "cell_type": "markdown",
   "metadata": {},
   "source": [
    "### Data Prep For Title Column"
   ]
  },
  {
   "cell_type": "code",
   "execution_count": 19,
   "metadata": {
    "scrolled": false
   },
   "outputs": [
    {
     "data": {
      "text/html": [
       "<div>\n",
       "<style scoped>\n",
       "    .dataframe tbody tr th:only-of-type {\n",
       "        vertical-align: middle;\n",
       "    }\n",
       "\n",
       "    .dataframe tbody tr th {\n",
       "        vertical-align: top;\n",
       "    }\n",
       "\n",
       "    .dataframe thead th {\n",
       "        text-align: right;\n",
       "    }\n",
       "</style>\n",
       "<table border=\"1\" class=\"dataframe\">\n",
       "  <thead>\n",
       "    <tr style=\"text-align: right;\">\n",
       "      <th></th>\n",
       "      <th>Id</th>\n",
       "      <th>Channel</th>\n",
       "      <th>Title</th>\n",
       "      <th>Category</th>\n",
       "      <th>Transcript</th>\n",
       "    </tr>\n",
       "  </thead>\n",
       "  <tbody>\n",
       "    <tr>\n",
       "      <th>0</th>\n",
       "      <td>RN8yoi-e2yc</td>\n",
       "      <td>Mythical Kitchen</td>\n",
       "      <td>[pizza, hut, stuf, crust, pizza, fanci, fast, ...</td>\n",
       "      <td>Food</td>\n",
       "      <td>[oh, dirti, wow, whoa, dirti, girl, upbeat, mu...</td>\n",
       "    </tr>\n",
       "    <tr>\n",
       "      <th>1</th>\n",
       "      <td>IugcIAAZJ2M</td>\n",
       "      <td>Munchies</td>\n",
       "      <td>[icon, pizza, slice, nyc, street, food, icon]</td>\n",
       "      <td>Food</td>\n",
       "      <td>[want, good, pizza, come, st, mark, best, pizz...</td>\n",
       "    </tr>\n",
       "    <tr>\n",
       "      <th>2</th>\n",
       "      <td>JiEO6F8i0eU</td>\n",
       "      <td>Parks and Recreation</td>\n",
       "      <td>[ron, swanson, papa, pawne, park, recreat]</td>\n",
       "      <td>Entertainment</td>\n",
       "      <td>[april, two, phone, call, came, uninvit, rais,...</td>\n",
       "    </tr>\n",
       "    <tr>\n",
       "      <th>3</th>\n",
       "      <td>JiEO6F8i0eU</td>\n",
       "      <td>Parks and Recreation</td>\n",
       "      <td>[ron, swanson, papa, pawne, park, recreat]</td>\n",
       "      <td>Comedy</td>\n",
       "      <td>[april, two, phone, call, came, uninvit, rais,...</td>\n",
       "    </tr>\n",
       "    <tr>\n",
       "      <th>4</th>\n",
       "      <td>0ZWGeidvrJw</td>\n",
       "      <td>Doctor Who</td>\n",
       "      <td>[doctor, defeat, abzorbaloff, love, monster, d...</td>\n",
       "      <td>Entertainment</td>\n",
       "      <td>[oh, matter, given, soon, point, would, go, ev...</td>\n",
       "    </tr>\n",
       "  </tbody>\n",
       "</table>\n",
       "</div>"
      ],
      "text/plain": [
       "            Id               Channel  \\\n",
       "0  RN8yoi-e2yc      Mythical Kitchen   \n",
       "1  IugcIAAZJ2M              Munchies   \n",
       "2  JiEO6F8i0eU  Parks and Recreation   \n",
       "3  JiEO6F8i0eU  Parks and Recreation   \n",
       "4  0ZWGeidvrJw            Doctor Who   \n",
       "\n",
       "                                               Title       Category  \\\n",
       "0  [pizza, hut, stuf, crust, pizza, fanci, fast, ...           Food   \n",
       "1      [icon, pizza, slice, nyc, street, food, icon]           Food   \n",
       "2         [ron, swanson, papa, pawne, park, recreat]  Entertainment   \n",
       "3         [ron, swanson, papa, pawne, park, recreat]         Comedy   \n",
       "4  [doctor, defeat, abzorbaloff, love, monster, d...  Entertainment   \n",
       "\n",
       "                                          Transcript  \n",
       "0  [oh, dirti, wow, whoa, dirti, girl, upbeat, mu...  \n",
       "1  [want, good, pizza, come, st, mark, best, pizz...  \n",
       "2  [april, two, phone, call, came, uninvit, rais,...  \n",
       "3  [april, two, phone, call, came, uninvit, rais,...  \n",
       "4  [oh, matter, given, soon, point, would, go, ev...  "
      ]
     },
     "execution_count": 19,
     "metadata": {},
     "output_type": "execute_result"
    }
   ],
   "source": [
    "reshaped_DF['Title']=reshaped_DF['Title'].apply(lambda x:expand_contractions(x))\n",
    "reshaped_DF['Title'] = reshaped_DF['Title'].apply(lambda x: word_tokenize(x.lower()))\n",
    "reshaped_DF['Title'] = reshaped_DF['Title'].apply(lambda x: clean(x))  \n",
    "reshaped_DF.head()"
   ]
  },
  {
   "cell_type": "code",
   "execution_count": 20,
   "metadata": {
    "scrolled": true
   },
   "outputs": [
    {
     "name": "stdout",
     "output_type": "stream",
     "text": [
      "Title 1:\n",
      " ['window', 'real']\n",
      "Title 2:\n",
      " ['build', 'ultim', 'xbox']\n",
      "Title 3:\n",
      " ['celebr', 'imperson', 'celebr', 'graham', 'norton', 'show']\n",
      "Title 4:\n",
      " ['celebr', 'imperson', 'celebr', 'graham', 'norton', 'show']\n",
      "Title 5:\n",
      " ['battlefield', 'best', 'gun', 'class']\n"
     ]
    }
   ],
   "source": [
    "for index,text in enumerate(reshaped_DF['Title'][40:45]):\n",
    "  print('Title %d:\\n'%(index+1),text)"
   ]
  },
  {
   "cell_type": "markdown",
   "metadata": {},
   "source": [
    "### Data Prep For Category Column"
   ]
  },
  {
   "cell_type": "markdown",
   "metadata": {},
   "source": [
    "Since the column is only category the only data prep I will be doing is Case Normalization"
   ]
  },
  {
   "cell_type": "code",
   "execution_count": 21,
   "metadata": {},
   "outputs": [],
   "source": [
    "reshaped_DF['Category_Cleaned']=reshaped_DF['Category'].apply(lambda x: x.lower())"
   ]
  },
  {
   "cell_type": "code",
   "execution_count": 22,
   "metadata": {
    "scrolled": false
   },
   "outputs": [
    {
     "data": {
      "text/html": [
       "<div>\n",
       "<style scoped>\n",
       "    .dataframe tbody tr th:only-of-type {\n",
       "        vertical-align: middle;\n",
       "    }\n",
       "\n",
       "    .dataframe tbody tr th {\n",
       "        vertical-align: top;\n",
       "    }\n",
       "\n",
       "    .dataframe thead th {\n",
       "        text-align: right;\n",
       "    }\n",
       "</style>\n",
       "<table border=\"1\" class=\"dataframe\">\n",
       "  <thead>\n",
       "    <tr style=\"text-align: right;\">\n",
       "      <th></th>\n",
       "      <th>Id</th>\n",
       "      <th>Channel</th>\n",
       "      <th>Title</th>\n",
       "      <th>Category</th>\n",
       "      <th>Transcript</th>\n",
       "      <th>Category_Cleaned</th>\n",
       "    </tr>\n",
       "  </thead>\n",
       "  <tbody>\n",
       "    <tr>\n",
       "      <th>0</th>\n",
       "      <td>RN8yoi-e2yc</td>\n",
       "      <td>Mythical Kitchen</td>\n",
       "      <td>[pizza, hut, stuf, crust, pizza, fanci, fast, ...</td>\n",
       "      <td>Food</td>\n",
       "      <td>[oh, dirti, wow, whoa, dirti, girl, upbeat, mu...</td>\n",
       "      <td>food</td>\n",
       "    </tr>\n",
       "    <tr>\n",
       "      <th>1</th>\n",
       "      <td>IugcIAAZJ2M</td>\n",
       "      <td>Munchies</td>\n",
       "      <td>[icon, pizza, slice, nyc, street, food, icon]</td>\n",
       "      <td>Food</td>\n",
       "      <td>[want, good, pizza, come, st, mark, best, pizz...</td>\n",
       "      <td>food</td>\n",
       "    </tr>\n",
       "    <tr>\n",
       "      <th>2</th>\n",
       "      <td>JiEO6F8i0eU</td>\n",
       "      <td>Parks and Recreation</td>\n",
       "      <td>[ron, swanson, papa, pawne, park, recreat]</td>\n",
       "      <td>Entertainment</td>\n",
       "      <td>[april, two, phone, call, came, uninvit, rais,...</td>\n",
       "      <td>entertainment</td>\n",
       "    </tr>\n",
       "    <tr>\n",
       "      <th>3</th>\n",
       "      <td>JiEO6F8i0eU</td>\n",
       "      <td>Parks and Recreation</td>\n",
       "      <td>[ron, swanson, papa, pawne, park, recreat]</td>\n",
       "      <td>Comedy</td>\n",
       "      <td>[april, two, phone, call, came, uninvit, rais,...</td>\n",
       "      <td>comedy</td>\n",
       "    </tr>\n",
       "    <tr>\n",
       "      <th>4</th>\n",
       "      <td>0ZWGeidvrJw</td>\n",
       "      <td>Doctor Who</td>\n",
       "      <td>[doctor, defeat, abzorbaloff, love, monster, d...</td>\n",
       "      <td>Entertainment</td>\n",
       "      <td>[oh, matter, given, soon, point, would, go, ev...</td>\n",
       "      <td>entertainment</td>\n",
       "    </tr>\n",
       "  </tbody>\n",
       "</table>\n",
       "</div>"
      ],
      "text/plain": [
       "            Id               Channel  \\\n",
       "0  RN8yoi-e2yc      Mythical Kitchen   \n",
       "1  IugcIAAZJ2M              Munchies   \n",
       "2  JiEO6F8i0eU  Parks and Recreation   \n",
       "3  JiEO6F8i0eU  Parks and Recreation   \n",
       "4  0ZWGeidvrJw            Doctor Who   \n",
       "\n",
       "                                               Title       Category  \\\n",
       "0  [pizza, hut, stuf, crust, pizza, fanci, fast, ...           Food   \n",
       "1      [icon, pizza, slice, nyc, street, food, icon]           Food   \n",
       "2         [ron, swanson, papa, pawne, park, recreat]  Entertainment   \n",
       "3         [ron, swanson, papa, pawne, park, recreat]         Comedy   \n",
       "4  [doctor, defeat, abzorbaloff, love, monster, d...  Entertainment   \n",
       "\n",
       "                                          Transcript Category_Cleaned  \n",
       "0  [oh, dirti, wow, whoa, dirti, girl, upbeat, mu...             food  \n",
       "1  [want, good, pizza, come, st, mark, best, pizz...             food  \n",
       "2  [april, two, phone, call, came, uninvit, rais,...    entertainment  \n",
       "3  [april, two, phone, call, came, uninvit, rais,...           comedy  \n",
       "4  [oh, matter, given, soon, point, would, go, ev...    entertainment  "
      ]
     },
     "execution_count": 22,
     "metadata": {},
     "output_type": "execute_result"
    }
   ],
   "source": [
    "reshaped_DF.head()"
   ]
  },
  {
   "cell_type": "markdown",
   "metadata": {},
   "source": [
    "## Modelling\n",
    "Perform the necessary steps and explain the rationale taken here.\n",
    "\n"
   ]
  },
  {
   "cell_type": "code",
   "execution_count": 23,
   "metadata": {},
   "outputs": [],
   "source": [
    "reshaped_DF['Transcript_Cleaned'] = reshaped_DF['Transcript'].apply(lambda x: \" \".join(x))  \n",
    "reshaped_DF['Title_Cleaned'] = reshaped_DF['Title'].apply(lambda x: \" \".join(x))  "
   ]
  },
  {
   "cell_type": "code",
   "execution_count": 24,
   "metadata": {
    "scrolled": true
   },
   "outputs": [
    {
     "data": {
      "text/html": [
       "<div>\n",
       "<style scoped>\n",
       "    .dataframe tbody tr th:only-of-type {\n",
       "        vertical-align: middle;\n",
       "    }\n",
       "\n",
       "    .dataframe tbody tr th {\n",
       "        vertical-align: top;\n",
       "    }\n",
       "\n",
       "    .dataframe thead th {\n",
       "        text-align: right;\n",
       "    }\n",
       "</style>\n",
       "<table border=\"1\" class=\"dataframe\">\n",
       "  <thead>\n",
       "    <tr style=\"text-align: right;\">\n",
       "      <th></th>\n",
       "      <th>Id</th>\n",
       "      <th>Channel</th>\n",
       "      <th>Title</th>\n",
       "      <th>Category</th>\n",
       "      <th>Transcript</th>\n",
       "      <th>Category_Cleaned</th>\n",
       "      <th>Transcript_Cleaned</th>\n",
       "      <th>Title_Cleaned</th>\n",
       "    </tr>\n",
       "  </thead>\n",
       "  <tbody>\n",
       "    <tr>\n",
       "      <th>0</th>\n",
       "      <td>RN8yoi-e2yc</td>\n",
       "      <td>Mythical Kitchen</td>\n",
       "      <td>[pizza, hut, stuf, crust, pizza, fanci, fast, ...</td>\n",
       "      <td>Food</td>\n",
       "      <td>[oh, dirti, wow, whoa, dirti, girl, upbeat, mu...</td>\n",
       "      <td>food</td>\n",
       "      <td>oh dirti wow whoa dirti girl upbeat music hei ...</td>\n",
       "      <td>pizza hut stuf crust pizza fanci fast food myt...</td>\n",
       "    </tr>\n",
       "    <tr>\n",
       "      <th>1</th>\n",
       "      <td>IugcIAAZJ2M</td>\n",
       "      <td>Munchies</td>\n",
       "      <td>[icon, pizza, slice, nyc, street, food, icon]</td>\n",
       "      <td>Food</td>\n",
       "      <td>[want, good, pizza, come, st, mark, best, pizz...</td>\n",
       "      <td>food</td>\n",
       "      <td>want good pizza come st mark best pizza ll bor...</td>\n",
       "      <td>icon pizza slice nyc street food icon</td>\n",
       "    </tr>\n",
       "    <tr>\n",
       "      <th>2</th>\n",
       "      <td>JiEO6F8i0eU</td>\n",
       "      <td>Parks and Recreation</td>\n",
       "      <td>[ron, swanson, papa, pawne, park, recreat]</td>\n",
       "      <td>Entertainment</td>\n",
       "      <td>[april, two, phone, call, came, uninvit, rais,...</td>\n",
       "      <td>entertainment</td>\n",
       "      <td>april two phone call came uninvit rais monei c...</td>\n",
       "      <td>ron swanson papa pawne park recreat</td>\n",
       "    </tr>\n",
       "    <tr>\n",
       "      <th>3</th>\n",
       "      <td>JiEO6F8i0eU</td>\n",
       "      <td>Parks and Recreation</td>\n",
       "      <td>[ron, swanson, papa, pawne, park, recreat]</td>\n",
       "      <td>Comedy</td>\n",
       "      <td>[april, two, phone, call, came, uninvit, rais,...</td>\n",
       "      <td>comedy</td>\n",
       "      <td>april two phone call came uninvit rais monei c...</td>\n",
       "      <td>ron swanson papa pawne park recreat</td>\n",
       "    </tr>\n",
       "    <tr>\n",
       "      <th>4</th>\n",
       "      <td>0ZWGeidvrJw</td>\n",
       "      <td>Doctor Who</td>\n",
       "      <td>[doctor, defeat, abzorbaloff, love, monster, d...</td>\n",
       "      <td>Entertainment</td>\n",
       "      <td>[oh, matter, given, soon, point, would, go, ev...</td>\n",
       "      <td>entertainment</td>\n",
       "      <td>oh matter given soon point would go everyth ev...</td>\n",
       "      <td>doctor defeat abzorbaloff love monster doctor</td>\n",
       "    </tr>\n",
       "  </tbody>\n",
       "</table>\n",
       "</div>"
      ],
      "text/plain": [
       "            Id               Channel  \\\n",
       "0  RN8yoi-e2yc      Mythical Kitchen   \n",
       "1  IugcIAAZJ2M              Munchies   \n",
       "2  JiEO6F8i0eU  Parks and Recreation   \n",
       "3  JiEO6F8i0eU  Parks and Recreation   \n",
       "4  0ZWGeidvrJw            Doctor Who   \n",
       "\n",
       "                                               Title       Category  \\\n",
       "0  [pizza, hut, stuf, crust, pizza, fanci, fast, ...           Food   \n",
       "1      [icon, pizza, slice, nyc, street, food, icon]           Food   \n",
       "2         [ron, swanson, papa, pawne, park, recreat]  Entertainment   \n",
       "3         [ron, swanson, papa, pawne, park, recreat]         Comedy   \n",
       "4  [doctor, defeat, abzorbaloff, love, monster, d...  Entertainment   \n",
       "\n",
       "                                          Transcript Category_Cleaned  \\\n",
       "0  [oh, dirti, wow, whoa, dirti, girl, upbeat, mu...             food   \n",
       "1  [want, good, pizza, come, st, mark, best, pizz...             food   \n",
       "2  [april, two, phone, call, came, uninvit, rais,...    entertainment   \n",
       "3  [april, two, phone, call, came, uninvit, rais,...           comedy   \n",
       "4  [oh, matter, given, soon, point, would, go, ev...    entertainment   \n",
       "\n",
       "                                  Transcript_Cleaned  \\\n",
       "0  oh dirti wow whoa dirti girl upbeat music hei ...   \n",
       "1  want good pizza come st mark best pizza ll bor...   \n",
       "2  april two phone call came uninvit rais monei c...   \n",
       "3  april two phone call came uninvit rais monei c...   \n",
       "4  oh matter given soon point would go everyth ev...   \n",
       "\n",
       "                                       Title_Cleaned  \n",
       "0  pizza hut stuf crust pizza fanci fast food myt...  \n",
       "1              icon pizza slice nyc street food icon  \n",
       "2                ron swanson papa pawne park recreat  \n",
       "3                ron swanson papa pawne park recreat  \n",
       "4      doctor defeat abzorbaloff love monster doctor  "
      ]
     },
     "execution_count": 24,
     "metadata": {},
     "output_type": "execute_result"
    }
   ],
   "source": [
    "reshaped_DF.head()"
   ]
  },
  {
   "cell_type": "markdown",
   "metadata": {},
   "source": [
    "## Generate Vector Space Model using TF-IDF"
   ]
  },
  {
   "cell_type": "code",
   "execution_count": 25,
   "metadata": {
    "scrolled": false
   },
   "outputs": [
    {
     "name": "stderr",
     "output_type": "stream",
     "text": [
      "C:\\Users\\Admin\\anaconda3\\lib\\site-packages\\sklearn\\utils\\deprecation.py:87: FutureWarning: Function get_feature_names is deprecated; get_feature_names is deprecated in 1.0 and will be removed in 1.2. Please use get_feature_names_out instead.\n",
      "  warnings.warn(msg, category=FutureWarning)\n"
     ]
    }
   ],
   "source": [
    "import pandas as pd\n",
    "from sklearn.feature_extraction.text import TfidfVectorizer\n",
    "from sklearn.preprocessing import FunctionTransformer\n",
    "from sklearn.pipeline import FeatureUnion, Pipeline\n",
    "\n",
    "#putting 2 columns together to do tf-idf \n",
    "df_all = reshaped_DF[reshaped_DF.columns[6:8]]\n",
    "\n",
    "transformer = FeatureUnion([\n",
    "                ('transcript_cleaned_tfidf', \n",
    "                  Pipeline([('extract_field',\n",
    "                              FunctionTransformer(lambda x: x['Transcript_Cleaned'], \n",
    "                                                  validate=False)),\n",
    "                            ('tfidf', \n",
    "                              TfidfVectorizer())])),\n",
    "                ('title_cleaned_tfidf', \n",
    "                  Pipeline([('extract_field', \n",
    "                              FunctionTransformer(lambda x: x['Title_Cleaned'], \n",
    "                                                  validate=False)),\n",
    "                            ('tfidf', \n",
    "                              TfidfVectorizer())]))]) \n",
    "\n",
    "transformer.fit(df_all)\n",
    "\n",
    "Transcript_vocab = transformer.transformer_list[0][1].steps[1][1].get_feature_names() \n",
    "Title_vocab = transformer.transformer_list[1][1].steps[1][1].get_feature_names()\n",
    "vocab = Transcript_vocab + Title_vocab"
   ]
  },
  {
   "cell_type": "code",
   "execution_count": 26,
   "metadata": {
    "scrolled": true
   },
   "outputs": [
    {
     "data": {
      "text/html": [
       "<div>\n",
       "<style scoped>\n",
       "    .dataframe tbody tr th:only-of-type {\n",
       "        vertical-align: middle;\n",
       "    }\n",
       "\n",
       "    .dataframe tbody tr th {\n",
       "        vertical-align: top;\n",
       "    }\n",
       "\n",
       "    .dataframe thead th {\n",
       "        text-align: right;\n",
       "    }\n",
       "</style>\n",
       "<table border=\"1\" class=\"dataframe\">\n",
       "  <thead>\n",
       "    <tr style=\"text-align: right;\">\n",
       "      <th></th>\n",
       "      <th>0300am</th>\n",
       "      <th>0600am</th>\n",
       "      <th>07earli</th>\n",
       "      <th>07g</th>\n",
       "      <th>0900pm</th>\n",
       "      <th>0d093</th>\n",
       "      <th>0d09328</th>\n",
       "      <th>0l</th>\n",
       "      <th>0x</th>\n",
       "      <th>10</th>\n",
       "      <th>...</th>\n",
       "      <th>youtub</th>\n",
       "      <th>ytp</th>\n",
       "      <th>zelda</th>\n",
       "      <th>zetajon</th>\n",
       "      <th>zonda</th>\n",
       "      <th>zondai</th>\n",
       "      <th>zone</th>\n",
       "      <th>zoo</th>\n",
       "      <th>zoom</th>\n",
       "      <th>zygon</th>\n",
       "    </tr>\n",
       "  </thead>\n",
       "  <tbody>\n",
       "    <tr>\n",
       "      <th>0</th>\n",
       "      <td>0.0</td>\n",
       "      <td>0.0</td>\n",
       "      <td>0.0</td>\n",
       "      <td>0.0</td>\n",
       "      <td>0.0</td>\n",
       "      <td>0.0</td>\n",
       "      <td>0.0</td>\n",
       "      <td>0.0</td>\n",
       "      <td>0.0</td>\n",
       "      <td>0.0</td>\n",
       "      <td>...</td>\n",
       "      <td>0.0</td>\n",
       "      <td>0.0</td>\n",
       "      <td>0.0</td>\n",
       "      <td>0.0</td>\n",
       "      <td>0.0</td>\n",
       "      <td>0.0</td>\n",
       "      <td>0.0</td>\n",
       "      <td>0.0</td>\n",
       "      <td>0.0</td>\n",
       "      <td>0.0</td>\n",
       "    </tr>\n",
       "    <tr>\n",
       "      <th>1</th>\n",
       "      <td>0.0</td>\n",
       "      <td>0.0</td>\n",
       "      <td>0.0</td>\n",
       "      <td>0.0</td>\n",
       "      <td>0.0</td>\n",
       "      <td>0.0</td>\n",
       "      <td>0.0</td>\n",
       "      <td>0.0</td>\n",
       "      <td>0.0</td>\n",
       "      <td>0.0</td>\n",
       "      <td>...</td>\n",
       "      <td>0.0</td>\n",
       "      <td>0.0</td>\n",
       "      <td>0.0</td>\n",
       "      <td>0.0</td>\n",
       "      <td>0.0</td>\n",
       "      <td>0.0</td>\n",
       "      <td>0.0</td>\n",
       "      <td>0.0</td>\n",
       "      <td>0.0</td>\n",
       "      <td>0.0</td>\n",
       "    </tr>\n",
       "    <tr>\n",
       "      <th>2</th>\n",
       "      <td>0.0</td>\n",
       "      <td>0.0</td>\n",
       "      <td>0.0</td>\n",
       "      <td>0.0</td>\n",
       "      <td>0.0</td>\n",
       "      <td>0.0</td>\n",
       "      <td>0.0</td>\n",
       "      <td>0.0</td>\n",
       "      <td>0.0</td>\n",
       "      <td>0.0</td>\n",
       "      <td>...</td>\n",
       "      <td>0.0</td>\n",
       "      <td>0.0</td>\n",
       "      <td>0.0</td>\n",
       "      <td>0.0</td>\n",
       "      <td>0.0</td>\n",
       "      <td>0.0</td>\n",
       "      <td>0.0</td>\n",
       "      <td>0.0</td>\n",
       "      <td>0.0</td>\n",
       "      <td>0.0</td>\n",
       "    </tr>\n",
       "    <tr>\n",
       "      <th>3</th>\n",
       "      <td>0.0</td>\n",
       "      <td>0.0</td>\n",
       "      <td>0.0</td>\n",
       "      <td>0.0</td>\n",
       "      <td>0.0</td>\n",
       "      <td>0.0</td>\n",
       "      <td>0.0</td>\n",
       "      <td>0.0</td>\n",
       "      <td>0.0</td>\n",
       "      <td>0.0</td>\n",
       "      <td>...</td>\n",
       "      <td>0.0</td>\n",
       "      <td>0.0</td>\n",
       "      <td>0.0</td>\n",
       "      <td>0.0</td>\n",
       "      <td>0.0</td>\n",
       "      <td>0.0</td>\n",
       "      <td>0.0</td>\n",
       "      <td>0.0</td>\n",
       "      <td>0.0</td>\n",
       "      <td>0.0</td>\n",
       "    </tr>\n",
       "    <tr>\n",
       "      <th>4</th>\n",
       "      <td>0.0</td>\n",
       "      <td>0.0</td>\n",
       "      <td>0.0</td>\n",
       "      <td>0.0</td>\n",
       "      <td>0.0</td>\n",
       "      <td>0.0</td>\n",
       "      <td>0.0</td>\n",
       "      <td>0.0</td>\n",
       "      <td>0.0</td>\n",
       "      <td>0.0</td>\n",
       "      <td>...</td>\n",
       "      <td>0.0</td>\n",
       "      <td>0.0</td>\n",
       "      <td>0.0</td>\n",
       "      <td>0.0</td>\n",
       "      <td>0.0</td>\n",
       "      <td>0.0</td>\n",
       "      <td>0.0</td>\n",
       "      <td>0.0</td>\n",
       "      <td>0.0</td>\n",
       "      <td>0.0</td>\n",
       "    </tr>\n",
       "  </tbody>\n",
       "</table>\n",
       "<p>5 rows × 39059 columns</p>\n",
       "</div>"
      ],
      "text/plain": [
       "   0300am  0600am  07earli  07g  0900pm  0d093  0d09328   0l   0x   10  ...  \\\n",
       "0     0.0     0.0      0.0  0.0     0.0    0.0      0.0  0.0  0.0  0.0  ...   \n",
       "1     0.0     0.0      0.0  0.0     0.0    0.0      0.0  0.0  0.0  0.0  ...   \n",
       "2     0.0     0.0      0.0  0.0     0.0    0.0      0.0  0.0  0.0  0.0  ...   \n",
       "3     0.0     0.0      0.0  0.0     0.0    0.0      0.0  0.0  0.0  0.0  ...   \n",
       "4     0.0     0.0      0.0  0.0     0.0    0.0      0.0  0.0  0.0  0.0  ...   \n",
       "\n",
       "   youtub  ytp  zelda  zetajon  zonda  zondai  zone  zoo  zoom  zygon  \n",
       "0     0.0  0.0    0.0      0.0    0.0     0.0   0.0  0.0   0.0    0.0  \n",
       "1     0.0  0.0    0.0      0.0    0.0     0.0   0.0  0.0   0.0    0.0  \n",
       "2     0.0  0.0    0.0      0.0    0.0     0.0   0.0  0.0   0.0    0.0  \n",
       "3     0.0  0.0    0.0      0.0    0.0     0.0   0.0  0.0   0.0    0.0  \n",
       "4     0.0  0.0    0.0      0.0    0.0     0.0   0.0  0.0   0.0    0.0  \n",
       "\n",
       "[5 rows x 39059 columns]"
      ]
     },
     "execution_count": 26,
     "metadata": {},
     "output_type": "execute_result"
    }
   ],
   "source": [
    "tfidf_features = pd.DataFrame(transformer.transform(df_all).toarray(),index=df_all.index,columns=vocab)\n",
    "\n",
    "tfidf_features.head()"
   ]
  },
  {
   "cell_type": "code",
   "execution_count": 27,
   "metadata": {
    "scrolled": true
   },
   "outputs": [
    {
     "name": "stderr",
     "output_type": "stream",
     "text": [
      "C:\\Users\\Admin\\anaconda3\\lib\\site-packages\\sklearn\\utils\\deprecation.py:87: FutureWarning: Function get_feature_names is deprecated; get_feature_names is deprecated in 1.0 and will be removed in 1.2. Please use get_feature_names_out instead.\n",
      "  warnings.warn(msg, category=FutureWarning)\n"
     ]
    },
    {
     "data": {
      "text/html": [
       "<div>\n",
       "<style scoped>\n",
       "    .dataframe tbody tr th:only-of-type {\n",
       "        vertical-align: middle;\n",
       "    }\n",
       "\n",
       "    .dataframe tbody tr th {\n",
       "        vertical-align: top;\n",
       "    }\n",
       "\n",
       "    .dataframe thead th {\n",
       "        text-align: right;\n",
       "    }\n",
       "</style>\n",
       "<table border=\"1\" class=\"dataframe\">\n",
       "  <thead>\n",
       "    <tr style=\"text-align: right;\">\n",
       "      <th></th>\n",
       "      <th>comedy</th>\n",
       "      <th>entertainment</th>\n",
       "      <th>food</th>\n",
       "      <th>news</th>\n",
       "      <th>tech</th>\n",
       "      <th>videogames</th>\n",
       "    </tr>\n",
       "  </thead>\n",
       "  <tbody>\n",
       "    <tr>\n",
       "      <th>0</th>\n",
       "      <td>0.0</td>\n",
       "      <td>0.0</td>\n",
       "      <td>1.0</td>\n",
       "      <td>0.0</td>\n",
       "      <td>0.0</td>\n",
       "      <td>0.0</td>\n",
       "    </tr>\n",
       "    <tr>\n",
       "      <th>1</th>\n",
       "      <td>0.0</td>\n",
       "      <td>0.0</td>\n",
       "      <td>1.0</td>\n",
       "      <td>0.0</td>\n",
       "      <td>0.0</td>\n",
       "      <td>0.0</td>\n",
       "    </tr>\n",
       "    <tr>\n",
       "      <th>2</th>\n",
       "      <td>0.0</td>\n",
       "      <td>1.0</td>\n",
       "      <td>0.0</td>\n",
       "      <td>0.0</td>\n",
       "      <td>0.0</td>\n",
       "      <td>0.0</td>\n",
       "    </tr>\n",
       "    <tr>\n",
       "      <th>3</th>\n",
       "      <td>1.0</td>\n",
       "      <td>0.0</td>\n",
       "      <td>0.0</td>\n",
       "      <td>0.0</td>\n",
       "      <td>0.0</td>\n",
       "      <td>0.0</td>\n",
       "    </tr>\n",
       "    <tr>\n",
       "      <th>4</th>\n",
       "      <td>0.0</td>\n",
       "      <td>1.0</td>\n",
       "      <td>0.0</td>\n",
       "      <td>0.0</td>\n",
       "      <td>0.0</td>\n",
       "      <td>0.0</td>\n",
       "    </tr>\n",
       "  </tbody>\n",
       "</table>\n",
       "</div>"
      ],
      "text/plain": [
       "   comedy  entertainment  food  news  tech  videogames\n",
       "0     0.0            0.0   1.0   0.0   0.0         0.0\n",
       "1     0.0            0.0   1.0   0.0   0.0         0.0\n",
       "2     0.0            1.0   0.0   0.0   0.0         0.0\n",
       "3     1.0            0.0   0.0   0.0   0.0         0.0\n",
       "4     0.0            1.0   0.0   0.0   0.0         0.0"
      ]
     },
     "execution_count": 27,
     "metadata": {},
     "output_type": "execute_result"
    }
   ],
   "source": [
    "vectorizer = TfidfVectorizer(min_df = 1, stop_words = 'english')\n",
    "Category_dtm = vectorizer.fit_transform(reshaped_DF['Category_Cleaned'])\n",
    "\n",
    "Category_tfidf_features = pd.DataFrame(Category_dtm.toarray(),index=reshaped_DF.index,columns=vectorizer.get_feature_names())\n",
    "Category_tfidf_features.head()\n"
   ]
  },
  {
   "cell_type": "code",
   "execution_count": 28,
   "metadata": {},
   "outputs": [],
   "source": [
    "X = tfidf_features\n",
    "y = Category_tfidf_features"
   ]
  },
  {
   "cell_type": "code",
   "execution_count": 29,
   "metadata": {},
   "outputs": [],
   "source": [
    "X_train, X_test, y_train, y_test = train_test_split(X, y, test_size=0.2, random_state=42, stratify=y)"
   ]
  },
  {
   "cell_type": "code",
   "execution_count": 43,
   "metadata": {},
   "outputs": [],
   "source": [
    "acc_list = []\n",
    "auroc_list =[]\n",
    "log_list=[]"
   ]
  },
  {
   "cell_type": "markdown",
   "metadata": {},
   "source": [
    "### No1. Decision Tree"
   ]
  },
  {
   "cell_type": "code",
   "execution_count": 30,
   "metadata": {},
   "outputs": [
    {
     "data": {
      "text/plain": [
       "DecisionTreeClassifier(random_state=42)"
      ]
     },
     "execution_count": 30,
     "metadata": {},
     "output_type": "execute_result"
    }
   ],
   "source": [
    "tr = DecisionTreeClassifier(random_state=42)\n",
    "tr.fit(X_train, y_train)\n"
   ]
  },
  {
   "cell_type": "code",
   "execution_count": 31,
   "metadata": {},
   "outputs": [
    {
     "data": {
      "text/plain": [
       "59"
      ]
     },
     "execution_count": 31,
     "metadata": {},
     "output_type": "execute_result"
    }
   ],
   "source": [
    "tr.get_depth()"
   ]
  },
  {
   "cell_type": "code",
   "execution_count": 32,
   "metadata": {},
   "outputs": [],
   "source": [
    "target_names = ['comedy', 'entertainment', 'food', 'news', 'tech', 'videogames']"
   ]
  },
  {
   "cell_type": "code",
   "execution_count": 34,
   "metadata": {
    "scrolled": false
   },
   "outputs": [
    {
     "name": "stdout",
     "output_type": "stream",
     "text": [
      "Decison Tree:\n",
      "Confusion Matrix\n",
      "[[[235  49]\n",
      "  [ 70  17]]\n",
      "\n",
      " [[259  48]\n",
      "  [ 52  12]]\n",
      "\n",
      " [[291  18]\n",
      "  [ 18  44]]\n",
      "\n",
      " [[303  19]\n",
      "  [ 18  31]]\n",
      "\n",
      " [[296  19]\n",
      "  [ 17  39]]\n",
      "\n",
      " [[306  12]\n",
      "  [ 18  35]]]\n",
      "\n",
      "Classification Report\n",
      "               precision    recall  f1-score   support\n",
      "\n",
      "       comedy       0.26      0.20      0.22        87\n",
      "entertainment       0.20      0.19      0.19        64\n",
      "         food       0.71      0.71      0.71        62\n",
      "         news       0.62      0.63      0.63        49\n",
      "         tech       0.67      0.70      0.68        56\n",
      "   videogames       0.74      0.66      0.70        53\n",
      "\n",
      "    micro avg       0.52      0.48      0.50       371\n",
      "    macro avg       0.53      0.51      0.52       371\n",
      " weighted avg       0.50      0.48      0.49       371\n",
      "  samples avg       0.48      0.48      0.48       371\n",
      "\n"
     ]
    },
    {
     "name": "stderr",
     "output_type": "stream",
     "text": [
      "C:\\Users\\Admin\\anaconda3\\lib\\site-packages\\sklearn\\metrics\\_classification.py:1248: UndefinedMetricWarning: Precision and F-score are ill-defined and being set to 0.0 in samples with no predicted labels. Use `zero_division` parameter to control this behavior.\n",
      "  _warn_prf(average, modifier, msg_start, len(result))\n"
     ]
    }
   ],
   "source": [
    "print(\"Decison Tree:\")\n",
    "print('Confusion Matrix')\n",
    "print(multilabel_confusion_matrix(y_test, tr.predict(X_test)))\n",
    "print('')\n",
    "\n",
    "print(\"Classification Report\")\n",
    "print(classification_report(y_test, tr.predict(X_test), target_names=target_names))"
   ]
  },
  {
   "cell_type": "code",
   "execution_count": 39,
   "metadata": {},
   "outputs": [],
   "source": [
    "y_pred = tr.predict(X_test)"
   ]
  },
  {
   "cell_type": "code",
   "execution_count": 44,
   "metadata": {},
   "outputs": [],
   "source": [
    "tr_acc = accuracy_score(y_test, y_pred)\n",
    "tr_roc = roc_auc_score(y_test, y_pred, average=\"weighted\", multi_class=\"ovr\")\n",
    "tr_log = log_loss(y_test, y_pred)\n",
    "\n",
    "acc_list.append(tr_acc)\n",
    "auroc_list.append(tr_roc)\n",
    "log_list.append(tr_log)"
   ]
  },
  {
   "cell_type": "code",
   "execution_count": 36,
   "metadata": {},
   "outputs": [
    {
     "name": "stdout",
     "output_type": "stream",
     "text": [
      "... Processing comedy\n",
      "Test accuracy is 0.706199460916442\n",
      "... Processing entertainment\n",
      "Test accuracy is 0.7574123989218329\n",
      "... Processing food\n",
      "Test accuracy is 0.9110512129380054\n",
      "... Processing news\n",
      "Test accuracy is 0.9272237196765498\n",
      "... Processing tech\n",
      "Test accuracy is 0.894878706199461\n",
      "... Processing videogames\n",
      "Test accuracy is 0.9460916442048517\n"
     ]
    }
   ],
   "source": [
    "for category in target_names:\n",
    "    print('... Processing {}'.format(category))\n",
    "    # train the model using X_dtm & y\n",
    "    tr.fit(X_train, y_train[category])\n",
    "    # compute the testing accuracy\n",
    "    prediction = tr.predict(X_test)\n",
    "    print('Test accuracy is {}'.format(accuracy_score(y_test[category], prediction)))"
   ]
  },
  {
   "cell_type": "code",
   "execution_count": 37,
   "metadata": {
    "scrolled": true
   },
   "outputs": [
    {
     "data": {
      "image/png": "[encoded data removed]",
      "text/plain": [
       "<Figure size 432x288 with 1 Axes>"
      ]
     },
     "metadata": {
      "needs_background": "light"
     },
     "output_type": "display_data"
    }
   ],
   "source": [
    "\n",
    "acc = []\n",
    "for i in range(2, 21):\n",
    "    tr = DecisionTreeClassifier(random_state=42, max_depth=i)\n",
    "    tr.fit(X_train, y_train)\n",
    "    acc.append(accuracy_score(y_test,tr.predict(X_test)))\n",
    "\n",
    "plt.xticks(range(0,21))\n",
    "plt.plot(range(2, 21), acc)\n",
    "plt.ylabel('Accuracy')\n",
    "plt.xlabel('Tree Level')\n",
    "plt.grid(True)\n",
    "plt.show()"
   ]
  },
  {
   "cell_type": "markdown",
   "metadata": {},
   "source": [
    "### No2. LogisticRegression"
   ]
  },
  {
   "cell_type": "code",
   "execution_count": 45,
   "metadata": {},
   "outputs": [
    {
     "data": {
      "text/plain": [
       "Pipeline(steps=[('clf',\n",
       "                 OneVsRestClassifier(estimator=LogisticRegression(solver='sag'),\n",
       "                                     n_jobs=1))])"
      ]
     },
     "execution_count": 45,
     "metadata": {},
     "output_type": "execute_result"
    }
   ],
   "source": [
    "LogReg_pipeline = Pipeline([\n",
    "                ('clf', OneVsRestClassifier(LogisticRegression(solver='sag'), n_jobs=1)),\n",
    "            ])\n",
    "LogReg_pipeline.fit(X_train, y_train)"
   ]
  },
  {
   "cell_type": "code",
   "execution_count": 46,
   "metadata": {},
   "outputs": [
    {
     "name": "stdout",
     "output_type": "stream",
     "text": [
      "Logistic Regression:\n",
      "Confusion Matrix\n",
      "[[[255  29]\n",
      "  [ 72  15]]\n",
      "\n",
      " [[281  26]\n",
      "  [ 59   5]]\n",
      "\n",
      " [[305   4]\n",
      "  [ 23  39]]\n",
      "\n",
      " [[322   0]\n",
      "  [ 35  14]]\n",
      "\n",
      " [[308   7]\n",
      "  [ 26  30]]\n",
      "\n",
      " [[317   1]\n",
      "  [ 23  30]]]\n",
      "\n",
      "Classification Report\n",
      "               precision    recall  f1-score   support\n",
      "\n",
      "       comedy       0.34      0.17      0.23        87\n",
      "entertainment       0.16      0.08      0.11        64\n",
      "         food       0.91      0.63      0.74        62\n",
      "         news       1.00      0.29      0.44        49\n",
      "         tech       0.81      0.54      0.65        56\n",
      "   videogames       0.97      0.57      0.71        53\n",
      "\n",
      "    micro avg       0.67      0.36      0.47       371\n",
      "    macro avg       0.70      0.38      0.48       371\n",
      " weighted avg       0.65      0.36      0.45       371\n",
      "  samples avg       0.36      0.36      0.36       371\n",
      "\n"
     ]
    },
    {
     "name": "stderr",
     "output_type": "stream",
     "text": [
      "C:\\Users\\Admin\\anaconda3\\lib\\site-packages\\sklearn\\metrics\\_classification.py:1318: UndefinedMetricWarning: Precision and F-score are ill-defined and being set to 0.0 in samples with no predicted labels. Use `zero_division` parameter to control this behavior.\n",
      "  _warn_prf(average, modifier, msg_start, len(result))\n"
     ]
    }
   ],
   "source": [
    "print(\"Logistic Regression:\")\n",
    "print('Confusion Matrix')\n",
    "print(multilabel_confusion_matrix(y_test, LogReg_pipeline.predict(X_test)))\n",
    "print('')\n",
    "\n",
    "print(\"Classification Report\")\n",
    "print(classification_report(y_test, LogReg_pipeline.predict(X_test), target_names=target_names))"
   ]
  },
  {
   "cell_type": "code",
   "execution_count": 52,
   "metadata": {},
   "outputs": [],
   "source": [
    "y_pred1 = LogReg_pipeline.predict(X_test)"
   ]
  },
  {
   "cell_type": "code",
   "execution_count": 48,
   "metadata": {},
   "outputs": [],
   "source": [
    "lr_acc = accuracy_score(y_test, y_pred1)\n",
    "lr_roc = roc_auc_score(y_test, y_pred1, average=\"weighted\", multi_class=\"ovr\")\n",
    "lr_log = log_loss(y_test, y_pred1)\n",
    "\n",
    "acc_list.append(lr_acc)\n",
    "auroc_list.append(lr_roc)\n",
    "log_list.append(lr_log)"
   ]
  },
  {
   "cell_type": "code",
   "execution_count": 112,
   "metadata": {
    "scrolled": false
   },
   "outputs": [
    {
     "name": "stdout",
     "output_type": "stream",
     "text": [
      "... Processing comedy\n",
      "Test accuracy is 0.7277628032345014\n",
      "... Processing entertainment\n",
      "Test accuracy is 0.77088948787062\n",
      "... Processing food\n",
      "Test accuracy is 0.9272237196765498\n",
      "... Processing news\n",
      "Test accuracy is 0.9056603773584906\n",
      "... Processing tech\n",
      "Test accuracy is 0.9110512129380054\n",
      "... Processing videogames\n",
      "Test accuracy is 0.9353099730458221\n"
     ]
    }
   ],
   "source": [
    "for category in target_names:\n",
    "    print('... Processing {}'.format(category))\n",
    "    # train the model using X_dtm & y\n",
    "    LogReg_pipeline.fit(X_train, y_train[category])\n",
    "    # compute the testing accuracy\n",
    "    prediction = LogReg_pipeline.predict(X_test)\n",
    "    print('Test accuracy is {}'.format(accuracy_score(y_test[category], prediction)))"
   ]
  },
  {
   "cell_type": "markdown",
   "metadata": {},
   "source": [
    "### No3. K-Nearest Neighbour"
   ]
  },
  {
   "cell_type": "markdown",
   "metadata": {},
   "source": [
    "I have to find the best value for K in KNN classification algorithm"
   ]
  },
  {
   "cell_type": "code",
   "execution_count": 49,
   "metadata": {
    "scrolled": true
   },
   "outputs": [
    {
     "name": "stdout",
     "output_type": "stream",
     "text": [
      "Maximum accuracy:- 0.5822102425876011 at K = 6\n"
     ]
    },
    {
     "data": {
      "image/png": "[encoded data removed]",
      "text/plain": [
       "<Figure size 720x432 with 1 Axes>"
      ]
     },
     "metadata": {
      "needs_background": "light"
     },
     "output_type": "display_data"
    }
   ],
   "source": [
    "acc = []\n",
    "# Will take some time\n",
    "for i in range(1,40):\n",
    "    neigh = KNeighborsClassifier(n_neighbors = i).fit(X_train,y_train)\n",
    "    yhat = neigh.predict(X_test)\n",
    "    acc.append(metrics.accuracy_score(y_test, yhat))\n",
    "    \n",
    "plt.figure(figsize=(10,6))\n",
    "plt.plot(range(1,40),acc,color = 'blue',linestyle='dashed', \n",
    "         marker='o',markerfacecolor='red', markersize=10)\n",
    "plt.title('accuracy vs. K Value')\n",
    "plt.xlabel('K')\n",
    "plt.ylabel('Accuracy')\n",
    "print(\"Maximum accuracy:-\",max(acc),\"at K =\",acc.index(max(acc)))"
   ]
  },
  {
   "cell_type": "markdown",
   "metadata": {},
   "source": [
    "Since at K=6 it has the best accuracy, K will be 6"
   ]
  },
  {
   "cell_type": "code",
   "execution_count": 50,
   "metadata": {},
   "outputs": [],
   "source": [
    "k=6\n",
    "knn_clf=KNeighborsClassifier(n_neighbors = k)\n",
    "knn_clf.fit(X_train,y_train)\n",
    "y_pred2 =knn_clf.predict(X_test)"
   ]
  },
  {
   "cell_type": "code",
   "execution_count": 51,
   "metadata": {
    "scrolled": false
   },
   "outputs": [
    {
     "name": "stdout",
     "output_type": "stream",
     "text": [
      "KNN Classifier: \n",
      "Confusion Matrix\n",
      "[[[278   6]\n",
      "  [ 67  20]]\n",
      "\n",
      " [[303   4]\n",
      "  [ 52  12]]\n",
      "\n",
      " [[304   5]\n",
      "  [ 11  51]]\n",
      "\n",
      " [[322   0]\n",
      "  [ 30  19]]\n",
      "\n",
      " [[309   6]\n",
      "  [ 21  35]]\n",
      "\n",
      " [[314   4]\n",
      "  [  3  50]]]\n",
      "\n",
      "Classification Report:\n",
      "               precision    recall  f1-score   support\n",
      "\n",
      "       comedy       0.77      0.23      0.35        87\n",
      "entertainment       0.75      0.19      0.30        64\n",
      "         food       0.91      0.82      0.86        62\n",
      "         news       1.00      0.39      0.56        49\n",
      "         tech       0.85      0.62      0.72        56\n",
      "   videogames       0.93      0.94      0.93        53\n",
      "\n",
      "    micro avg       0.88      0.50      0.64       371\n",
      "    macro avg       0.87      0.53      0.62       371\n",
      " weighted avg       0.86      0.50      0.60       371\n",
      "  samples avg       0.50      0.50      0.50       371\n",
      "\n"
     ]
    },
    {
     "name": "stderr",
     "output_type": "stream",
     "text": [
      "C:\\Users\\Admin\\anaconda3\\lib\\site-packages\\sklearn\\metrics\\_classification.py:1318: UndefinedMetricWarning: Precision and F-score are ill-defined and being set to 0.0 in samples with no predicted labels. Use `zero_division` parameter to control this behavior.\n",
      "  _warn_prf(average, modifier, msg_start, len(result))\n"
     ]
    }
   ],
   "source": [
    "print(\"KNN Classifier: \")\n",
    "print('Confusion Matrix')\n",
    "print(multilabel_confusion_matrix(y_test, y_pred2))\n",
    "print('')\n",
    "\n",
    "print(\"Classification Report:\")\n",
    "print(classification_report(y_test, y_pred2, target_names=target_names))"
   ]
  },
  {
   "cell_type": "code",
   "execution_count": 53,
   "metadata": {},
   "outputs": [],
   "source": [
    "knn_acc = accuracy_score(y_test, y_pred2)\n",
    "knn_roc = roc_auc_score(y_test, y_pred2, average=\"weighted\", multi_class=\"ovr\")\n",
    "knn_log = log_loss(y_test, y_pred2)\n",
    "\n",
    "acc_list.append(knn_acc)\n",
    "auroc_list.append(knn_roc)\n",
    "log_list.append(knn_log)"
   ]
  },
  {
   "cell_type": "code",
   "execution_count": 91,
   "metadata": {},
   "outputs": [
    {
     "name": "stdout",
     "output_type": "stream",
     "text": [
      "... Processing comedy\n",
      "Test accuracy is 0.8032345013477089\n",
      "... Processing entertainment\n",
      "Test accuracy is 0.8490566037735849\n",
      "... Processing food\n",
      "Test accuracy is 0.9568733153638814\n",
      "... Processing news\n",
      "Test accuracy is 0.9191374663072777\n",
      "... Processing tech\n",
      "Test accuracy is 0.9272237196765498\n",
      "... Processing videogames\n",
      "Test accuracy is 0.9811320754716981\n"
     ]
    }
   ],
   "source": [
    "for category in target_names:\n",
    "    print('... Processing {}'.format(category))\n",
    "    # train the model using X_dtm & y\n",
    "    knn_clf.fit(X_train, y_train[category])\n",
    "    # compute the testing accuracy\n",
    "    prediction = knn_clf.predict(X_test)\n",
    "    print('Test accuracy is {}'.format(accuracy_score(y_test[category], prediction)))"
   ]
  },
  {
   "cell_type": "markdown",
   "metadata": {},
   "source": [
    "### No4. Naive Bayes"
   ]
  },
  {
   "cell_type": "code",
   "execution_count": 54,
   "metadata": {},
   "outputs": [
    {
     "data": {
      "text/plain": [
       "Pipeline(steps=[('clf', OneVsRestClassifier(estimator=MultinomialNB()))])"
      ]
     },
     "execution_count": 54,
     "metadata": {},
     "output_type": "execute_result"
    }
   ],
   "source": [
    "NB_pipeline = Pipeline([\n",
    "                ('clf', OneVsRestClassifier(MultinomialNB(\n",
    "                    fit_prior=True, class_prior=None))),\n",
    "            ])\n",
    "NB_pipeline.fit(X_train, y_train)"
   ]
  },
  {
   "cell_type": "code",
   "execution_count": 55,
   "metadata": {
    "scrolled": false
   },
   "outputs": [
    {
     "name": "stdout",
     "output_type": "stream",
     "text": [
      "Naive Bayes:\n",
      "Confusion Matrix\n",
      "[[[284   0]\n",
      "  [ 87   0]]\n",
      "\n",
      " [[307   0]\n",
      "  [ 64   0]]\n",
      "\n",
      " [[309   0]\n",
      "  [ 42  20]]\n",
      "\n",
      " [[322   0]\n",
      "  [ 49   0]]\n",
      "\n",
      " [[315   0]\n",
      "  [ 55   1]]\n",
      "\n",
      " [[318   0]\n",
      "  [ 53   0]]]\n",
      "\n",
      "Classification Report\n",
      "               precision    recall  f1-score   support\n",
      "\n",
      "       comedy       0.00      0.00      0.00        87\n",
      "entertainment       0.00      0.00      0.00        64\n",
      "         food       1.00      0.32      0.49        62\n",
      "         news       0.00      0.00      0.00        49\n",
      "         tech       1.00      0.02      0.04        56\n",
      "   videogames       0.00      0.00      0.00        53\n",
      "\n",
      "    micro avg       1.00      0.06      0.11       371\n",
      "    macro avg       0.33      0.06      0.09       371\n",
      " weighted avg       0.32      0.06      0.09       371\n",
      "  samples avg       0.06      0.06      0.06       371\n",
      "\n"
     ]
    },
    {
     "name": "stderr",
     "output_type": "stream",
     "text": [
      "C:\\Users\\Admin\\anaconda3\\lib\\site-packages\\sklearn\\metrics\\_classification.py:1318: UndefinedMetricWarning: Precision and F-score are ill-defined and being set to 0.0 in labels with no predicted samples. Use `zero_division` parameter to control this behavior.\n",
      "  _warn_prf(average, modifier, msg_start, len(result))\n",
      "C:\\Users\\Admin\\anaconda3\\lib\\site-packages\\sklearn\\metrics\\_classification.py:1318: UndefinedMetricWarning: Precision and F-score are ill-defined and being set to 0.0 in samples with no predicted labels. Use `zero_division` parameter to control this behavior.\n",
      "  _warn_prf(average, modifier, msg_start, len(result))\n"
     ]
    }
   ],
   "source": [
    "print(\"Naive Bayes:\")\n",
    "print('Confusion Matrix')\n",
    "print(multilabel_confusion_matrix(y_test, NB_pipeline.predict(X_test)))\n",
    "print('')\n",
    "\n",
    "print(\"Classification Report\")\n",
    "print(classification_report(y_test, NB_pipeline.predict(X_test), target_names=target_names))"
   ]
  },
  {
   "cell_type": "code",
   "execution_count": 56,
   "metadata": {},
   "outputs": [],
   "source": [
    "y_pred3 = NB_pipeline.predict(X_test)"
   ]
  },
  {
   "cell_type": "code",
   "execution_count": 57,
   "metadata": {},
   "outputs": [],
   "source": [
    "nb_acc = accuracy_score(y_test, y_pred3)\n",
    "nb_roc = roc_auc_score(y_test, y_pred3, average=\"weighted\", multi_class=\"ovr\")\n",
    "nb_log = log_loss(y_test, y_pred3)\n",
    "\n",
    "acc_list.append(nb_acc)\n",
    "auroc_list.append(nb_roc)\n",
    "log_list.append(nb_log)"
   ]
  },
  {
   "cell_type": "code",
   "execution_count": 115,
   "metadata": {
    "scrolled": true
   },
   "outputs": [
    {
     "name": "stdout",
     "output_type": "stream",
     "text": [
      "... Processing comedy\n",
      "Test accuracy is 0.7654986522911051\n",
      "... Processing entertainment\n",
      "Test accuracy is 0.8274932614555256\n",
      "... Processing food\n",
      "Test accuracy is 0.8867924528301887\n",
      "... Processing news\n",
      "Test accuracy is 0.8679245283018868\n",
      "... Processing tech\n",
      "Test accuracy is 0.8517520215633423\n",
      "... Processing videogames\n",
      "Test accuracy is 0.8571428571428571\n"
     ]
    }
   ],
   "source": [
    "for category in target_names:\n",
    "    print('... Processing {}'.format(category))\n",
    "    # train the model using X_dtm & y\n",
    "    NB_pipeline.fit(X_train, y_train[category])\n",
    "    # compute the testing accuracy\n",
    "    prediction = NB_pipeline.predict(X_test)\n",
    "    print('Test accuracy is {}'.format(accuracy_score(y_test[category], prediction)))"
   ]
  },
  {
   "cell_type": "markdown",
   "metadata": {},
   "source": [
    "### No5. LinearSVC"
   ]
  },
  {
   "cell_type": "code",
   "execution_count": 59,
   "metadata": {},
   "outputs": [
    {
     "data": {
      "text/plain": [
       "Pipeline(steps=[('clf', OneVsRestClassifier(estimator=LinearSVC(), n_jobs=1))])"
      ]
     },
     "execution_count": 59,
     "metadata": {},
     "output_type": "execute_result"
    }
   ],
   "source": [
    "SVC_pipeline = Pipeline([\n",
    "                ('clf', OneVsRestClassifier(LinearSVC(), n_jobs=1)),\n",
    "            ])\n",
    "SVC_pipeline.fit(X_train, y_train)"
   ]
  },
  {
   "cell_type": "code",
   "execution_count": 60,
   "metadata": {},
   "outputs": [
    {
     "name": "stdout",
     "output_type": "stream",
     "text": [
      "LinearSVC:\n",
      "Confusion Matrix\n",
      "[[[248  36]\n",
      "  [ 63  24]]\n",
      "\n",
      " [[266  41]\n",
      "  [ 47  17]]\n",
      "\n",
      " [[302   7]\n",
      "  [ 11  51]]\n",
      "\n",
      " [[320   2]\n",
      "  [ 19  30]]\n",
      "\n",
      " [[301  14]\n",
      "  [ 14  42]]\n",
      "\n",
      " [[316   2]\n",
      "  [  9  44]]]\n",
      "\n",
      "Classification Report\n",
      "               precision    recall  f1-score   support\n",
      "\n",
      "       comedy       0.40      0.28      0.33        87\n",
      "entertainment       0.29      0.27      0.28        64\n",
      "         food       0.88      0.82      0.85        62\n",
      "         news       0.94      0.61      0.74        49\n",
      "         tech       0.75      0.75      0.75        56\n",
      "   videogames       0.96      0.83      0.89        53\n",
      "\n",
      "    micro avg       0.67      0.56      0.61       371\n",
      "    macro avg       0.70      0.59      0.64       371\n",
      " weighted avg       0.66      0.56      0.60       371\n",
      "  samples avg       0.56      0.56      0.56       371\n",
      "\n"
     ]
    },
    {
     "name": "stderr",
     "output_type": "stream",
     "text": [
      "C:\\Users\\Admin\\anaconda3\\lib\\site-packages\\sklearn\\metrics\\_classification.py:1318: UndefinedMetricWarning: Precision and F-score are ill-defined and being set to 0.0 in samples with no predicted labels. Use `zero_division` parameter to control this behavior.\n",
      "  _warn_prf(average, modifier, msg_start, len(result))\n"
     ]
    }
   ],
   "source": [
    "print(\"LinearSVC:\")\n",
    "print('Confusion Matrix')\n",
    "print(multilabel_confusion_matrix(y_test, SVC_pipeline.predict(X_test)))\n",
    "print('')\n",
    "\n",
    "print(\"Classification Report\")\n",
    "print(classification_report(y_test, SVC_pipeline.predict(X_test), target_names=target_names))"
   ]
  },
  {
   "cell_type": "code",
   "execution_count": 61,
   "metadata": {},
   "outputs": [],
   "source": [
    "y_pred4 = SVC_pipeline.predict(X_test)"
   ]
  },
  {
   "cell_type": "code",
   "execution_count": 62,
   "metadata": {},
   "outputs": [],
   "source": [
    "svc_acc = accuracy_score(y_test, y_pred4)\n",
    "svc_roc = roc_auc_score(y_test, y_pred4, average=\"weighted\", multi_class=\"ovr\")\n",
    "svc_log = log_loss(y_test, y_pred4)\n",
    "\n",
    "acc_list.append(svc_acc)\n",
    "auroc_list.append(svc_roc)\n",
    "log_list.append(svc_log)"
   ]
  },
  {
   "cell_type": "code",
   "execution_count": 45,
   "metadata": {
    "scrolled": true
   },
   "outputs": [
    {
     "name": "stdout",
     "output_type": "stream",
     "text": [
      "... Processing comedy\n",
      "Test accuracy is 0.7331536388140162\n",
      "... Processing entertainment\n",
      "Test accuracy is 0.7628032345013477\n",
      "... Processing food\n",
      "Test accuracy is 0.9514824797843666\n",
      "... Processing news\n",
      "Test accuracy is 0.9433962264150944\n",
      "... Processing tech\n",
      "Test accuracy is 0.9245283018867925\n",
      "... Processing videogames\n",
      "Test accuracy is 0.9703504043126685\n"
     ]
    }
   ],
   "source": [
    "for category in target_names:\n",
    "    print('... Processing {}'.format(category))\n",
    "    # train the model using X_dtm & y\n",
    "    SVC_pipeline.fit(X_train, y_train[category])\n",
    "    # compute the testing accuracy\n",
    "    prediction = SVC_pipeline.predict(X_test)\n",
    "    print('Test accuracy is {}'.format(accuracy_score(y_test[category], prediction)))"
   ]
  },
  {
   "cell_type": "markdown",
   "metadata": {},
   "source": [
    "### No6. Random Forest"
   ]
  },
  {
   "cell_type": "code",
   "execution_count": 64,
   "metadata": {},
   "outputs": [
    {
     "data": {
      "text/plain": [
       "RandomForestClassifier(random_state=42)"
      ]
     },
     "execution_count": 64,
     "metadata": {},
     "output_type": "execute_result"
    }
   ],
   "source": [
    "rfc = RandomForestClassifier(random_state = 42)\n",
    "rfc.fit(X_train, y_train)"
   ]
  },
  {
   "cell_type": "code",
   "execution_count": 65,
   "metadata": {},
   "outputs": [
    {
     "name": "stdout",
     "output_type": "stream",
     "text": [
      "Random Forest:\n",
      "Confusion Matrix\n",
      "[[[249  35]\n",
      "  [ 75  12]]\n",
      "\n",
      " [[268  39]\n",
      "  [ 63   1]]\n",
      "\n",
      " [[298  11]\n",
      "  [ 23  39]]\n",
      "\n",
      " [[320   2]\n",
      "  [ 47   2]]\n",
      "\n",
      " [[302  13]\n",
      "  [ 28  28]]\n",
      "\n",
      " [[318   0]\n",
      "  [ 42  11]]]\n",
      "\n",
      "Classification Report\n",
      "               precision    recall  f1-score   support\n",
      "\n",
      "       comedy       0.26      0.14      0.18        87\n",
      "entertainment       0.03      0.02      0.02        64\n",
      "         food       0.78      0.63      0.70        62\n",
      "         news       0.50      0.04      0.08        49\n",
      "         tech       0.68      0.50      0.58        56\n",
      "   videogames       1.00      0.21      0.34        53\n",
      "\n",
      "    micro avg       0.48      0.25      0.33       371\n",
      "    macro avg       0.54      0.26      0.32       371\n",
      " weighted avg       0.51      0.25      0.31       371\n",
      "  samples avg       0.25      0.25      0.25       371\n",
      "\n"
     ]
    },
    {
     "name": "stderr",
     "output_type": "stream",
     "text": [
      "C:\\Users\\Admin\\anaconda3\\lib\\site-packages\\sklearn\\metrics\\_classification.py:1318: UndefinedMetricWarning: Precision and F-score are ill-defined and being set to 0.0 in samples with no predicted labels. Use `zero_division` parameter to control this behavior.\n",
      "  _warn_prf(average, modifier, msg_start, len(result))\n"
     ]
    }
   ],
   "source": [
    "print(\"Random Forest:\")\n",
    "print('Confusion Matrix')\n",
    "print(multilabel_confusion_matrix(y_test, rfc.predict(X_test)))\n",
    "print('')\n",
    "\n",
    "print(\"Classification Report\")\n",
    "print(classification_report(y_test, rfc.predict(X_test), target_names=target_names))"
   ]
  },
  {
   "cell_type": "code",
   "execution_count": 66,
   "metadata": {
    "scrolled": false
   },
   "outputs": [],
   "source": [
    "y_pred5 = rfc.predict(X_test)"
   ]
  },
  {
   "cell_type": "code",
   "execution_count": 67,
   "metadata": {},
   "outputs": [],
   "source": [
    "rfc_acc = accuracy_score(y_test, y_pred5)\n",
    "rfc_roc = roc_auc_score(y_test, y_pred5, average=\"weighted\", multi_class=\"ovr\")\n",
    "rfc_log = log_loss(y_test, y_pred5)\n",
    "\n",
    "acc_list.append(rfc_acc)\n",
    "auroc_list.append(rfc_roc)\n",
    "log_list.append(rfc_log)"
   ]
  },
  {
   "cell_type": "code",
   "execution_count": 93,
   "metadata": {},
   "outputs": [
    {
     "name": "stdout",
     "output_type": "stream",
     "text": [
      "... Processing comedy\n",
      "Test accuracy is 0.6819407008086253\n",
      "... Processing entertainment\n",
      "Test accuracy is 0.7277628032345014\n",
      "... Processing food\n",
      "Test accuracy is 0.9245283018867925\n",
      "... Processing news\n",
      "Test accuracy is 0.8867924528301887\n",
      "... Processing tech\n",
      "Test accuracy is 0.9002695417789758\n",
      "... Processing videogames\n",
      "Test accuracy is 0.9056603773584906\n"
     ]
    }
   ],
   "source": [
    "for category in target_names:\n",
    "    print('... Processing {}'.format(category))\n",
    "    # train the model using X_dtm & y\n",
    "    rfc.fit(X_train, y_train[category])\n",
    "    # compute the testing accuracy\n",
    "    prediction = rfc.predict(X_test)\n",
    "    print('Test accuracy is {}'.format(accuracy_score(y_test[category], prediction)))"
   ]
  },
  {
   "cell_type": "markdown",
   "metadata": {},
   "source": [
    "## After Using TF-IDF I will now generate vector space model using Term Frequency"
   ]
  },
  {
   "cell_type": "code",
   "execution_count": 70,
   "metadata": {},
   "outputs": [
    {
     "name": "stderr",
     "output_type": "stream",
     "text": [
      "C:\\Users\\Admin\\anaconda3\\lib\\site-packages\\sklearn\\utils\\deprecation.py:87: FutureWarning: Function get_feature_names is deprecated; get_feature_names is deprecated in 1.0 and will be removed in 1.2. Please use get_feature_names_out instead.\n",
      "  warnings.warn(msg, category=FutureWarning)\n"
     ]
    }
   ],
   "source": [
    "transformer2 = FeatureUnion([\n",
    "                ('transcript_cleaned_count', \n",
    "                  Pipeline([('extract_field',\n",
    "                              FunctionTransformer(lambda x: x['Transcript_Cleaned'], \n",
    "                                                  validate=False)),\n",
    "                            ('count', \n",
    "                              CountVectorizer())])),\n",
    "                ('title_cleaned_count', \n",
    "                  Pipeline([('extract_field', \n",
    "                              FunctionTransformer(lambda x: x['Title_Cleaned'], \n",
    "                                                  validate=False)),\n",
    "                            ('count', \n",
    "                              CountVectorizer())]))]) \n",
    "\n",
    "transformer2.fit(df_all)\n",
    "\n",
    "Transcript_vocab2 = transformer2.transformer_list[0][1].steps[1][1].get_feature_names() \n",
    "Title_vocab2 = transformer2.transformer_list[1][1].steps[1][1].get_feature_names()\n",
    "vocab2 = Transcript_vocab2 + Title_vocab2"
   ]
  },
  {
   "cell_type": "code",
   "execution_count": 71,
   "metadata": {
    "scrolled": true
   },
   "outputs": [
    {
     "data": {
      "text/html": [
       "<div>\n",
       "<style scoped>\n",
       "    .dataframe tbody tr th:only-of-type {\n",
       "        vertical-align: middle;\n",
       "    }\n",
       "\n",
       "    .dataframe tbody tr th {\n",
       "        vertical-align: top;\n",
       "    }\n",
       "\n",
       "    .dataframe thead th {\n",
       "        text-align: right;\n",
       "    }\n",
       "</style>\n",
       "<table border=\"1\" class=\"dataframe\">\n",
       "  <thead>\n",
       "    <tr style=\"text-align: right;\">\n",
       "      <th></th>\n",
       "      <th>0300am</th>\n",
       "      <th>0600am</th>\n",
       "      <th>07earli</th>\n",
       "      <th>07g</th>\n",
       "      <th>0900pm</th>\n",
       "      <th>0d093</th>\n",
       "      <th>0d09328</th>\n",
       "      <th>0l</th>\n",
       "      <th>0x</th>\n",
       "      <th>10</th>\n",
       "      <th>...</th>\n",
       "      <th>youtub</th>\n",
       "      <th>ytp</th>\n",
       "      <th>zelda</th>\n",
       "      <th>zetajon</th>\n",
       "      <th>zonda</th>\n",
       "      <th>zondai</th>\n",
       "      <th>zone</th>\n",
       "      <th>zoo</th>\n",
       "      <th>zoom</th>\n",
       "      <th>zygon</th>\n",
       "    </tr>\n",
       "  </thead>\n",
       "  <tbody>\n",
       "    <tr>\n",
       "      <th>0</th>\n",
       "      <td>0</td>\n",
       "      <td>0</td>\n",
       "      <td>0</td>\n",
       "      <td>0</td>\n",
       "      <td>0</td>\n",
       "      <td>0</td>\n",
       "      <td>0</td>\n",
       "      <td>0</td>\n",
       "      <td>0</td>\n",
       "      <td>0</td>\n",
       "      <td>...</td>\n",
       "      <td>0</td>\n",
       "      <td>0</td>\n",
       "      <td>0</td>\n",
       "      <td>0</td>\n",
       "      <td>0</td>\n",
       "      <td>0</td>\n",
       "      <td>0</td>\n",
       "      <td>0</td>\n",
       "      <td>0</td>\n",
       "      <td>0</td>\n",
       "    </tr>\n",
       "    <tr>\n",
       "      <th>1</th>\n",
       "      <td>0</td>\n",
       "      <td>0</td>\n",
       "      <td>0</td>\n",
       "      <td>0</td>\n",
       "      <td>0</td>\n",
       "      <td>0</td>\n",
       "      <td>0</td>\n",
       "      <td>0</td>\n",
       "      <td>0</td>\n",
       "      <td>0</td>\n",
       "      <td>...</td>\n",
       "      <td>0</td>\n",
       "      <td>0</td>\n",
       "      <td>0</td>\n",
       "      <td>0</td>\n",
       "      <td>0</td>\n",
       "      <td>0</td>\n",
       "      <td>0</td>\n",
       "      <td>0</td>\n",
       "      <td>0</td>\n",
       "      <td>0</td>\n",
       "    </tr>\n",
       "    <tr>\n",
       "      <th>2</th>\n",
       "      <td>0</td>\n",
       "      <td>0</td>\n",
       "      <td>0</td>\n",
       "      <td>0</td>\n",
       "      <td>0</td>\n",
       "      <td>0</td>\n",
       "      <td>0</td>\n",
       "      <td>0</td>\n",
       "      <td>0</td>\n",
       "      <td>0</td>\n",
       "      <td>...</td>\n",
       "      <td>0</td>\n",
       "      <td>0</td>\n",
       "      <td>0</td>\n",
       "      <td>0</td>\n",
       "      <td>0</td>\n",
       "      <td>0</td>\n",
       "      <td>0</td>\n",
       "      <td>0</td>\n",
       "      <td>0</td>\n",
       "      <td>0</td>\n",
       "    </tr>\n",
       "    <tr>\n",
       "      <th>3</th>\n",
       "      <td>0</td>\n",
       "      <td>0</td>\n",
       "      <td>0</td>\n",
       "      <td>0</td>\n",
       "      <td>0</td>\n",
       "      <td>0</td>\n",
       "      <td>0</td>\n",
       "      <td>0</td>\n",
       "      <td>0</td>\n",
       "      <td>0</td>\n",
       "      <td>...</td>\n",
       "      <td>0</td>\n",
       "      <td>0</td>\n",
       "      <td>0</td>\n",
       "      <td>0</td>\n",
       "      <td>0</td>\n",
       "      <td>0</td>\n",
       "      <td>0</td>\n",
       "      <td>0</td>\n",
       "      <td>0</td>\n",
       "      <td>0</td>\n",
       "    </tr>\n",
       "    <tr>\n",
       "      <th>4</th>\n",
       "      <td>0</td>\n",
       "      <td>0</td>\n",
       "      <td>0</td>\n",
       "      <td>0</td>\n",
       "      <td>0</td>\n",
       "      <td>0</td>\n",
       "      <td>0</td>\n",
       "      <td>0</td>\n",
       "      <td>0</td>\n",
       "      <td>0</td>\n",
       "      <td>...</td>\n",
       "      <td>0</td>\n",
       "      <td>0</td>\n",
       "      <td>0</td>\n",
       "      <td>0</td>\n",
       "      <td>0</td>\n",
       "      <td>0</td>\n",
       "      <td>0</td>\n",
       "      <td>0</td>\n",
       "      <td>0</td>\n",
       "      <td>0</td>\n",
       "    </tr>\n",
       "  </tbody>\n",
       "</table>\n",
       "<p>5 rows × 39059 columns</p>\n",
       "</div>"
      ],
      "text/plain": [
       "   0300am  0600am  07earli  07g  0900pm  0d093  0d09328  0l  0x  10  ...  \\\n",
       "0       0       0        0    0       0      0        0   0   0   0  ...   \n",
       "1       0       0        0    0       0      0        0   0   0   0  ...   \n",
       "2       0       0        0    0       0      0        0   0   0   0  ...   \n",
       "3       0       0        0    0       0      0        0   0   0   0  ...   \n",
       "4       0       0        0    0       0      0        0   0   0   0  ...   \n",
       "\n",
       "   youtub  ytp  zelda  zetajon  zonda  zondai  zone  zoo  zoom  zygon  \n",
       "0       0    0      0        0      0       0     0    0     0      0  \n",
       "1       0    0      0        0      0       0     0    0     0      0  \n",
       "2       0    0      0        0      0       0     0    0     0      0  \n",
       "3       0    0      0        0      0       0     0    0     0      0  \n",
       "4       0    0      0        0      0       0     0    0     0      0  \n",
       "\n",
       "[5 rows x 39059 columns]"
      ]
     },
     "execution_count": 71,
     "metadata": {},
     "output_type": "execute_result"
    }
   ],
   "source": [
    "count_features = pd.DataFrame(transformer2.transform(df_all).toarray(),index=df_all.index,columns=vocab2)\n",
    "\n",
    "count_features.head()"
   ]
  },
  {
   "cell_type": "code",
   "execution_count": 72,
   "metadata": {},
   "outputs": [],
   "source": [
    "X2 = count_features"
   ]
  },
  {
   "cell_type": "code",
   "execution_count": 73,
   "metadata": {},
   "outputs": [],
   "source": [
    "X2_train, X2_test, y2_train, y2_test = train_test_split(X2, y, test_size=0.2, random_state=42, stratify=y)"
   ]
  },
  {
   "cell_type": "code",
   "execution_count": 77,
   "metadata": {},
   "outputs": [],
   "source": [
    "acc_list2 = []\n",
    "auroc_list2 =[]\n",
    "log_list2=[]"
   ]
  },
  {
   "cell_type": "markdown",
   "metadata": {},
   "source": [
    "### No1. Decision Tree"
   ]
  },
  {
   "cell_type": "code",
   "execution_count": 74,
   "metadata": {},
   "outputs": [
    {
     "data": {
      "text/plain": [
       "DecisionTreeClassifier(random_state=42)"
      ]
     },
     "execution_count": 74,
     "metadata": {},
     "output_type": "execute_result"
    }
   ],
   "source": [
    "tr2 = DecisionTreeClassifier(random_state=42)\n",
    "tr2.fit(X2_train, y2_train)"
   ]
  },
  {
   "cell_type": "code",
   "execution_count": 75,
   "metadata": {},
   "outputs": [
    {
     "name": "stdout",
     "output_type": "stream",
     "text": [
      "Decison Tree:\n",
      "Confusion Matrix\n",
      "[[[231  53]\n",
      "  [ 67  20]]\n",
      "\n",
      " [[258  49]\n",
      "  [ 51  13]]\n",
      "\n",
      " [[290  19]\n",
      "  [ 15  47]]\n",
      "\n",
      " [[309  13]\n",
      "  [ 22  27]]\n",
      "\n",
      " [[288  27]\n",
      "  [ 19  37]]\n",
      "\n",
      " [[306  12]\n",
      "  [ 18  35]]]\n",
      "\n",
      "Classification Report\n",
      "               precision    recall  f1-score   support\n",
      "\n",
      "       comedy       0.27      0.23      0.25        87\n",
      "entertainment       0.21      0.20      0.21        64\n",
      "         food       0.71      0.76      0.73        62\n",
      "         news       0.68      0.55      0.61        49\n",
      "         tech       0.58      0.66      0.62        56\n",
      "   videogames       0.74      0.66      0.70        53\n",
      "\n",
      "    micro avg       0.51      0.48      0.50       371\n",
      "    macro avg       0.53      0.51      0.52       371\n",
      " weighted avg       0.50      0.48      0.49       371\n",
      "  samples avg       0.48      0.48      0.48       371\n",
      "\n"
     ]
    },
    {
     "name": "stderr",
     "output_type": "stream",
     "text": [
      "C:\\Users\\Admin\\anaconda3\\lib\\site-packages\\sklearn\\metrics\\_classification.py:1318: UndefinedMetricWarning: Precision and F-score are ill-defined and being set to 0.0 in samples with no predicted labels. Use `zero_division` parameter to control this behavior.\n",
      "  _warn_prf(average, modifier, msg_start, len(result))\n"
     ]
    }
   ],
   "source": [
    "print(\"Decison Tree:\")\n",
    "print('Confusion Matrix')\n",
    "print(multilabel_confusion_matrix(y2_test, tr2.predict(X2_test)))\n",
    "print('')\n",
    "\n",
    "print(\"Classification Report\")\n",
    "print(classification_report(y2_test, tr2.predict(X2_test), target_names=target_names))"
   ]
  },
  {
   "cell_type": "code",
   "execution_count": 78,
   "metadata": {},
   "outputs": [],
   "source": [
    "y2_pred = tr2.predict(X2_test)\n",
    "print(\"Accuracy Score: \" + str(accuracy_score(y2_test, y2_pred)))"
   ]
  },
  {
   "cell_type": "code",
   "execution_count": 79,
   "metadata": {},
   "outputs": [],
   "source": [
    "tr_acc2 = accuracy_score(y2_test, y2_pred)\n",
    "tr_roc2 = roc_auc_score(y2_test, y2_pred, average=\"weighted\", multi_class=\"ovr\")\n",
    "tr_log2 = log_loss(y2_test, y2_pred)\n",
    "\n",
    "acc_list2.append(tr_acc2)\n",
    "auroc_list2.append(tr_roc2)\n",
    "log_list2.append(tr_log2)"
   ]
  },
  {
   "cell_type": "code",
   "execution_count": 46,
   "metadata": {
    "scrolled": true
   },
   "outputs": [
    {
     "name": "stdout",
     "output_type": "stream",
     "text": [
      "... Processing comedy\n",
      "Test accuracy is 0.7115902964959568\n",
      "... Processing entertainment\n",
      "Test accuracy is 0.7547169811320755\n",
      "... Processing food\n",
      "Test accuracy is 0.9164420485175202\n",
      "... Processing news\n",
      "Test accuracy is 0.9137466307277629\n",
      "... Processing tech\n",
      "Test accuracy is 0.889487870619946\n",
      "... Processing videogames\n",
      "Test accuracy is 0.9460916442048517\n"
     ]
    }
   ],
   "source": [
    "for category in target_names:\n",
    "    print('... Processing {}'.format(category))\n",
    "    # train the model using X_dtm & y\n",
    "    tr2.fit(X2_train, y2_train[category])\n",
    "    # compute the testing accuracy\n",
    "    prediction = tr2.predict(X2_test)\n",
    "    print('Test accuracy is {}'.format(accuracy_score(y2_test[category], prediction)))"
   ]
  },
  {
   "cell_type": "markdown",
   "metadata": {},
   "source": [
    "### No2. LogisticRegression"
   ]
  },
  {
   "cell_type": "code",
   "execution_count": 81,
   "metadata": {},
   "outputs": [
    {
     "name": "stderr",
     "output_type": "stream",
     "text": [
      "C:\\Users\\Admin\\anaconda3\\lib\\site-packages\\sklearn\\linear_model\\_sag.py:352: ConvergenceWarning: The max_iter was reached which means the coef_ did not converge\n",
      "  warnings.warn(\n",
      "C:\\Users\\Admin\\anaconda3\\lib\\site-packages\\sklearn\\linear_model\\_sag.py:352: ConvergenceWarning: The max_iter was reached which means the coef_ did not converge\n",
      "  warnings.warn(\n",
      "C:\\Users\\Admin\\anaconda3\\lib\\site-packages\\sklearn\\linear_model\\_sag.py:352: ConvergenceWarning: The max_iter was reached which means the coef_ did not converge\n",
      "  warnings.warn(\n",
      "C:\\Users\\Admin\\anaconda3\\lib\\site-packages\\sklearn\\linear_model\\_sag.py:352: ConvergenceWarning: The max_iter was reached which means the coef_ did not converge\n",
      "  warnings.warn(\n",
      "C:\\Users\\Admin\\anaconda3\\lib\\site-packages\\sklearn\\linear_model\\_sag.py:352: ConvergenceWarning: The max_iter was reached which means the coef_ did not converge\n",
      "  warnings.warn(\n",
      "C:\\Users\\Admin\\anaconda3\\lib\\site-packages\\sklearn\\linear_model\\_sag.py:352: ConvergenceWarning: The max_iter was reached which means the coef_ did not converge\n",
      "  warnings.warn(\n"
     ]
    },
    {
     "data": {
      "text/plain": [
       "Pipeline(steps=[('clf',\n",
       "                 OneVsRestClassifier(estimator=LogisticRegression(solver='sag'),\n",
       "                                     n_jobs=1))])"
      ]
     },
     "execution_count": 81,
     "metadata": {},
     "output_type": "execute_result"
    }
   ],
   "source": [
    "LogReg_pipeline2 = Pipeline([\n",
    "                ('clf', OneVsRestClassifier(LogisticRegression(solver='sag'), n_jobs=1)),\n",
    "            ])\n",
    "LogReg_pipeline2.fit(X2_train, y2_train)"
   ]
  },
  {
   "cell_type": "code",
   "execution_count": 82,
   "metadata": {},
   "outputs": [
    {
     "name": "stdout",
     "output_type": "stream",
     "text": [
      "Logistic Regression:\n",
      "Confusion Matrix\n",
      "[[[273  11]\n",
      "  [ 63  24]]\n",
      "\n",
      " [[296  11]\n",
      "  [ 52  12]]\n",
      "\n",
      " [[303   6]\n",
      "  [ 11  51]]\n",
      "\n",
      " [[321   1]\n",
      "  [ 31  18]]\n",
      "\n",
      " [[307   8]\n",
      "  [ 17  39]]\n",
      "\n",
      " [[315   3]\n",
      "  [ 12  41]]]\n",
      "\n",
      "Classification Report\n",
      "               precision    recall  f1-score   support\n",
      "\n",
      "       comedy       0.69      0.28      0.39        87\n",
      "entertainment       0.52      0.19      0.28        64\n",
      "         food       0.89      0.82      0.86        62\n",
      "         news       0.95      0.37      0.53        49\n",
      "         tech       0.83      0.70      0.76        56\n",
      "   videogames       0.93      0.77      0.85        53\n",
      "\n",
      "    micro avg       0.82      0.50      0.62       371\n",
      "    macro avg       0.80      0.52      0.61       371\n",
      " weighted avg       0.78      0.50      0.59       371\n",
      "  samples avg       0.49      0.50      0.49       371\n",
      "\n"
     ]
    },
    {
     "name": "stderr",
     "output_type": "stream",
     "text": [
      "C:\\Users\\Admin\\anaconda3\\lib\\site-packages\\sklearn\\metrics\\_classification.py:1318: UndefinedMetricWarning: Precision and F-score are ill-defined and being set to 0.0 in samples with no predicted labels. Use `zero_division` parameter to control this behavior.\n",
      "  _warn_prf(average, modifier, msg_start, len(result))\n"
     ]
    }
   ],
   "source": [
    "print(\"Logistic Regression:\")\n",
    "print('Confusion Matrix')\n",
    "print(multilabel_confusion_matrix(y_test, LogReg_pipeline2.predict(X2_test)))\n",
    "print('')\n",
    "\n",
    "print(\"Classification Report\")\n",
    "print(classification_report(y2_test, LogReg_pipeline2.predict(X2_test), target_names=target_names))"
   ]
  },
  {
   "cell_type": "code",
   "execution_count": 83,
   "metadata": {},
   "outputs": [],
   "source": [
    "y2_pred1 = LogReg_pipeline2.predict(X2_test)"
   ]
  },
  {
   "cell_type": "code",
   "execution_count": 84,
   "metadata": {},
   "outputs": [],
   "source": [
    "lr_acc2 = accuracy_score(y2_test, y2_pred1)\n",
    "lr_roc2 = roc_auc_score(y2_test, y2_pred1, average=\"weighted\", multi_class=\"ovr\")\n",
    "lr_log2 = log_loss(y2_test, y2_pred1)\n",
    "\n",
    "acc_list2.append(lr_acc2)\n",
    "auroc_list2.append(lr_roc2)\n",
    "log_list2.append(lr_log2)"
   ]
  },
  {
   "cell_type": "code",
   "execution_count": 50,
   "metadata": {},
   "outputs": [
    {
     "name": "stdout",
     "output_type": "stream",
     "text": [
      "... Processing comedy\n"
     ]
    },
    {
     "name": "stderr",
     "output_type": "stream",
     "text": [
      "C:\\Users\\Admin\\anaconda3\\lib\\site-packages\\sklearn\\linear_model\\_sag.py:352: ConvergenceWarning: The max_iter was reached which means the coef_ did not converge\n",
      "  warnings.warn(\n"
     ]
    },
    {
     "name": "stdout",
     "output_type": "stream",
     "text": [
      "Test accuracy is 0.8032345013477089\n",
      "... Processing entertainment\n"
     ]
    },
    {
     "name": "stderr",
     "output_type": "stream",
     "text": [
      "C:\\Users\\Admin\\anaconda3\\lib\\site-packages\\sklearn\\linear_model\\_sag.py:352: ConvergenceWarning: The max_iter was reached which means the coef_ did not converge\n",
      "  warnings.warn(\n"
     ]
    },
    {
     "name": "stdout",
     "output_type": "stream",
     "text": [
      "Test accuracy is 0.8301886792452831\n",
      "... Processing food\n"
     ]
    },
    {
     "name": "stderr",
     "output_type": "stream",
     "text": [
      "C:\\Users\\Admin\\anaconda3\\lib\\site-packages\\sklearn\\linear_model\\_sag.py:352: ConvergenceWarning: The max_iter was reached which means the coef_ did not converge\n",
      "  warnings.warn(\n"
     ]
    },
    {
     "name": "stdout",
     "output_type": "stream",
     "text": [
      "Test accuracy is 0.954177897574124\n",
      "... Processing news\n"
     ]
    },
    {
     "name": "stderr",
     "output_type": "stream",
     "text": [
      "C:\\Users\\Admin\\anaconda3\\lib\\site-packages\\sklearn\\linear_model\\_sag.py:352: ConvergenceWarning: The max_iter was reached which means the coef_ did not converge\n",
      "  warnings.warn(\n"
     ]
    },
    {
     "name": "stdout",
     "output_type": "stream",
     "text": [
      "Test accuracy is 0.9137466307277629\n",
      "... Processing tech\n"
     ]
    },
    {
     "name": "stderr",
     "output_type": "stream",
     "text": [
      "C:\\Users\\Admin\\anaconda3\\lib\\site-packages\\sklearn\\linear_model\\_sag.py:352: ConvergenceWarning: The max_iter was reached which means the coef_ did not converge\n",
      "  warnings.warn(\n"
     ]
    },
    {
     "name": "stdout",
     "output_type": "stream",
     "text": [
      "Test accuracy is 0.9326145552560647\n",
      "... Processing videogames\n",
      "Test accuracy is 0.9595687331536388\n"
     ]
    },
    {
     "name": "stderr",
     "output_type": "stream",
     "text": [
      "C:\\Users\\Admin\\anaconda3\\lib\\site-packages\\sklearn\\linear_model\\_sag.py:352: ConvergenceWarning: The max_iter was reached which means the coef_ did not converge\n",
      "  warnings.warn(\n"
     ]
    }
   ],
   "source": [
    "for category in target_names:\n",
    "    print('... Processing {}'.format(category))\n",
    "    # train the model using X_dtm & y\n",
    "    LogReg_pipeline2.fit(X2_train, y2_train[category])\n",
    "    # compute the testing accuracy\n",
    "    prediction = LogReg_pipeline2.predict(X2_test)\n",
    "    print('Test accuracy is {}'.format(accuracy_score(y2_test[category], prediction)))"
   ]
  },
  {
   "cell_type": "markdown",
   "metadata": {},
   "source": [
    "### No3. K-Nearest Neighbour"
   ]
  },
  {
   "cell_type": "code",
   "execution_count": 85,
   "metadata": {
    "scrolled": true
   },
   "outputs": [
    {
     "name": "stdout",
     "output_type": "stream",
     "text": [
      "Maximum accuracy:- 0.431266846361186 at K = 0\n"
     ]
    },
    {
     "data": {
      "image/png": "[encoded data removed]",
      "text/plain": [
       "<Figure size 720x432 with 1 Axes>"
      ]
     },
     "metadata": {
      "needs_background": "light"
     },
     "output_type": "display_data"
    }
   ],
   "source": [
    "acc = []\n",
    "# Will take some time\n",
    "for i in range(1,40):\n",
    "    neigh = KNeighborsClassifier(n_neighbors = i).fit(X2_train,y2_train)\n",
    "    yhat = neigh.predict(X2_test)\n",
    "    acc.append(metrics.accuracy_score(y2_test, yhat))\n",
    "    \n",
    "plt.figure(figsize=(10,6))\n",
    "plt.plot(range(1,40),acc,color = 'blue',linestyle='dashed', \n",
    "         marker='o',markerfacecolor='red', markersize=10)\n",
    "plt.title('accuracy vs. K Value')\n",
    "plt.xlabel('K')\n",
    "plt.ylabel('Accuracy')\n",
    "print(\"Maximum accuracy:-\",max(acc),\"at K =\",acc.index(max(acc)))"
   ]
  },
  {
   "cell_type": "markdown",
   "metadata": {},
   "source": [
    "Since K cannot be 0, K will be 2 as it is the next most accurate"
   ]
  },
  {
   "cell_type": "code",
   "execution_count": 86,
   "metadata": {},
   "outputs": [],
   "source": [
    "k=2\n",
    "knn_clf2=KNeighborsClassifier(n_neighbors = k)\n",
    "knn_clf2.fit(X2_train,y2_train)\n",
    "y2_pred2=knn_clf2.predict(X2_test)"
   ]
  },
  {
   "cell_type": "code",
   "execution_count": 87,
   "metadata": {},
   "outputs": [
    {
     "name": "stdout",
     "output_type": "stream",
     "text": [
      "KNN Classifier: \n",
      "Confusion Matrix\n",
      "[[[253  31]\n",
      "  [ 69  18]]\n",
      "\n",
      " [[292  15]\n",
      "  [ 61   3]]\n",
      "\n",
      " [[300   9]\n",
      "  [ 35  27]]\n",
      "\n",
      " [[320   2]\n",
      "  [ 39  10]]\n",
      "\n",
      " [[311   4]\n",
      "  [ 32  24]]\n",
      "\n",
      " [[315   3]\n",
      "  [ 20  33]]]\n",
      "\n",
      "Classification Report:\n",
      "              precision    recall  f1-score   support\n",
      "\n",
      "           0       0.37      0.21      0.26        87\n",
      "           1       0.17      0.05      0.07        64\n",
      "           2       0.75      0.44      0.55        62\n",
      "           3       0.83      0.20      0.33        49\n",
      "           4       0.86      0.43      0.57        56\n",
      "           5       0.92      0.62      0.74        53\n",
      "\n",
      "   micro avg       0.64      0.31      0.42       371\n",
      "   macro avg       0.65      0.32      0.42       371\n",
      "weighted avg       0.61      0.31      0.40       371\n",
      " samples avg       0.31      0.31      0.31       371\n",
      "\n"
     ]
    },
    {
     "name": "stderr",
     "output_type": "stream",
     "text": [
      "C:\\Users\\Admin\\anaconda3\\lib\\site-packages\\sklearn\\metrics\\_classification.py:1318: UndefinedMetricWarning: Precision and F-score are ill-defined and being set to 0.0 in samples with no predicted labels. Use `zero_division` parameter to control this behavior.\n",
      "  _warn_prf(average, modifier, msg_start, len(result))\n"
     ]
    }
   ],
   "source": [
    "print(\"KNN Classifier: \")\n",
    "print('Confusion Matrix')\n",
    "print(multilabel_confusion_matrix(y2_test, y2_pred2))\n",
    "print('')\n",
    "\n",
    "print(\"Classification Report:\")\n",
    "print(classification_report(y2_test, y2_pred2))"
   ]
  },
  {
   "cell_type": "code",
   "execution_count": 88,
   "metadata": {},
   "outputs": [],
   "source": [
    "knn_acc2 = accuracy_score(y2_test, y2_pred2)\n",
    "knn_roc2 = roc_auc_score(y2_test, y2_pred2, average=\"weighted\", multi_class=\"ovr\")\n",
    "knn_log2 = log_loss(y2_test, y2_pred2)\n",
    "\n",
    "acc_list2.append(knn_acc2)\n",
    "auroc_list2.append(knn_roc2)\n",
    "log_list2.append(knn_log2)"
   ]
  },
  {
   "cell_type": "code",
   "execution_count": 57,
   "metadata": {},
   "outputs": [
    {
     "name": "stdout",
     "output_type": "stream",
     "text": [
      "... Processing comedy\n",
      "Test accuracy is 0.7304582210242587\n",
      "... Processing entertainment\n",
      "Test accuracy is 0.7951482479784366\n",
      "... Processing food\n",
      "Test accuracy is 0.8814016172506739\n",
      "... Processing news\n",
      "Test accuracy is 0.889487870619946\n",
      "... Processing tech\n",
      "Test accuracy is 0.9029649595687331\n",
      "... Processing videogames\n",
      "Test accuracy is 0.9380053908355795\n"
     ]
    }
   ],
   "source": [
    "for category in target_names:\n",
    "    print('... Processing {}'.format(category))\n",
    "    # train the model using X_dtm & y\n",
    "    knn_clf2.fit(X2_train, y2_train[category])\n",
    "    # compute the testing accuracy\n",
    "    prediction = knn_clf2.predict(X2_test)\n",
    "    print('Test accuracy is {}'.format(accuracy_score(y2_test[category], prediction)))"
   ]
  },
  {
   "cell_type": "markdown",
   "metadata": {},
   "source": [
    "### No4. Naive Bayes"
   ]
  },
  {
   "cell_type": "code",
   "execution_count": 89,
   "metadata": {},
   "outputs": [
    {
     "data": {
      "text/plain": [
       "Pipeline(steps=[('clf', OneVsRestClassifier(estimator=MultinomialNB()))])"
      ]
     },
     "execution_count": 89,
     "metadata": {},
     "output_type": "execute_result"
    }
   ],
   "source": [
    "NB_pipeline2 = Pipeline([\n",
    "                ('clf', OneVsRestClassifier(MultinomialNB(\n",
    "                    fit_prior=True, class_prior=None))),\n",
    "            ])\n",
    "NB_pipeline2.fit(X2_train, y2_train)"
   ]
  },
  {
   "cell_type": "code",
   "execution_count": 90,
   "metadata": {
    "scrolled": true
   },
   "outputs": [
    {
     "name": "stdout",
     "output_type": "stream",
     "text": [
      "Naive Bayes:\n",
      "Confusion Matrix\n",
      "[[[224  60]\n",
      "  [ 32  55]]\n",
      "\n",
      " [[233  74]\n",
      "  [ 14  50]]\n",
      "\n",
      " [[287  22]\n",
      "  [  4  58]]\n",
      "\n",
      " [[317   5]\n",
      "  [ 14  35]]\n",
      "\n",
      " [[299  16]\n",
      "  [  3  53]]\n",
      "\n",
      " [[305  13]\n",
      "  [  2  51]]]\n",
      "\n",
      "Classification Report\n",
      "               precision    recall  f1-score   support\n",
      "\n",
      "       comedy       0.48      0.63      0.54        87\n",
      "entertainment       0.40      0.78      0.53        64\n",
      "         food       0.72      0.94      0.82        62\n",
      "         news       0.88      0.71      0.79        49\n",
      "         tech       0.77      0.95      0.85        56\n",
      "   videogames       0.80      0.96      0.87        53\n",
      "\n",
      "    micro avg       0.61      0.81      0.70       371\n",
      "    macro avg       0.67      0.83      0.73       371\n",
      " weighted avg       0.65      0.81      0.71       371\n",
      "  samples avg       0.64      0.81      0.70       371\n",
      "\n"
     ]
    },
    {
     "name": "stderr",
     "output_type": "stream",
     "text": [
      "C:\\Users\\Admin\\anaconda3\\lib\\site-packages\\sklearn\\metrics\\_classification.py:1318: UndefinedMetricWarning: Precision and F-score are ill-defined and being set to 0.0 in samples with no predicted labels. Use `zero_division` parameter to control this behavior.\n",
      "  _warn_prf(average, modifier, msg_start, len(result))\n"
     ]
    }
   ],
   "source": [
    "print(\"Naive Bayes:\")\n",
    "print('Confusion Matrix')\n",
    "print(multilabel_confusion_matrix(y2_test, NB_pipeline2.predict(X2_test)))\n",
    "print('')\n",
    "\n",
    "print(\"Classification Report\")\n",
    "print(classification_report(y2_test, NB_pipeline2.predict(X2_test), target_names=target_names))"
   ]
  },
  {
   "cell_type": "code",
   "execution_count": 91,
   "metadata": {},
   "outputs": [],
   "source": [
    "y2_pred3 = NB_pipeline2.predict(X2_test)"
   ]
  },
  {
   "cell_type": "code",
   "execution_count": 92,
   "metadata": {},
   "outputs": [],
   "source": [
    "nb_acc2 = accuracy_score(y2_test, y2_pred3)\n",
    "nb_roc2 = roc_auc_score(y2_test, y2_pred3, average=\"weighted\", multi_class=\"ovr\")\n",
    "nb_log2 = log_loss(y2_test, y2_pred3)\n",
    "\n",
    "acc_list2.append(nb_acc2)\n",
    "auroc_list2.append(nb_roc2)\n",
    "log_list2.append(nb_log2)"
   ]
  },
  {
   "cell_type": "code",
   "execution_count": 61,
   "metadata": {},
   "outputs": [
    {
     "name": "stdout",
     "output_type": "stream",
     "text": [
      "... Processing comedy\n",
      "Test accuracy is 0.7520215633423181\n",
      "... Processing entertainment\n",
      "Test accuracy is 0.7628032345013477\n",
      "... Processing food\n",
      "Test accuracy is 0.9299191374663073\n",
      "... Processing news\n",
      "Test accuracy is 0.9487870619946092\n",
      "... Processing tech\n",
      "Test accuracy is 0.9487870619946092\n",
      "... Processing videogames\n",
      "Test accuracy is 0.9595687331536388\n"
     ]
    }
   ],
   "source": [
    "for category in target_names:\n",
    "    print('... Processing {}'.format(category))\n",
    "    # train the model using X_dtm & y\n",
    "    NB_pipeline2.fit(X2_train, y2_train[category])\n",
    "    # compute the testing accuracy\n",
    "    prediction = NB_pipeline2.predict(X2_test)\n",
    "    print('Test accuracy is {}'.format(accuracy_score(y2_test[category], prediction)))"
   ]
  },
  {
   "cell_type": "markdown",
   "metadata": {},
   "source": [
    "### No5. Random Forest"
   ]
  },
  {
   "cell_type": "code",
   "execution_count": 93,
   "metadata": {},
   "outputs": [
    {
     "data": {
      "text/plain": [
       "RandomForestClassifier(random_state=42)"
      ]
     },
     "execution_count": 93,
     "metadata": {},
     "output_type": "execute_result"
    }
   ],
   "source": [
    "rfc2 = RandomForestClassifier(random_state = 42)\n",
    "rfc2.fit(X2_train, y2_train)"
   ]
  },
  {
   "cell_type": "code",
   "execution_count": 94,
   "metadata": {},
   "outputs": [
    {
     "name": "stdout",
     "output_type": "stream",
     "text": [
      "Random Forest:\n",
      "Confusion Matrix\n",
      "[[[249  35]\n",
      "  [ 76  11]]\n",
      "\n",
      " [[268  39]\n",
      "  [ 64   0]]\n",
      "\n",
      " [[296  13]\n",
      "  [ 18  44]]\n",
      "\n",
      " [[320   2]\n",
      "  [ 47   2]]\n",
      "\n",
      " [[303  12]\n",
      "  [ 26  30]]\n",
      "\n",
      " [[318   0]\n",
      "  [ 41  12]]]\n",
      "\n",
      "Classification Report\n",
      "               precision    recall  f1-score   support\n",
      "\n",
      "       comedy       0.24      0.13      0.17        87\n",
      "entertainment       0.00      0.00      0.00        64\n",
      "         food       0.77      0.71      0.74        62\n",
      "         news       0.50      0.04      0.08        49\n",
      "         tech       0.71      0.54      0.61        56\n",
      "   videogames       1.00      0.23      0.37        53\n",
      "\n",
      "    micro avg       0.49      0.27      0.35       371\n",
      "    macro avg       0.54      0.27      0.33       371\n",
      " weighted avg       0.50      0.27      0.32       371\n",
      "  samples avg       0.27      0.27      0.27       371\n",
      "\n"
     ]
    },
    {
     "name": "stderr",
     "output_type": "stream",
     "text": [
      "C:\\Users\\Admin\\anaconda3\\lib\\site-packages\\sklearn\\metrics\\_classification.py:1318: UndefinedMetricWarning: Precision and F-score are ill-defined and being set to 0.0 in samples with no predicted labels. Use `zero_division` parameter to control this behavior.\n",
      "  _warn_prf(average, modifier, msg_start, len(result))\n"
     ]
    }
   ],
   "source": [
    "print(\"Random Forest:\")\n",
    "print('Confusion Matrix')\n",
    "print(multilabel_confusion_matrix(y2_test, rfc2.predict(X2_test)))\n",
    "print('')\n",
    "\n",
    "print(\"Classification Report\")\n",
    "print(classification_report(y2_test, rfc2.predict(X2_test), target_names=target_names))"
   ]
  },
  {
   "cell_type": "code",
   "execution_count": 95,
   "metadata": {},
   "outputs": [],
   "source": [
    "y2_pred4 = rfc2.predict(X2_test)"
   ]
  },
  {
   "cell_type": "code",
   "execution_count": 96,
   "metadata": {},
   "outputs": [],
   "source": [
    "rfc_acc2 = accuracy_score(y2_test, y2_pred4)\n",
    "rfc_roc2 = roc_auc_score(y2_test, y2_pred4, average=\"weighted\", multi_class=\"ovr\")\n",
    "rfc_log2 = log_loss(y2_test, y2_pred4)\n",
    "\n",
    "acc_list2.append(rfc_acc2)\n",
    "auroc_list2.append(rfc_roc2)\n",
    "log_list2.append(rfc_log2)"
   ]
  },
  {
   "cell_type": "code",
   "execution_count": 66,
   "metadata": {
    "scrolled": false
   },
   "outputs": [
    {
     "name": "stdout",
     "output_type": "stream",
     "text": [
      "... Processing comedy\n",
      "Test accuracy is 0.6792452830188679\n",
      "... Processing entertainment\n",
      "Test accuracy is 0.7277628032345014\n",
      "... Processing food\n",
      "Test accuracy is 0.9083557951482479\n",
      "... Processing news\n",
      "Test accuracy is 0.8840970350404312\n",
      "... Processing tech\n",
      "Test accuracy is 0.9002695417789758\n",
      "... Processing videogames\n",
      "Test accuracy is 0.9245283018867925\n"
     ]
    }
   ],
   "source": [
    "for category in target_names:\n",
    "    print('... Processing {}'.format(category))\n",
    "    # train the model using X_dtm & y\n",
    "    rfc2.fit(X2_train, y2_train[category])\n",
    "    # compute the testing accuracy\n",
    "    prediction = rfc2.predict(X2_test)\n",
    "    print('Test accuracy is {}'.format(accuracy_score(y2_test[category], prediction)))"
   ]
  },
  {
   "cell_type": "markdown",
   "metadata": {},
   "source": [
    "## Evaluation\n",
    "Perform the necessary steps and explain the rationale taken here.\n",
    "\n"
   ]
  },
  {
   "cell_type": "code",
   "execution_count": 68,
   "metadata": {},
   "outputs": [],
   "source": [
    "model_list1 = ['Decision Tree', 'Logistic', 'KNN', 'Naive Bayes', 'SVC', 'Random Forest']"
   ]
  },
  {
   "cell_type": "code",
   "execution_count": 69,
   "metadata": {},
   "outputs": [
    {
     "data": {
      "text/html": [
       "<div>\n",
       "<style scoped>\n",
       "    .dataframe tbody tr th:only-of-type {\n",
       "        vertical-align: middle;\n",
       "    }\n",
       "\n",
       "    .dataframe tbody tr th {\n",
       "        vertical-align: top;\n",
       "    }\n",
       "\n",
       "    .dataframe thead th {\n",
       "        text-align: right;\n",
       "    }\n",
       "</style>\n",
       "<table border=\"1\" class=\"dataframe\">\n",
       "  <thead>\n",
       "    <tr style=\"text-align: right;\">\n",
       "      <th></th>\n",
       "      <th>Model Name</th>\n",
       "      <th>Accuracy</th>\n",
       "      <th>ROC AUC Score</th>\n",
       "      <th>Log Loss</th>\n",
       "    </tr>\n",
       "  </thead>\n",
       "  <tbody>\n",
       "    <tr>\n",
       "      <th>0</th>\n",
       "      <td>Decision Tree</td>\n",
       "      <td>0.479784</td>\n",
       "      <td>0.690165</td>\n",
       "      <td>15.496138</td>\n",
       "    </tr>\n",
       "    <tr>\n",
       "      <th>1</th>\n",
       "      <td>Logistic</td>\n",
       "      <td>0.355795</td>\n",
       "      <td>0.656984</td>\n",
       "      <td>6.976914</td>\n",
       "    </tr>\n",
       "    <tr>\n",
       "      <th>2</th>\n",
       "      <td>KNN</td>\n",
       "      <td>0.504043</td>\n",
       "      <td>0.744733</td>\n",
       "      <td>3.095308</td>\n",
       "    </tr>\n",
       "    <tr>\n",
       "      <th>3</th>\n",
       "      <td>Naive Bayes</td>\n",
       "      <td>0.056604</td>\n",
       "      <td>0.528302</td>\n",
       "      <td>1.690339</td>\n",
       "    </tr>\n",
       "    <tr>\n",
       "      <th>4</th>\n",
       "      <td>SVC</td>\n",
       "      <td>0.555256</td>\n",
       "      <td>0.747835</td>\n",
       "      <td>9.617641</td>\n",
       "    </tr>\n",
       "    <tr>\n",
       "      <th>5</th>\n",
       "      <td>Random Forest</td>\n",
       "      <td>0.250674</td>\n",
       "      <td>0.593430</td>\n",
       "      <td>10.169301</td>\n",
       "    </tr>\n",
       "  </tbody>\n",
       "</table>\n",
       "</div>"
      ],
      "text/plain": [
       "      Model Name  Accuracy  ROC AUC Score   Log Loss\n",
       "0  Decision Tree  0.479784       0.690165  15.496138\n",
       "1       Logistic  0.355795       0.656984   6.976914\n",
       "2            KNN  0.504043       0.744733   3.095308\n",
       "3    Naive Bayes  0.056604       0.528302   1.690339\n",
       "4            SVC  0.555256       0.747835   9.617641\n",
       "5  Random Forest  0.250674       0.593430  10.169301"
      ]
     },
     "execution_count": 69,
     "metadata": {},
     "output_type": "execute_result"
    }
   ],
   "source": [
    "tfidf_df = pd.DataFrame(list(zip(model_list1,acc_list, auroc_list, log_list)),\n",
    "               columns =['Model Name','Accuracy', 'ROC AUC Score', 'Log Loss'])\n",
    "tfidf_df"
   ]
  },
  {
   "cell_type": "markdown",
   "metadata": {},
   "source": [
    "For TF-IDF, LinearSVC has the highest accuracy of 0.555256064690027, second highest is KNN with accuracy of 0.5040431266846361, followed by decision tree, logistic regression, Random Forest and Naive Bayes. Accuracy is not the most accurate measurement as it does not take class imbalance into account hence I did more measurements like ROC AUC Score and Log Loss score which means the lower the better. Based on the table we can see that SVC which has the best accuracy, has a ROC AUC Score as well but a bad log loss. Comparing to the second highest accuracy model which is KNN, KNN has lower ROC AUC score by roughly 0.003 and a way lower log loss. Therefore KNN is a better model than SVC but if we just based it on accuracy we will conclude that SVC is better therefore this is why its important to look at various measurement then make decision on which model is the best. "
   ]
  },
  {
   "cell_type": "markdown",
   "metadata": {},
   "source": [
    "For LinearSVC predicting video games has the highest test accuracy and the highest overall confusion matrix, with high true positive rate and low negative rates. For Naive Bayes which has the lowest accuracy, test accuracy for 'Food' category is the highest."
   ]
  },
  {
   "cell_type": "code",
   "execution_count": 97,
   "metadata": {},
   "outputs": [],
   "source": [
    "model_list2 = ['Decision Tree', 'Logistic', 'KNN', 'Naive Bayes','Random Forest']"
   ]
  },
  {
   "cell_type": "code",
   "execution_count": 98,
   "metadata": {},
   "outputs": [
    {
     "data": {
      "text/html": [
       "<div>\n",
       "<style scoped>\n",
       "    .dataframe tbody tr th:only-of-type {\n",
       "        vertical-align: middle;\n",
       "    }\n",
       "\n",
       "    .dataframe tbody tr th {\n",
       "        vertical-align: top;\n",
       "    }\n",
       "\n",
       "    .dataframe thead th {\n",
       "        text-align: right;\n",
       "    }\n",
       "</style>\n",
       "<table border=\"1\" class=\"dataframe\">\n",
       "  <thead>\n",
       "    <tr style=\"text-align: right;\">\n",
       "      <th></th>\n",
       "      <th>Model Name</th>\n",
       "      <th>Accuracy</th>\n",
       "      <th>ROC AUC Score</th>\n",
       "      <th>Log Loss</th>\n",
       "    </tr>\n",
       "  </thead>\n",
       "  <tbody>\n",
       "    <tr>\n",
       "      <th>0</th>\n",
       "      <td>Decision Tree</td>\n",
       "      <td>0.482480</td>\n",
       "      <td>0.688623</td>\n",
       "      <td>16.197444</td>\n",
       "    </tr>\n",
       "    <tr>\n",
       "      <th>1</th>\n",
       "      <td>Logistic</td>\n",
       "      <td>0.479784</td>\n",
       "      <td>0.737276</td>\n",
       "      <td>3.824180</td>\n",
       "    </tr>\n",
       "    <tr>\n",
       "      <th>2</th>\n",
       "      <td>KNN</td>\n",
       "      <td>0.309973</td>\n",
       "      <td>0.633498</td>\n",
       "      <td>6.885443</td>\n",
       "    </tr>\n",
       "    <tr>\n",
       "      <th>3</th>\n",
       "      <td>Naive Bayes</td>\n",
       "      <td>0.485175</td>\n",
       "      <td>0.847718</td>\n",
       "      <td>5.081471</td>\n",
       "    </tr>\n",
       "    <tr>\n",
       "      <th>4</th>\n",
       "      <td>Random Forest</td>\n",
       "      <td>0.266846</td>\n",
       "      <td>0.601215</td>\n",
       "      <td>10.228591</td>\n",
       "    </tr>\n",
       "  </tbody>\n",
       "</table>\n",
       "</div>"
      ],
      "text/plain": [
       "      Model Name  Accuracy  ROC AUC Score   Log Loss\n",
       "0  Decision Tree  0.482480       0.688623  16.197444\n",
       "1       Logistic  0.479784       0.737276   3.824180\n",
       "2            KNN  0.309973       0.633498   6.885443\n",
       "3    Naive Bayes  0.485175       0.847718   5.081471\n",
       "4  Random Forest  0.266846       0.601215  10.228591"
      ]
     },
     "execution_count": 98,
     "metadata": {},
     "output_type": "execute_result"
    }
   ],
   "source": [
    "tf_df = pd.DataFrame(list(zip(model_list2,acc_list2, auroc_list2, log_list2)),\n",
    "               columns =['Model Name','Accuracy', 'ROC AUC Score', 'Log Loss'])\n",
    "tf_df"
   ]
  },
  {
   "cell_type": "markdown",
   "metadata": {},
   "source": [
    "For Term Frequency, Naive Bayes has the highest accuracy of 0.48517520215633425, next is decision tree with accuracy of 0.48247978436657685, followed by logistic regression, KNN, and lastly Random Forest. Decision Tree has a very high log loss therefore 3rd best accuracy is logistic regression. In all 3 column Naive Bayes and Logistic Regression has quite a close measurement but Naive Bayes has better measurement in 2/3 column compared to logistic regression, hence Naive Bayes is the best model for using Term Frequency."
   ]
  },
  {
   "cell_type": "markdown",
   "metadata": {},
   "source": [
    "For the highest accuracy classifer, Naive Bayes has the highest test accuracy for videogames which is same as LinearSVC at TF-IDF. For the worst accuracy which is random forest, videogames has the highest test accuracy as well."
   ]
  },
  {
   "cell_type": "markdown",
   "metadata": {},
   "source": [
    "Using TF-IDF overall gives better result compared to Term Frequency. "
   ]
  }
 ],
 "metadata": {
  "kernelspec": {
   "display_name": "Python 3 (ipykernel)",
   "language": "python",
   "name": "python3"
  },
  "language_info": {
   "codemirror_mode": {
    "name": "ipython",
    "version": 3
   },
   "file_extension": ".py",
   "mimetype": "text/x-python",
   "name": "python",
   "nbconvert_exporter": "python",
   "pygments_lexer": "ipython3",
   "version": "3.9.12"
  }
 },
 "nbformat": 4,
 "nbformat_minor": 4
}
